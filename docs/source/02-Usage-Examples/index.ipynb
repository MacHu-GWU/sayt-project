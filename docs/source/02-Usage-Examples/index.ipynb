{
 "cells": [
  {
   "cell_type": "markdown",
   "id": "cc2b57e5-9ba9-4146-bd85-963b561d3b87",
   "metadata": {},
   "source": [
    "# Usage Example\n",
    "\n",
    "For the comprehensive guide of the query language, read this: https://whoosh.readthedocs.io/en/latest/querylang.html\n",
    "\n",
    "## Import ``sayt``"
   ]
  },
  {
   "cell_type": "code",
   "execution_count": 1,
   "id": "6b421937-d222-4d11-bf83-008d3093a239",
   "metadata": {},
   "outputs": [],
   "source": [
    "from sayt.api import (\n",
    "    DataSet,\n",
    "    IdField,\n",
    "    TextField,\n",
    "    NumericField,\n",
    "    NgramField,\n",
    ")"
   ]
  },
  {
   "cell_type": "code",
   "execution_count": 2,
   "id": "628abc13-3f7d-429d-a5e9-cd16ff812ca4",
   "metadata": {},
   "outputs": [],
   "source": [
    "import os\n",
    "import uuid\n",
    "import random\n",
    "from pathlib import Path\n",
    "\n",
    "import faker\n",
    "from fixa.timer import DateTimeTimer\n",
    "from diskcache import Cache\n",
    "from rich import print as rprint"
   ]
  },
  {
   "cell_type": "code",
   "execution_count": 3,
   "id": "2fd10d2f-3c2a-44a1-b1b7-7c7f3f41502f",
   "metadata": {},
   "outputs": [],
   "source": [
    "dir_here = Path(os.getcwd())\n",
    "\n",
    "fake = faker.Faker()"
   ]
  },
  {
   "cell_type": "markdown",
   "id": "a1618fd0-b6de-40e4-a47e-3ec656144d36",
   "metadata": {},
   "source": [
    "## Define your dataset schema"
   ]
  },
  {
   "cell_type": "code",
   "execution_count": 32,
   "id": "08c73e69-79d0-4416-bbda-fbbd06dc7a0b",
   "metadata": {},
   "outputs": [],
   "source": [
    "ds = DataSet(\n",
    "    dir_index=dir_here.joinpath(\".index\"), # where the index locate\n",
    "    index_name=\"my-dataset\", # unique name of your dataset\n",
    "    fields=[\n",
    "        # unique ID field\n",
    "        IdField(name=\"id\", stored=True),\n",
    "        # match by token (word) or phrase\n",
    "        TextField(name=\"title\", stored=True),\n",
    "        # match by n-gram characters\n",
    "        NgramField(\n",
    "            name=\"author\",\n",
    "            stored=True,\n",
    "            minsize=2,\n",
    "            maxsize=6,\n",
    "        ),\n",
    "        # range query\n",
    "        NumericField(\n",
    "            name=\"year\",\n",
    "            stored=True,\n",
    "            sortable=True,\n",
    "            ascending=False,\n",
    "        ),\n",
    "    ],\n",
    "    cache=Cache(str(dir_here.joinpath(\".cache\")), tag_index=True), # where the cache locate\n",
    "    cache_key=\"my-dataset\", # unique cache key for your dataset\n",
    "    cache_expire=10, # how long cache expire (in seconds)\n",
    "    cache_tag=\"dev\", # a tag can be used to do batch delete. if you want to delete cache for many dataset, give them the same tag\n",
    ")\n",
    "ds.remove_all_index()"
   ]
  },
  {
   "cell_type": "markdown",
   "id": "49803418-0c2d-4c32-90a9-65c089319482",
   "metadata": {},
   "source": [
    "insert some dummy data for testing"
   ]
  },
  {
   "cell_type": "code",
   "execution_count": 33,
   "id": "390412a9-1598-4fe9-a4cd-cc34877273dd",
   "metadata": {},
   "outputs": [],
   "source": [
    "data = [\n",
    "    {\n",
    "        \"id\": \"id-1234\",\n",
    "        \"title\": \"Sustainable Energy - without the hot air\",\n",
    "        \"author\": \"MacKay, David JC\",\n",
    "        \"year\": 2009,\n",
    "    },\n",
    "]\n",
    "\n",
    "ds.build_index(data=data)"
   ]
  },
  {
   "cell_type": "code",
   "execution_count": 34,
   "id": "b7c293a7-1ab0-4cd6-93de-949d57e35ffa",
   "metadata": {},
   "outputs": [],
   "source": [
    "def run_query(query):\n",
    "    res = ds.search(query)\n",
    "    rprint(res)"
   ]
  },
  {
   "cell_type": "markdown",
   "id": "e3065a8f-ecb4-47f8-add7-7cb48ce40176",
   "metadata": {},
   "source": [
    "## Multi Field Match"
   ]
  },
  {
   "cell_type": "code",
   "execution_count": 35,
   "id": "ff6b1183-fc85-4637-83b7-543be7729b92",
   "metadata": {},
   "outputs": [
    {
     "data": {
      "text/html": [
       "<pre style=\"white-space:pre;overflow-x:auto;line-height:normal;font-family:Menlo,'DejaVu Sans Mono',consolas,'Courier New',monospace\"><span style=\"font-weight: bold\">[</span>\n",
       "    <span style=\"font-weight: bold\">{</span>\n",
       "        <span style=\"color: #008000; text-decoration-color: #008000\">'author'</span>: <span style=\"color: #008000; text-decoration-color: #008000\">'MacKay, David JC'</span>,\n",
       "        <span style=\"color: #008000; text-decoration-color: #008000\">'id'</span>: <span style=\"color: #008000; text-decoration-color: #008000\">'id-1234'</span>,\n",
       "        <span style=\"color: #008000; text-decoration-color: #008000\">'title'</span>: <span style=\"color: #008000; text-decoration-color: #008000\">'Sustainable Energy - without the hot air'</span>,\n",
       "        <span style=\"color: #008000; text-decoration-color: #008000\">'year'</span>: <span style=\"color: #008080; text-decoration-color: #008080; font-weight: bold\">2009</span>\n",
       "    <span style=\"font-weight: bold\">}</span>\n",
       "<span style=\"font-weight: bold\">]</span>\n",
       "</pre>\n"
      ],
      "text/plain": [
       "\u001B[1m[\u001B[0m\n",
       "    \u001B[1m{\u001B[0m\n",
       "        \u001B[32m'author'\u001B[0m: \u001B[32m'MacKay, David JC'\u001B[0m,\n",
       "        \u001B[32m'id'\u001B[0m: \u001B[32m'id-1234'\u001B[0m,\n",
       "        \u001B[32m'title'\u001B[0m: \u001B[32m'Sustainable Energy - without the hot air'\u001B[0m,\n",
       "        \u001B[32m'year'\u001B[0m: \u001B[1;36m2009\u001B[0m\n",
       "    \u001B[1m}\u001B[0m\n",
       "\u001B[1m]\u001B[0m\n"
      ]
     },
     "metadata": {},
     "output_type": "display_data"
    }
   ],
   "source": [
    "run_query(\"id-1234\")"
   ]
  },
  {
   "cell_type": "code",
   "execution_count": 8,
   "id": "7a8666c9-317d-4d36-9cb1-bd6552d732ad",
   "metadata": {},
   "outputs": [
    {
     "data": {
      "text/html": [
       "<pre style=\"white-space:pre;overflow-x:auto;line-height:normal;font-family:Menlo,'DejaVu Sans Mono',consolas,'Courier New',monospace\"><span style=\"font-weight: bold\">[</span>\n",
       "    <span style=\"font-weight: bold\">{</span>\n",
       "        <span style=\"color: #008000; text-decoration-color: #008000\">'author'</span>: <span style=\"color: #008000; text-decoration-color: #008000\">'MacKay, David JC'</span>,\n",
       "        <span style=\"color: #008000; text-decoration-color: #008000\">'id'</span>: <span style=\"color: #008000; text-decoration-color: #008000\">'id-1234'</span>,\n",
       "        <span style=\"color: #008000; text-decoration-color: #008000\">'title'</span>: <span style=\"color: #008000; text-decoration-color: #008000\">'Sustainable Energy - without the hot air'</span>,\n",
       "        <span style=\"color: #008000; text-decoration-color: #008000\">'year'</span>: <span style=\"color: #008080; text-decoration-color: #008080; font-weight: bold\">2009</span>\n",
       "    <span style=\"font-weight: bold\">}</span>\n",
       "<span style=\"font-weight: bold\">]</span>\n",
       "</pre>\n"
      ],
      "text/plain": [
       "\u001B[1m[\u001B[0m\n",
       "    \u001B[1m{\u001B[0m\n",
       "        \u001B[32m'author'\u001B[0m: \u001B[32m'MacKay, David JC'\u001B[0m,\n",
       "        \u001B[32m'id'\u001B[0m: \u001B[32m'id-1234'\u001B[0m,\n",
       "        \u001B[32m'title'\u001B[0m: \u001B[32m'Sustainable Energy - without the hot air'\u001B[0m,\n",
       "        \u001B[32m'year'\u001B[0m: \u001B[1;36m2009\u001B[0m\n",
       "    \u001B[1m}\u001B[0m\n",
       "\u001B[1m]\u001B[0m\n"
      ]
     },
     "metadata": {},
     "output_type": "display_data"
    }
   ],
   "source": [
    "run_query(\"energy\")"
   ]
  },
  {
   "cell_type": "code",
   "execution_count": 9,
   "id": "cab403f3-719f-41d5-a133-3e6229207411",
   "metadata": {},
   "outputs": [
    {
     "data": {
      "text/html": [
       "<pre style=\"white-space:pre;overflow-x:auto;line-height:normal;font-family:Menlo,'DejaVu Sans Mono',consolas,'Courier New',monospace\"><span style=\"font-weight: bold\">[</span>\n",
       "    <span style=\"font-weight: bold\">{</span>\n",
       "        <span style=\"color: #008000; text-decoration-color: #008000\">'author'</span>: <span style=\"color: #008000; text-decoration-color: #008000\">'MacKay, David JC'</span>,\n",
       "        <span style=\"color: #008000; text-decoration-color: #008000\">'id'</span>: <span style=\"color: #008000; text-decoration-color: #008000\">'id-1234'</span>,\n",
       "        <span style=\"color: #008000; text-decoration-color: #008000\">'title'</span>: <span style=\"color: #008000; text-decoration-color: #008000\">'Sustainable Energy - without the hot air'</span>,\n",
       "        <span style=\"color: #008000; text-decoration-color: #008000\">'year'</span>: <span style=\"color: #008080; text-decoration-color: #008080; font-weight: bold\">2009</span>\n",
       "    <span style=\"font-weight: bold\">}</span>\n",
       "<span style=\"font-weight: bold\">]</span>\n",
       "</pre>\n"
      ],
      "text/plain": [
       "\u001B[1m[\u001B[0m\n",
       "    \u001B[1m{\u001B[0m\n",
       "        \u001B[32m'author'\u001B[0m: \u001B[32m'MacKay, David JC'\u001B[0m,\n",
       "        \u001B[32m'id'\u001B[0m: \u001B[32m'id-1234'\u001B[0m,\n",
       "        \u001B[32m'title'\u001B[0m: \u001B[32m'Sustainable Energy - without the hot air'\u001B[0m,\n",
       "        \u001B[32m'year'\u001B[0m: \u001B[1;36m2009\u001B[0m\n",
       "    \u001B[1m}\u001B[0m\n",
       "\u001B[1m]\u001B[0m\n"
      ]
     },
     "metadata": {},
     "output_type": "display_data"
    }
   ],
   "source": [
    "run_query(\"dav\")"
   ]
  },
  {
   "cell_type": "code",
   "execution_count": 10,
   "id": "48cd2c1f-bce6-4d4f-8e1a-fab190b243e8",
   "metadata": {},
   "outputs": [
    {
     "data": {
      "text/html": [
       "<pre style=\"white-space:pre;overflow-x:auto;line-height:normal;font-family:Menlo,'DejaVu Sans Mono',consolas,'Courier New',monospace\"><span style=\"font-weight: bold\">[</span>\n",
       "    <span style=\"font-weight: bold\">{</span>\n",
       "        <span style=\"color: #008000; text-decoration-color: #008000\">'author'</span>: <span style=\"color: #008000; text-decoration-color: #008000\">'MacKay, David JC'</span>,\n",
       "        <span style=\"color: #008000; text-decoration-color: #008000\">'id'</span>: <span style=\"color: #008000; text-decoration-color: #008000\">'id-1234'</span>,\n",
       "        <span style=\"color: #008000; text-decoration-color: #008000\">'title'</span>: <span style=\"color: #008000; text-decoration-color: #008000\">'Sustainable Energy - without the hot air'</span>,\n",
       "        <span style=\"color: #008000; text-decoration-color: #008000\">'year'</span>: <span style=\"color: #008080; text-decoration-color: #008080; font-weight: bold\">2009</span>\n",
       "    <span style=\"font-weight: bold\">}</span>\n",
       "<span style=\"font-weight: bold\">]</span>\n",
       "</pre>\n"
      ],
      "text/plain": [
       "\u001B[1m[\u001B[0m\n",
       "    \u001B[1m{\u001B[0m\n",
       "        \u001B[32m'author'\u001B[0m: \u001B[32m'MacKay, David JC'\u001B[0m,\n",
       "        \u001B[32m'id'\u001B[0m: \u001B[32m'id-1234'\u001B[0m,\n",
       "        \u001B[32m'title'\u001B[0m: \u001B[32m'Sustainable Energy - without the hot air'\u001B[0m,\n",
       "        \u001B[32m'year'\u001B[0m: \u001B[1;36m2009\u001B[0m\n",
       "    \u001B[1m}\u001B[0m\n",
       "\u001B[1m]\u001B[0m\n"
      ]
     },
     "metadata": {},
     "output_type": "display_data"
    }
   ],
   "source": [
    "run_query(\"2009\")"
   ]
  },
  {
   "cell_type": "markdown",
   "id": "215900fb-ed01-46d6-8fce-5512c89ce380",
   "metadata": {},
   "source": [
    "## Specify the Field you want to match"
   ]
  },
  {
   "cell_type": "code",
   "execution_count": 11,
   "id": "421232f8-9ffb-4f7f-873d-3828bf81f401",
   "metadata": {},
   "outputs": [
    {
     "data": {
      "text/html": [
       "<pre style=\"white-space:pre;overflow-x:auto;line-height:normal;font-family:Menlo,'DejaVu Sans Mono',consolas,'Courier New',monospace\"><span style=\"font-weight: bold\">[</span>\n",
       "    <span style=\"font-weight: bold\">{</span>\n",
       "        <span style=\"color: #008000; text-decoration-color: #008000\">'author'</span>: <span style=\"color: #008000; text-decoration-color: #008000\">'MacKay, David JC'</span>,\n",
       "        <span style=\"color: #008000; text-decoration-color: #008000\">'id'</span>: <span style=\"color: #008000; text-decoration-color: #008000\">'id-1234'</span>,\n",
       "        <span style=\"color: #008000; text-decoration-color: #008000\">'title'</span>: <span style=\"color: #008000; text-decoration-color: #008000\">'Sustainable Energy - without the hot air'</span>,\n",
       "        <span style=\"color: #008000; text-decoration-color: #008000\">'year'</span>: <span style=\"color: #008080; text-decoration-color: #008080; font-weight: bold\">2009</span>\n",
       "    <span style=\"font-weight: bold\">}</span>\n",
       "<span style=\"font-weight: bold\">]</span>\n",
       "</pre>\n"
      ],
      "text/plain": [
       "\u001B[1m[\u001B[0m\n",
       "    \u001B[1m{\u001B[0m\n",
       "        \u001B[32m'author'\u001B[0m: \u001B[32m'MacKay, David JC'\u001B[0m,\n",
       "        \u001B[32m'id'\u001B[0m: \u001B[32m'id-1234'\u001B[0m,\n",
       "        \u001B[32m'title'\u001B[0m: \u001B[32m'Sustainable Energy - without the hot air'\u001B[0m,\n",
       "        \u001B[32m'year'\u001B[0m: \u001B[1;36m2009\u001B[0m\n",
       "    \u001B[1m}\u001B[0m\n",
       "\u001B[1m]\u001B[0m\n"
      ]
     },
     "metadata": {},
     "output_type": "display_data"
    }
   ],
   "source": [
    "run_query(\"id:id-1234\")"
   ]
  },
  {
   "cell_type": "code",
   "execution_count": 12,
   "id": "a840c831-a0f0-4b8b-acf0-190a22c7a627",
   "metadata": {},
   "outputs": [
    {
     "data": {
      "text/html": [
       "<pre style=\"white-space:pre;overflow-x:auto;line-height:normal;font-family:Menlo,'DejaVu Sans Mono',consolas,'Courier New',monospace\"><span style=\"font-weight: bold\">[</span>\n",
       "    <span style=\"font-weight: bold\">{</span>\n",
       "        <span style=\"color: #008000; text-decoration-color: #008000\">'author'</span>: <span style=\"color: #008000; text-decoration-color: #008000\">'MacKay, David JC'</span>,\n",
       "        <span style=\"color: #008000; text-decoration-color: #008000\">'id'</span>: <span style=\"color: #008000; text-decoration-color: #008000\">'id-1234'</span>,\n",
       "        <span style=\"color: #008000; text-decoration-color: #008000\">'title'</span>: <span style=\"color: #008000; text-decoration-color: #008000\">'Sustainable Energy - without the hot air'</span>,\n",
       "        <span style=\"color: #008000; text-decoration-color: #008000\">'year'</span>: <span style=\"color: #008080; text-decoration-color: #008080; font-weight: bold\">2009</span>\n",
       "    <span style=\"font-weight: bold\">}</span>\n",
       "<span style=\"font-weight: bold\">]</span>\n",
       "</pre>\n"
      ],
      "text/plain": [
       "\u001B[1m[\u001B[0m\n",
       "    \u001B[1m{\u001B[0m\n",
       "        \u001B[32m'author'\u001B[0m: \u001B[32m'MacKay, David JC'\u001B[0m,\n",
       "        \u001B[32m'id'\u001B[0m: \u001B[32m'id-1234'\u001B[0m,\n",
       "        \u001B[32m'title'\u001B[0m: \u001B[32m'Sustainable Energy - without the hot air'\u001B[0m,\n",
       "        \u001B[32m'year'\u001B[0m: \u001B[1;36m2009\u001B[0m\n",
       "    \u001B[1m}\u001B[0m\n",
       "\u001B[1m]\u001B[0m\n"
      ]
     },
     "metadata": {},
     "output_type": "display_data"
    }
   ],
   "source": [
    "run_query(\"title:energy\")"
   ]
  },
  {
   "cell_type": "code",
   "execution_count": 13,
   "id": "d5536049-86d6-4c33-818b-b8b81507de21",
   "metadata": {},
   "outputs": [
    {
     "data": {
      "text/html": [
       "<pre style=\"white-space:pre;overflow-x:auto;line-height:normal;font-family:Menlo,'DejaVu Sans Mono',consolas,'Courier New',monospace\"><span style=\"font-weight: bold\">[</span>\n",
       "    <span style=\"font-weight: bold\">{</span>\n",
       "        <span style=\"color: #008000; text-decoration-color: #008000\">'author'</span>: <span style=\"color: #008000; text-decoration-color: #008000\">'MacKay, David JC'</span>,\n",
       "        <span style=\"color: #008000; text-decoration-color: #008000\">'id'</span>: <span style=\"color: #008000; text-decoration-color: #008000\">'id-1234'</span>,\n",
       "        <span style=\"color: #008000; text-decoration-color: #008000\">'title'</span>: <span style=\"color: #008000; text-decoration-color: #008000\">'Sustainable Energy - without the hot air'</span>,\n",
       "        <span style=\"color: #008000; text-decoration-color: #008000\">'year'</span>: <span style=\"color: #008080; text-decoration-color: #008080; font-weight: bold\">2009</span>\n",
       "    <span style=\"font-weight: bold\">}</span>\n",
       "<span style=\"font-weight: bold\">]</span>\n",
       "</pre>\n"
      ],
      "text/plain": [
       "\u001B[1m[\u001B[0m\n",
       "    \u001B[1m{\u001B[0m\n",
       "        \u001B[32m'author'\u001B[0m: \u001B[32m'MacKay, David JC'\u001B[0m,\n",
       "        \u001B[32m'id'\u001B[0m: \u001B[32m'id-1234'\u001B[0m,\n",
       "        \u001B[32m'title'\u001B[0m: \u001B[32m'Sustainable Energy - without the hot air'\u001B[0m,\n",
       "        \u001B[32m'year'\u001B[0m: \u001B[1;36m2009\u001B[0m\n",
       "    \u001B[1m}\u001B[0m\n",
       "\u001B[1m]\u001B[0m\n"
      ]
     },
     "metadata": {},
     "output_type": "display_data"
    }
   ],
   "source": [
    "run_query(\"author:dav\")"
   ]
  },
  {
   "cell_type": "code",
   "execution_count": 14,
   "id": "670a3367-9098-4c7a-99ef-09a3ac4596c6",
   "metadata": {},
   "outputs": [
    {
     "data": {
      "text/html": [
       "<pre style=\"white-space:pre;overflow-x:auto;line-height:normal;font-family:Menlo,'DejaVu Sans Mono',consolas,'Courier New',monospace\"><span style=\"font-weight: bold\">[</span>\n",
       "    <span style=\"font-weight: bold\">{</span>\n",
       "        <span style=\"color: #008000; text-decoration-color: #008000\">'author'</span>: <span style=\"color: #008000; text-decoration-color: #008000\">'MacKay, David JC'</span>,\n",
       "        <span style=\"color: #008000; text-decoration-color: #008000\">'id'</span>: <span style=\"color: #008000; text-decoration-color: #008000\">'id-1234'</span>,\n",
       "        <span style=\"color: #008000; text-decoration-color: #008000\">'title'</span>: <span style=\"color: #008000; text-decoration-color: #008000\">'Sustainable Energy - without the hot air'</span>,\n",
       "        <span style=\"color: #008000; text-decoration-color: #008000\">'year'</span>: <span style=\"color: #008080; text-decoration-color: #008080; font-weight: bold\">2009</span>\n",
       "    <span style=\"font-weight: bold\">}</span>\n",
       "<span style=\"font-weight: bold\">]</span>\n",
       "</pre>\n"
      ],
      "text/plain": [
       "\u001B[1m[\u001B[0m\n",
       "    \u001B[1m{\u001B[0m\n",
       "        \u001B[32m'author'\u001B[0m: \u001B[32m'MacKay, David JC'\u001B[0m,\n",
       "        \u001B[32m'id'\u001B[0m: \u001B[32m'id-1234'\u001B[0m,\n",
       "        \u001B[32m'title'\u001B[0m: \u001B[32m'Sustainable Energy - without the hot air'\u001B[0m,\n",
       "        \u001B[32m'year'\u001B[0m: \u001B[1;36m2009\u001B[0m\n",
       "    \u001B[1m}\u001B[0m\n",
       "\u001B[1m]\u001B[0m\n"
      ]
     },
     "metadata": {},
     "output_type": "display_data"
    }
   ],
   "source": [
    "run_query(\"year:2009\")"
   ]
  },
  {
   "cell_type": "markdown",
   "id": "90bd903b-4cab-4ab5-bcca-b7f399db9f22",
   "metadata": {},
   "source": [
    "## Range Query"
   ]
  },
  {
   "cell_type": "code",
   "execution_count": 15,
   "id": "7e1d0480-52b1-4dfd-ac9b-ba38e14ae6bb",
   "metadata": {},
   "outputs": [
    {
     "data": {
      "text/html": [
       "<pre style=\"white-space:pre;overflow-x:auto;line-height:normal;font-family:Menlo,'DejaVu Sans Mono',consolas,'Courier New',monospace\"><span style=\"font-weight: bold\">[</span>\n",
       "    <span style=\"font-weight: bold\">{</span>\n",
       "        <span style=\"color: #008000; text-decoration-color: #008000\">'author'</span>: <span style=\"color: #008000; text-decoration-color: #008000\">'MacKay, David JC'</span>,\n",
       "        <span style=\"color: #008000; text-decoration-color: #008000\">'id'</span>: <span style=\"color: #008000; text-decoration-color: #008000\">'id-1234'</span>,\n",
       "        <span style=\"color: #008000; text-decoration-color: #008000\">'title'</span>: <span style=\"color: #008000; text-decoration-color: #008000\">'Sustainable Energy - without the hot air'</span>,\n",
       "        <span style=\"color: #008000; text-decoration-color: #008000\">'year'</span>: <span style=\"color: #008080; text-decoration-color: #008080; font-weight: bold\">2009</span>\n",
       "    <span style=\"font-weight: bold\">}</span>\n",
       "<span style=\"font-weight: bold\">]</span>\n",
       "</pre>\n"
      ],
      "text/plain": [
       "\u001B[1m[\u001B[0m\n",
       "    \u001B[1m{\u001B[0m\n",
       "        \u001B[32m'author'\u001B[0m: \u001B[32m'MacKay, David JC'\u001B[0m,\n",
       "        \u001B[32m'id'\u001B[0m: \u001B[32m'id-1234'\u001B[0m,\n",
       "        \u001B[32m'title'\u001B[0m: \u001B[32m'Sustainable Energy - without the hot air'\u001B[0m,\n",
       "        \u001B[32m'year'\u001B[0m: \u001B[1;36m2009\u001B[0m\n",
       "    \u001B[1m}\u001B[0m\n",
       "\u001B[1m]\u001B[0m\n"
      ]
     },
     "metadata": {},
     "output_type": "display_data"
    }
   ],
   "source": [
    "run_query(\"year:>2000\")"
   ]
  },
  {
   "cell_type": "code",
   "execution_count": 16,
   "id": "2328b60b-5d5d-4cf2-8404-7012a1136e9f",
   "metadata": {},
   "outputs": [
    {
     "data": {
      "text/html": [
       "<pre style=\"white-space:pre;overflow-x:auto;line-height:normal;font-family:Menlo,'DejaVu Sans Mono',consolas,'Courier New',monospace\"><span style=\"font-weight: bold\">[</span>\n",
       "    <span style=\"font-weight: bold\">{</span>\n",
       "        <span style=\"color: #008000; text-decoration-color: #008000\">'author'</span>: <span style=\"color: #008000; text-decoration-color: #008000\">'MacKay, David JC'</span>,\n",
       "        <span style=\"color: #008000; text-decoration-color: #008000\">'id'</span>: <span style=\"color: #008000; text-decoration-color: #008000\">'id-1234'</span>,\n",
       "        <span style=\"color: #008000; text-decoration-color: #008000\">'title'</span>: <span style=\"color: #008000; text-decoration-color: #008000\">'Sustainable Energy - without the hot air'</span>,\n",
       "        <span style=\"color: #008000; text-decoration-color: #008000\">'year'</span>: <span style=\"color: #008080; text-decoration-color: #008080; font-weight: bold\">2009</span>\n",
       "    <span style=\"font-weight: bold\">}</span>\n",
       "<span style=\"font-weight: bold\">]</span>\n",
       "</pre>\n"
      ],
      "text/plain": [
       "\u001B[1m[\u001B[0m\n",
       "    \u001B[1m{\u001B[0m\n",
       "        \u001B[32m'author'\u001B[0m: \u001B[32m'MacKay, David JC'\u001B[0m,\n",
       "        \u001B[32m'id'\u001B[0m: \u001B[32m'id-1234'\u001B[0m,\n",
       "        \u001B[32m'title'\u001B[0m: \u001B[32m'Sustainable Energy - without the hot air'\u001B[0m,\n",
       "        \u001B[32m'year'\u001B[0m: \u001B[1;36m2009\u001B[0m\n",
       "    \u001B[1m}\u001B[0m\n",
       "\u001B[1m]\u001B[0m\n"
      ]
     },
     "metadata": {},
     "output_type": "display_data"
    }
   ],
   "source": [
    "run_query(\"year:<2020\")"
   ]
  },
  {
   "cell_type": "code",
   "execution_count": 17,
   "id": "6c8cec9e-82d3-4797-ad09-f3e97f7b3262",
   "metadata": {},
   "outputs": [
    {
     "data": {
      "text/html": [
       "<pre style=\"white-space:pre;overflow-x:auto;line-height:normal;font-family:Menlo,'DejaVu Sans Mono',consolas,'Courier New',monospace\"><span style=\"font-weight: bold\">[</span>\n",
       "    <span style=\"font-weight: bold\">{</span>\n",
       "        <span style=\"color: #008000; text-decoration-color: #008000\">'author'</span>: <span style=\"color: #008000; text-decoration-color: #008000\">'MacKay, David JC'</span>,\n",
       "        <span style=\"color: #008000; text-decoration-color: #008000\">'id'</span>: <span style=\"color: #008000; text-decoration-color: #008000\">'id-1234'</span>,\n",
       "        <span style=\"color: #008000; text-decoration-color: #008000\">'title'</span>: <span style=\"color: #008000; text-decoration-color: #008000\">'Sustainable Energy - without the hot air'</span>,\n",
       "        <span style=\"color: #008000; text-decoration-color: #008000\">'year'</span>: <span style=\"color: #008080; text-decoration-color: #008080; font-weight: bold\">2009</span>\n",
       "    <span style=\"font-weight: bold\">}</span>\n",
       "<span style=\"font-weight: bold\">]</span>\n",
       "</pre>\n"
      ],
      "text/plain": [
       "\u001B[1m[\u001B[0m\n",
       "    \u001B[1m{\u001B[0m\n",
       "        \u001B[32m'author'\u001B[0m: \u001B[32m'MacKay, David JC'\u001B[0m,\n",
       "        \u001B[32m'id'\u001B[0m: \u001B[32m'id-1234'\u001B[0m,\n",
       "        \u001B[32m'title'\u001B[0m: \u001B[32m'Sustainable Energy - without the hot air'\u001B[0m,\n",
       "        \u001B[32m'year'\u001B[0m: \u001B[1;36m2009\u001B[0m\n",
       "    \u001B[1m}\u001B[0m\n",
       "\u001B[1m]\u001B[0m\n"
      ]
     },
     "metadata": {},
     "output_type": "display_data"
    }
   ],
   "source": [
    "run_query(\"year:>2000 AND year:<2020\")"
   ]
  },
  {
   "cell_type": "code",
   "execution_count": 18,
   "id": "7528fb29-9a55-42f6-a437-571d098e4f56",
   "metadata": {},
   "outputs": [
    {
     "data": {
      "text/html": [
       "<pre style=\"white-space:pre;overflow-x:auto;line-height:normal;font-family:Menlo,'DejaVu Sans Mono',consolas,'Courier New',monospace\"><span style=\"font-weight: bold\">[</span>\n",
       "    <span style=\"font-weight: bold\">{</span>\n",
       "        <span style=\"color: #008000; text-decoration-color: #008000\">'author'</span>: <span style=\"color: #008000; text-decoration-color: #008000\">'MacKay, David JC'</span>,\n",
       "        <span style=\"color: #008000; text-decoration-color: #008000\">'id'</span>: <span style=\"color: #008000; text-decoration-color: #008000\">'id-1234'</span>,\n",
       "        <span style=\"color: #008000; text-decoration-color: #008000\">'title'</span>: <span style=\"color: #008000; text-decoration-color: #008000\">'Sustainable Energy - without the hot air'</span>,\n",
       "        <span style=\"color: #008000; text-decoration-color: #008000\">'year'</span>: <span style=\"color: #008080; text-decoration-color: #008080; font-weight: bold\">2009</span>\n",
       "    <span style=\"font-weight: bold\">}</span>\n",
       "<span style=\"font-weight: bold\">]</span>\n",
       "</pre>\n"
      ],
      "text/plain": [
       "\u001B[1m[\u001B[0m\n",
       "    \u001B[1m{\u001B[0m\n",
       "        \u001B[32m'author'\u001B[0m: \u001B[32m'MacKay, David JC'\u001B[0m,\n",
       "        \u001B[32m'id'\u001B[0m: \u001B[32m'id-1234'\u001B[0m,\n",
       "        \u001B[32m'title'\u001B[0m: \u001B[32m'Sustainable Energy - without the hot air'\u001B[0m,\n",
       "        \u001B[32m'year'\u001B[0m: \u001B[1;36m2009\u001B[0m\n",
       "    \u001B[1m}\u001B[0m\n",
       "\u001B[1m]\u001B[0m\n"
      ]
     },
     "metadata": {},
     "output_type": "display_data"
    }
   ],
   "source": [
    "run_query(\"year:[2000 TO]\")"
   ]
  },
  {
   "cell_type": "code",
   "execution_count": 19,
   "id": "4c4c9f80-3e5f-42f6-bf48-89291820193a",
   "metadata": {},
   "outputs": [
    {
     "data": {
      "text/html": [
       "<pre style=\"white-space:pre;overflow-x:auto;line-height:normal;font-family:Menlo,'DejaVu Sans Mono',consolas,'Courier New',monospace\"><span style=\"font-weight: bold\">[</span>\n",
       "    <span style=\"font-weight: bold\">{</span>\n",
       "        <span style=\"color: #008000; text-decoration-color: #008000\">'author'</span>: <span style=\"color: #008000; text-decoration-color: #008000\">'MacKay, David JC'</span>,\n",
       "        <span style=\"color: #008000; text-decoration-color: #008000\">'id'</span>: <span style=\"color: #008000; text-decoration-color: #008000\">'id-1234'</span>,\n",
       "        <span style=\"color: #008000; text-decoration-color: #008000\">'title'</span>: <span style=\"color: #008000; text-decoration-color: #008000\">'Sustainable Energy - without the hot air'</span>,\n",
       "        <span style=\"color: #008000; text-decoration-color: #008000\">'year'</span>: <span style=\"color: #008080; text-decoration-color: #008080; font-weight: bold\">2009</span>\n",
       "    <span style=\"font-weight: bold\">}</span>\n",
       "<span style=\"font-weight: bold\">]</span>\n",
       "</pre>\n"
      ],
      "text/plain": [
       "\u001B[1m[\u001B[0m\n",
       "    \u001B[1m{\u001B[0m\n",
       "        \u001B[32m'author'\u001B[0m: \u001B[32m'MacKay, David JC'\u001B[0m,\n",
       "        \u001B[32m'id'\u001B[0m: \u001B[32m'id-1234'\u001B[0m,\n",
       "        \u001B[32m'title'\u001B[0m: \u001B[32m'Sustainable Energy - without the hot air'\u001B[0m,\n",
       "        \u001B[32m'year'\u001B[0m: \u001B[1;36m2009\u001B[0m\n",
       "    \u001B[1m}\u001B[0m\n",
       "\u001B[1m]\u001B[0m\n"
      ]
     },
     "metadata": {},
     "output_type": "display_data"
    }
   ],
   "source": [
    "run_query(\"year:[TO 2020]\")"
   ]
  },
  {
   "cell_type": "code",
   "execution_count": 20,
   "id": "7737ccbb-1481-4aa9-b634-ea35a6b5fbfa",
   "metadata": {},
   "outputs": [
    {
     "data": {
      "text/html": [
       "<pre style=\"white-space:pre;overflow-x:auto;line-height:normal;font-family:Menlo,'DejaVu Sans Mono',consolas,'Courier New',monospace\"><span style=\"font-weight: bold\">[</span>\n",
       "    <span style=\"font-weight: bold\">{</span>\n",
       "        <span style=\"color: #008000; text-decoration-color: #008000\">'author'</span>: <span style=\"color: #008000; text-decoration-color: #008000\">'MacKay, David JC'</span>,\n",
       "        <span style=\"color: #008000; text-decoration-color: #008000\">'id'</span>: <span style=\"color: #008000; text-decoration-color: #008000\">'id-1234'</span>,\n",
       "        <span style=\"color: #008000; text-decoration-color: #008000\">'title'</span>: <span style=\"color: #008000; text-decoration-color: #008000\">'Sustainable Energy - without the hot air'</span>,\n",
       "        <span style=\"color: #008000; text-decoration-color: #008000\">'year'</span>: <span style=\"color: #008080; text-decoration-color: #008080; font-weight: bold\">2009</span>\n",
       "    <span style=\"font-weight: bold\">}</span>\n",
       "<span style=\"font-weight: bold\">]</span>\n",
       "</pre>\n"
      ],
      "text/plain": [
       "\u001B[1m[\u001B[0m\n",
       "    \u001B[1m{\u001B[0m\n",
       "        \u001B[32m'author'\u001B[0m: \u001B[32m'MacKay, David JC'\u001B[0m,\n",
       "        \u001B[32m'id'\u001B[0m: \u001B[32m'id-1234'\u001B[0m,\n",
       "        \u001B[32m'title'\u001B[0m: \u001B[32m'Sustainable Energy - without the hot air'\u001B[0m,\n",
       "        \u001B[32m'year'\u001B[0m: \u001B[1;36m2009\u001B[0m\n",
       "    \u001B[1m}\u001B[0m\n",
       "\u001B[1m]\u001B[0m\n"
      ]
     },
     "metadata": {},
     "output_type": "display_data"
    }
   ],
   "source": [
    "run_query(\"year:[2000 TO 2020]\")"
   ]
  },
  {
   "cell_type": "markdown",
   "id": "79334f69-9484-4238-864a-cd3ec356b514",
   "metadata": {},
   "source": [
    "## Logical Operator"
   ]
  },
  {
   "cell_type": "code",
   "execution_count": 21,
   "id": "80c703e9-b68b-4152-aa1b-6b5a928dc0e3",
   "metadata": {},
   "outputs": [
    {
     "data": {
      "text/html": [
       "<pre style=\"white-space:pre;overflow-x:auto;line-height:normal;font-family:Menlo,'DejaVu Sans Mono',consolas,'Courier New',monospace\"><span style=\"font-weight: bold\">[</span>\n",
       "    <span style=\"font-weight: bold\">{</span>\n",
       "        <span style=\"color: #008000; text-decoration-color: #008000\">'author'</span>: <span style=\"color: #008000; text-decoration-color: #008000\">'MacKay, David JC'</span>,\n",
       "        <span style=\"color: #008000; text-decoration-color: #008000\">'id'</span>: <span style=\"color: #008000; text-decoration-color: #008000\">'id-1234'</span>,\n",
       "        <span style=\"color: #008000; text-decoration-color: #008000\">'title'</span>: <span style=\"color: #008000; text-decoration-color: #008000\">'Sustainable Energy - without the hot air'</span>,\n",
       "        <span style=\"color: #008000; text-decoration-color: #008000\">'year'</span>: <span style=\"color: #008080; text-decoration-color: #008080; font-weight: bold\">2009</span>\n",
       "    <span style=\"font-weight: bold\">}</span>\n",
       "<span style=\"font-weight: bold\">]</span>\n",
       "</pre>\n"
      ],
      "text/plain": [
       "\u001B[1m[\u001B[0m\n",
       "    \u001B[1m{\u001B[0m\n",
       "        \u001B[32m'author'\u001B[0m: \u001B[32m'MacKay, David JC'\u001B[0m,\n",
       "        \u001B[32m'id'\u001B[0m: \u001B[32m'id-1234'\u001B[0m,\n",
       "        \u001B[32m'title'\u001B[0m: \u001B[32m'Sustainable Energy - without the hot air'\u001B[0m,\n",
       "        \u001B[32m'year'\u001B[0m: \u001B[1;36m2009\u001B[0m\n",
       "    \u001B[1m}\u001B[0m\n",
       "\u001B[1m]\u001B[0m\n"
      ]
     },
     "metadata": {},
     "output_type": "display_data"
    }
   ],
   "source": [
    "run_query(\"title:energy OR author:xyz\")"
   ]
  },
  {
   "cell_type": "code",
   "execution_count": 22,
   "id": "e12759c4-5203-4c85-9b42-3ab111c2de29",
   "metadata": {},
   "outputs": [
    {
     "data": {
      "text/html": [
       "<pre style=\"white-space:pre;overflow-x:auto;line-height:normal;font-family:Menlo,'DejaVu Sans Mono',consolas,'Courier New',monospace\"><span style=\"font-weight: bold\">[</span>\n",
       "    <span style=\"font-weight: bold\">{</span>\n",
       "        <span style=\"color: #008000; text-decoration-color: #008000\">'author'</span>: <span style=\"color: #008000; text-decoration-color: #008000\">'MacKay, David JC'</span>,\n",
       "        <span style=\"color: #008000; text-decoration-color: #008000\">'id'</span>: <span style=\"color: #008000; text-decoration-color: #008000\">'id-1234'</span>,\n",
       "        <span style=\"color: #008000; text-decoration-color: #008000\">'title'</span>: <span style=\"color: #008000; text-decoration-color: #008000\">'Sustainable Energy - without the hot air'</span>,\n",
       "        <span style=\"color: #008000; text-decoration-color: #008000\">'year'</span>: <span style=\"color: #008080; text-decoration-color: #008080; font-weight: bold\">2009</span>\n",
       "    <span style=\"font-weight: bold\">}</span>\n",
       "<span style=\"font-weight: bold\">]</span>\n",
       "</pre>\n"
      ],
      "text/plain": [
       "\u001B[1m[\u001B[0m\n",
       "    \u001B[1m{\u001B[0m\n",
       "        \u001B[32m'author'\u001B[0m: \u001B[32m'MacKay, David JC'\u001B[0m,\n",
       "        \u001B[32m'id'\u001B[0m: \u001B[32m'id-1234'\u001B[0m,\n",
       "        \u001B[32m'title'\u001B[0m: \u001B[32m'Sustainable Energy - without the hot air'\u001B[0m,\n",
       "        \u001B[32m'year'\u001B[0m: \u001B[1;36m2009\u001B[0m\n",
       "    \u001B[1m}\u001B[0m\n",
       "\u001B[1m]\u001B[0m\n"
      ]
     },
     "metadata": {},
     "output_type": "display_data"
    }
   ],
   "source": [
    "run_query(\"title:monster OR author:dav\")"
   ]
  },
  {
   "cell_type": "code",
   "execution_count": 23,
   "id": "9586e8c4-2d99-4839-a4b2-dacc1bbe95d0",
   "metadata": {},
   "outputs": [
    {
     "data": {
      "text/html": [
       "<pre style=\"white-space:pre;overflow-x:auto;line-height:normal;font-family:Menlo,'DejaVu Sans Mono',consolas,'Courier New',monospace\"><span style=\"font-weight: bold\">[]</span>\n",
       "</pre>\n"
      ],
      "text/plain": [
       "\u001B[1m[\u001B[0m\u001B[1m]\u001B[0m\n"
      ]
     },
     "metadata": {},
     "output_type": "display_data"
    }
   ],
   "source": [
    "run_query(\"title:monster AND author:xyz\")"
   ]
  },
  {
   "cell_type": "markdown",
   "id": "e13ec58a-7f6e-4df5-981b-c14700181c62",
   "metadata": {},
   "source": [
    "## Fuzzy Search"
   ]
  },
  {
   "cell_type": "code",
   "execution_count": 24,
   "id": "a821f2c0-9dfd-4012-9627-826fd6b755df",
   "metadata": {},
   "outputs": [
    {
     "data": {
      "text/html": [
       "<pre style=\"white-space:pre;overflow-x:auto;line-height:normal;font-family:Menlo,'DejaVu Sans Mono',consolas,'Courier New',monospace\"><span style=\"font-weight: bold\">[</span>\n",
       "    <span style=\"font-weight: bold\">{</span>\n",
       "        <span style=\"color: #008000; text-decoration-color: #008000\">'author'</span>: <span style=\"color: #008000; text-decoration-color: #008000\">'MacKay, David JC'</span>,\n",
       "        <span style=\"color: #008000; text-decoration-color: #008000\">'id'</span>: <span style=\"color: #008000; text-decoration-color: #008000\">'id-1234'</span>,\n",
       "        <span style=\"color: #008000; text-decoration-color: #008000\">'title'</span>: <span style=\"color: #008000; text-decoration-color: #008000\">'Sustainable Energy - without the hot air'</span>,\n",
       "        <span style=\"color: #008000; text-decoration-color: #008000\">'year'</span>: <span style=\"color: #008080; text-decoration-color: #008080; font-weight: bold\">2009</span>\n",
       "    <span style=\"font-weight: bold\">}</span>\n",
       "<span style=\"font-weight: bold\">]</span>\n",
       "</pre>\n"
      ],
      "text/plain": [
       "\u001B[1m[\u001B[0m\n",
       "    \u001B[1m{\u001B[0m\n",
       "        \u001B[32m'author'\u001B[0m: \u001B[32m'MacKay, David JC'\u001B[0m,\n",
       "        \u001B[32m'id'\u001B[0m: \u001B[32m'id-1234'\u001B[0m,\n",
       "        \u001B[32m'title'\u001B[0m: \u001B[32m'Sustainable Energy - without the hot air'\u001B[0m,\n",
       "        \u001B[32m'year'\u001B[0m: \u001B[1;36m2009\u001B[0m\n",
       "    \u001B[1m}\u001B[0m\n",
       "\u001B[1m]\u001B[0m\n"
      ]
     },
     "metadata": {},
     "output_type": "display_data"
    }
   ],
   "source": [
    "run_query(\"title:energi~1\")"
   ]
  },
  {
   "cell_type": "markdown",
   "id": "cea22f8e-0102-4257-bd77-18d0e143063f",
   "metadata": {},
   "source": [
    "## Use More data"
   ]
  },
  {
   "cell_type": "code",
   "execution_count": 48,
   "id": "f7b9ddc6-3306-4e6c-ab0c-5548fe7d14da",
   "metadata": {},
   "outputs": [
    {
     "name": "stdout",
     "output_type": "stream",
     "text": [
      "index time: from 2023-09-25 18:55:13.616607 to 2023-09-25 18:55:14.305656 elapsed 0.689049 second.\n"
     ]
    }
   ],
   "source": [
    "data = [\n",
    "    {\n",
    "        \"id\": uuid.uuid4().hex,\n",
    "        \"title\": fake.sentence(),\n",
    "        \"author\": fake.name(),\n",
    "        \"year\": random.randint(1980, 2020),\n",
    "    }\n",
    "    for _ in range(5000) # 5,000\n",
    "]\n",
    "with DateTimeTimer(\"index time\"):\n",
    "    ds.build_index(data=data)"
   ]
  },
  {
   "cell_type": "code",
   "execution_count": 49,
   "id": "6d9e45eb-8190-47be-9aa0-03393b3efe4d",
   "metadata": {},
   "outputs": [
    {
     "data": {
      "text/html": [
       "<pre style=\"white-space:pre;overflow-x:auto;line-height:normal;font-family:Menlo,'DejaVu Sans Mono',consolas,'Courier New',monospace\"><span style=\"font-weight: bold\">[</span>\n",
       "    <span style=\"font-weight: bold\">{</span>\n",
       "        <span style=\"color: #008000; text-decoration-color: #008000\">'author'</span>: <span style=\"color: #008000; text-decoration-color: #008000\">'Jackson Lee'</span>,\n",
       "        <span style=\"color: #008000; text-decoration-color: #008000\">'id'</span>: <span style=\"color: #008000; text-decoration-color: #008000\">'49485960611c45199702203d612609f7'</span>,\n",
       "        <span style=\"color: #008000; text-decoration-color: #008000\">'title'</span>: <span style=\"color: #008000; text-decoration-color: #008000\">'Compare man big police record assume before.'</span>,\n",
       "        <span style=\"color: #008000; text-decoration-color: #008000\">'year'</span>: <span style=\"color: #008080; text-decoration-color: #008080; font-weight: bold\">1996</span>\n",
       "    <span style=\"font-weight: bold\">}</span>\n",
       "<span style=\"font-weight: bold\">]</span>\n",
       "</pre>\n"
      ],
      "text/plain": [
       "\u001B[1m[\u001B[0m\n",
       "    \u001B[1m{\u001B[0m\n",
       "        \u001B[32m'author'\u001B[0m: \u001B[32m'Jackson Lee'\u001B[0m,\n",
       "        \u001B[32m'id'\u001B[0m: \u001B[32m'49485960611c45199702203d612609f7'\u001B[0m,\n",
       "        \u001B[32m'title'\u001B[0m: \u001B[32m'Compare man big police record assume before.'\u001B[0m,\n",
       "        \u001B[32m'year'\u001B[0m: \u001B[1;36m1996\u001B[0m\n",
       "    \u001B[1m}\u001B[0m\n",
       "\u001B[1m]\u001B[0m\n"
      ]
     },
     "metadata": {},
     "output_type": "display_data"
    },
    {
     "name": "stdout",
     "output_type": "stream",
     "text": [
      "query time: from 2023-09-25 18:55:14.309403 to 2023-09-25 18:55:14.392765 elapsed 0.083362 second.\n"
     ]
    }
   ],
   "source": [
    "with DateTimeTimer(\"query time\"):\n",
    "    run_query(\"police man\")"
   ]
  },
  {
   "cell_type": "code",
   "execution_count": null,
   "id": "cf1fdf52-a193-4539-a246-13d54a77f8af",
   "metadata": {},
   "outputs": [],
   "source": []
  }
 ],
 "metadata": {
  "kernelspec": {
   "display_name": "Python 3 (ipykernel)",
   "language": "python",
   "name": "python3"
  },
  "language_info": {
   "codemirror_mode": {
    "name": "ipython",
    "version": 3
   },
   "file_extension": ".py",
   "mimetype": "text/x-python",
   "name": "python",
   "nbconvert_exporter": "python",
   "pygments_lexer": "ipython3",
   "version": "3.8.11"
  }
 },
 "nbformat": 4,
 "nbformat_minor": 5
}
