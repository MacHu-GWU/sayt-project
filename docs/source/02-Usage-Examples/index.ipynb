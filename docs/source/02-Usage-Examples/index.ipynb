{
 "cells": [
  {
   "cell_type": "markdown",
   "id": "cc2b57e5-9ba9-4146-bd85-963b561d3b87",
   "metadata": {},
   "source": [
    "# Usage Example\n",
    "\n",
    "For the comprehensive guide of the query language, read this: https://whoosh.readthedocs.io/en/latest/querylang.html\n",
    "\n",
    "## Import ``sayt``"
   ]
  },
  {
   "cell_type": "code",
   "execution_count": 1,
   "id": "6b421937-d222-4d11-bf83-008d3093a239",
   "metadata": {},
   "outputs": [],
   "source": [
    "from sayt.api import (\n",
    "    DataSet,\n",
    "    IdField,\n",
    "    TextField,\n",
    "    NumericField,\n",
    "    NgramField,\n",
    "    NgramWordsField,\n",
    "    StoredField,\n",
    "    T_RECORD,\n",
    "    T_KWARGS,\n",
    "    T_DOWNLOADER,\n",
    "    T_CACHE_KEY_DEF,\n",
    "    T_CONTEXT,\n",
    "    T_EXTRACTOR,\n",
    "    T_RefreshableDataSetResult,\n",
    "    RefreshableDataSet,\n",
    ")"
   ]
  },
  {
   "cell_type": "code",
   "execution_count": 2,
   "id": "628abc13-3f7d-429d-a5e9-cd16ff812ca4",
   "metadata": {},
   "outputs": [],
   "source": [
    "import typing as T\n",
    "import os\n",
    "import uuid\n",
    "import random\n",
    "from pathlib import Path\n",
    "\n",
    "import faker\n",
    "from fixa.timer import DateTimeTimer\n",
    "from diskcache import Cache\n",
    "from rich import print as rprint"
   ]
  },
  {
   "cell_type": "code",
   "execution_count": 3,
   "id": "2fd10d2f-3c2a-44a1-b1b7-7c7f3f41502f",
   "metadata": {},
   "outputs": [],
   "source": [
    "dir_here = Path(os.getcwd())\n",
    "\n",
    "fake = faker.Faker()"
   ]
  },
  {
   "cell_type": "markdown",
   "id": "a1618fd0-b6de-40e4-a47e-3ec656144d36",
   "metadata": {},
   "source": [
    "## Define your dataset schema\n",
    "\n",
    "Let's say our dataset is about a details of a book.\n",
    "\n",
    "```\n",
    "{\n",
    "    \"id\": \"id-1234\",\n",
    "    \"title\": \"Sustainable Energy - without the hot air\",\n",
    "    \"author\": \"MacKay, David JC\",\n",
    "    \"year\": 2009,\n",
    "}\n",
    "```\n",
    "\n",
    "- We want to match ``id`` only if the query match the id exactly.\n",
    "- We want to match ``title`` when words in the query match the word in the title, case-insensitive.\n",
    "- We want to match ``author`` when any ngram characters in the query match the author name.\n",
    "- We want to use range query to filter on ``year``."
   ]
  },
  {
   "cell_type": "code",
   "execution_count": 4,
   "id": "08c73e69-79d0-4416-bbda-fbbd06dc7a0b",
   "metadata": {},
   "outputs": [],
   "source": [
    "ds = DataSet(\n",
    "    dir_index=dir_here.joinpath(\".index\"), # where the index locate\n",
    "    index_name=\"my-dataset\", # unique name of your dataset\n",
    "    fields=[\n",
    "        # unique ID field\n",
    "        IdField(name=\"id\", stored=True),\n",
    "        # match by token (word) or phrase\n",
    "        TextField(name=\"title\", stored=True),\n",
    "        # match by n-gram characters\n",
    "        NgramField(\n",
    "            name=\"author\",\n",
    "            stored=True,\n",
    "            minsize=2,\n",
    "            maxsize=6,\n",
    "        ),\n",
    "        # range query\n",
    "        NumericField(\n",
    "            name=\"year\",\n",
    "            stored=True,\n",
    "            sortable=True,\n",
    "            ascending=False,\n",
    "        ),\n",
    "    ],\n",
    "    cache=Cache(str(dir_here.joinpath(\".cache\")), tag_index=True), # where the cache locate\n",
    "    cache_key=\"my-dataset\", # unique cache key for your dataset\n",
    "    cache_expire=10, # how long cache expire (in seconds)\n",
    "    cache_tag=\"dev\", # a tag can be used to do batch delete. if you want to delete cache for many dataset, give them the same tag\n",
    ")\n",
    "ds.remove_all_index()"
   ]
  },
  {
   "cell_type": "markdown",
   "id": "49803418-0c2d-4c32-90a9-65c089319482",
   "metadata": {},
   "source": [
    "insert some dummy data for testing"
   ]
  },
  {
   "cell_type": "code",
   "execution_count": 5,
   "id": "390412a9-1598-4fe9-a4cd-cc34877273dd",
   "metadata": {},
   "outputs": [],
   "source": [
    "data = [\n",
    "    {\n",
    "        \"id\": \"id-1234\",\n",
    "        \"title\": \"Sustainable Energy - without the hot air\",\n",
    "        \"author\": \"MacKay, David JC\",\n",
    "        \"year\": 2009,\n",
    "    },\n",
    "]\n",
    "\n",
    "ds.build_index(data=data)"
   ]
  },
  {
   "cell_type": "code",
   "execution_count": 6,
   "id": "b7c293a7-1ab0-4cd6-93de-949d57e35ffa",
   "metadata": {},
   "outputs": [],
   "source": [
    "def run_query(query, limit: int=5, simple_response: bool=True):\n",
    "    res = ds.search(query, limit=limit, simple_response=simple_response)\n",
    "    rprint(res)"
   ]
  },
  {
   "cell_type": "markdown",
   "id": "e3065a8f-ecb4-47f8-add7-7cb48ce40176",
   "metadata": {},
   "source": [
    "## Multi Field Match\n",
    "\n",
    "By default, ``sayt`` try to match the query in all searable fields."
   ]
  },
  {
   "cell_type": "code",
   "execution_count": 7,
   "id": "ff6b1183-fc85-4637-83b7-543be7729b92",
   "metadata": {},
   "outputs": [
    {
     "data": {
      "text/html": [
       "<pre style=\"white-space:pre;overflow-x:auto;line-height:normal;font-family:Menlo,'DejaVu Sans Mono',consolas,'Courier New',monospace\"><span style=\"font-weight: bold\">[</span>\n",
       "    <span style=\"font-weight: bold\">{</span>\n",
       "        <span style=\"color: #008000; text-decoration-color: #008000\">'author'</span>: <span style=\"color: #008000; text-decoration-color: #008000\">'MacKay, David JC'</span>,\n",
       "        <span style=\"color: #008000; text-decoration-color: #008000\">'id'</span>: <span style=\"color: #008000; text-decoration-color: #008000\">'id-1234'</span>,\n",
       "        <span style=\"color: #008000; text-decoration-color: #008000\">'title'</span>: <span style=\"color: #008000; text-decoration-color: #008000\">'Sustainable Energy - without the hot air'</span>,\n",
       "        <span style=\"color: #008000; text-decoration-color: #008000\">'year'</span>: <span style=\"color: #008080; text-decoration-color: #008080; font-weight: bold\">2009</span>\n",
       "    <span style=\"font-weight: bold\">}</span>\n",
       "<span style=\"font-weight: bold\">]</span>\n",
       "</pre>\n"
      ],
      "text/plain": [
       "\u001b[1m[\u001b[0m\n",
       "    \u001b[1m{\u001b[0m\n",
       "        \u001b[32m'author'\u001b[0m: \u001b[32m'MacKay, David JC'\u001b[0m,\n",
       "        \u001b[32m'id'\u001b[0m: \u001b[32m'id-1234'\u001b[0m,\n",
       "        \u001b[32m'title'\u001b[0m: \u001b[32m'Sustainable Energy - without the hot air'\u001b[0m,\n",
       "        \u001b[32m'year'\u001b[0m: \u001b[1;36m2009\u001b[0m\n",
       "    \u001b[1m}\u001b[0m\n",
       "\u001b[1m]\u001b[0m\n"
      ]
     },
     "metadata": {},
     "output_type": "display_data"
    }
   ],
   "source": [
    "run_query(\"id-1234\")"
   ]
  },
  {
   "cell_type": "code",
   "execution_count": 8,
   "id": "7a8666c9-317d-4d36-9cb1-bd6552d732ad",
   "metadata": {},
   "outputs": [
    {
     "data": {
      "text/html": [
       "<pre style=\"white-space:pre;overflow-x:auto;line-height:normal;font-family:Menlo,'DejaVu Sans Mono',consolas,'Courier New',monospace\"><span style=\"font-weight: bold\">[</span>\n",
       "    <span style=\"font-weight: bold\">{</span>\n",
       "        <span style=\"color: #008000; text-decoration-color: #008000\">'author'</span>: <span style=\"color: #008000; text-decoration-color: #008000\">'MacKay, David JC'</span>,\n",
       "        <span style=\"color: #008000; text-decoration-color: #008000\">'id'</span>: <span style=\"color: #008000; text-decoration-color: #008000\">'id-1234'</span>,\n",
       "        <span style=\"color: #008000; text-decoration-color: #008000\">'title'</span>: <span style=\"color: #008000; text-decoration-color: #008000\">'Sustainable Energy - without the hot air'</span>,\n",
       "        <span style=\"color: #008000; text-decoration-color: #008000\">'year'</span>: <span style=\"color: #008080; text-decoration-color: #008080; font-weight: bold\">2009</span>\n",
       "    <span style=\"font-weight: bold\">}</span>\n",
       "<span style=\"font-weight: bold\">]</span>\n",
       "</pre>\n"
      ],
      "text/plain": [
       "\u001b[1m[\u001b[0m\n",
       "    \u001b[1m{\u001b[0m\n",
       "        \u001b[32m'author'\u001b[0m: \u001b[32m'MacKay, David JC'\u001b[0m,\n",
       "        \u001b[32m'id'\u001b[0m: \u001b[32m'id-1234'\u001b[0m,\n",
       "        \u001b[32m'title'\u001b[0m: \u001b[32m'Sustainable Energy - without the hot air'\u001b[0m,\n",
       "        \u001b[32m'year'\u001b[0m: \u001b[1;36m2009\u001b[0m\n",
       "    \u001b[1m}\u001b[0m\n",
       "\u001b[1m]\u001b[0m\n"
      ]
     },
     "metadata": {},
     "output_type": "display_data"
    }
   ],
   "source": [
    "run_query(\"energy\")"
   ]
  },
  {
   "cell_type": "code",
   "execution_count": 9,
   "id": "cab403f3-719f-41d5-a133-3e6229207411",
   "metadata": {},
   "outputs": [
    {
     "data": {
      "text/html": [
       "<pre style=\"white-space:pre;overflow-x:auto;line-height:normal;font-family:Menlo,'DejaVu Sans Mono',consolas,'Courier New',monospace\"><span style=\"font-weight: bold\">[</span>\n",
       "    <span style=\"font-weight: bold\">{</span>\n",
       "        <span style=\"color: #008000; text-decoration-color: #008000\">'author'</span>: <span style=\"color: #008000; text-decoration-color: #008000\">'MacKay, David JC'</span>,\n",
       "        <span style=\"color: #008000; text-decoration-color: #008000\">'id'</span>: <span style=\"color: #008000; text-decoration-color: #008000\">'id-1234'</span>,\n",
       "        <span style=\"color: #008000; text-decoration-color: #008000\">'title'</span>: <span style=\"color: #008000; text-decoration-color: #008000\">'Sustainable Energy - without the hot air'</span>,\n",
       "        <span style=\"color: #008000; text-decoration-color: #008000\">'year'</span>: <span style=\"color: #008080; text-decoration-color: #008080; font-weight: bold\">2009</span>\n",
       "    <span style=\"font-weight: bold\">}</span>\n",
       "<span style=\"font-weight: bold\">]</span>\n",
       "</pre>\n"
      ],
      "text/plain": [
       "\u001b[1m[\u001b[0m\n",
       "    \u001b[1m{\u001b[0m\n",
       "        \u001b[32m'author'\u001b[0m: \u001b[32m'MacKay, David JC'\u001b[0m,\n",
       "        \u001b[32m'id'\u001b[0m: \u001b[32m'id-1234'\u001b[0m,\n",
       "        \u001b[32m'title'\u001b[0m: \u001b[32m'Sustainable Energy - without the hot air'\u001b[0m,\n",
       "        \u001b[32m'year'\u001b[0m: \u001b[1;36m2009\u001b[0m\n",
       "    \u001b[1m}\u001b[0m\n",
       "\u001b[1m]\u001b[0m\n"
      ]
     },
     "metadata": {},
     "output_type": "display_data"
    }
   ],
   "source": [
    "run_query(\"dav\")"
   ]
  },
  {
   "cell_type": "code",
   "execution_count": 10,
   "id": "48cd2c1f-bce6-4d4f-8e1a-fab190b243e8",
   "metadata": {},
   "outputs": [
    {
     "data": {
      "text/html": [
       "<pre style=\"white-space:pre;overflow-x:auto;line-height:normal;font-family:Menlo,'DejaVu Sans Mono',consolas,'Courier New',monospace\"><span style=\"font-weight: bold\">[</span>\n",
       "    <span style=\"font-weight: bold\">{</span>\n",
       "        <span style=\"color: #008000; text-decoration-color: #008000\">'author'</span>: <span style=\"color: #008000; text-decoration-color: #008000\">'MacKay, David JC'</span>,\n",
       "        <span style=\"color: #008000; text-decoration-color: #008000\">'id'</span>: <span style=\"color: #008000; text-decoration-color: #008000\">'id-1234'</span>,\n",
       "        <span style=\"color: #008000; text-decoration-color: #008000\">'title'</span>: <span style=\"color: #008000; text-decoration-color: #008000\">'Sustainable Energy - without the hot air'</span>,\n",
       "        <span style=\"color: #008000; text-decoration-color: #008000\">'year'</span>: <span style=\"color: #008080; text-decoration-color: #008080; font-weight: bold\">2009</span>\n",
       "    <span style=\"font-weight: bold\">}</span>\n",
       "<span style=\"font-weight: bold\">]</span>\n",
       "</pre>\n"
      ],
      "text/plain": [
       "\u001b[1m[\u001b[0m\n",
       "    \u001b[1m{\u001b[0m\n",
       "        \u001b[32m'author'\u001b[0m: \u001b[32m'MacKay, David JC'\u001b[0m,\n",
       "        \u001b[32m'id'\u001b[0m: \u001b[32m'id-1234'\u001b[0m,\n",
       "        \u001b[32m'title'\u001b[0m: \u001b[32m'Sustainable Energy - without the hot air'\u001b[0m,\n",
       "        \u001b[32m'year'\u001b[0m: \u001b[1;36m2009\u001b[0m\n",
       "    \u001b[1m}\u001b[0m\n",
       "\u001b[1m]\u001b[0m\n"
      ]
     },
     "metadata": {},
     "output_type": "display_data"
    }
   ],
   "source": [
    "run_query(\"2009\")"
   ]
  },
  {
   "cell_type": "markdown",
   "id": "215900fb-ed01-46d6-8fce-5512c89ce380",
   "metadata": {},
   "source": [
    "## Specify the Field you want to match\n",
    "\n",
    "You can use the ``${field_name}:${query}`` syntax to search on specific field."
   ]
  },
  {
   "cell_type": "code",
   "execution_count": 11,
   "id": "421232f8-9ffb-4f7f-873d-3828bf81f401",
   "metadata": {},
   "outputs": [
    {
     "data": {
      "text/html": [
       "<pre style=\"white-space:pre;overflow-x:auto;line-height:normal;font-family:Menlo,'DejaVu Sans Mono',consolas,'Courier New',monospace\"><span style=\"font-weight: bold\">[</span>\n",
       "    <span style=\"font-weight: bold\">{</span>\n",
       "        <span style=\"color: #008000; text-decoration-color: #008000\">'author'</span>: <span style=\"color: #008000; text-decoration-color: #008000\">'MacKay, David JC'</span>,\n",
       "        <span style=\"color: #008000; text-decoration-color: #008000\">'id'</span>: <span style=\"color: #008000; text-decoration-color: #008000\">'id-1234'</span>,\n",
       "        <span style=\"color: #008000; text-decoration-color: #008000\">'title'</span>: <span style=\"color: #008000; text-decoration-color: #008000\">'Sustainable Energy - without the hot air'</span>,\n",
       "        <span style=\"color: #008000; text-decoration-color: #008000\">'year'</span>: <span style=\"color: #008080; text-decoration-color: #008080; font-weight: bold\">2009</span>\n",
       "    <span style=\"font-weight: bold\">}</span>\n",
       "<span style=\"font-weight: bold\">]</span>\n",
       "</pre>\n"
      ],
      "text/plain": [
       "\u001b[1m[\u001b[0m\n",
       "    \u001b[1m{\u001b[0m\n",
       "        \u001b[32m'author'\u001b[0m: \u001b[32m'MacKay, David JC'\u001b[0m,\n",
       "        \u001b[32m'id'\u001b[0m: \u001b[32m'id-1234'\u001b[0m,\n",
       "        \u001b[32m'title'\u001b[0m: \u001b[32m'Sustainable Energy - without the hot air'\u001b[0m,\n",
       "        \u001b[32m'year'\u001b[0m: \u001b[1;36m2009\u001b[0m\n",
       "    \u001b[1m}\u001b[0m\n",
       "\u001b[1m]\u001b[0m\n"
      ]
     },
     "metadata": {},
     "output_type": "display_data"
    }
   ],
   "source": [
    "run_query(\"id:id-1234\")"
   ]
  },
  {
   "cell_type": "code",
   "execution_count": 12,
   "id": "a840c831-a0f0-4b8b-acf0-190a22c7a627",
   "metadata": {},
   "outputs": [
    {
     "data": {
      "text/html": [
       "<pre style=\"white-space:pre;overflow-x:auto;line-height:normal;font-family:Menlo,'DejaVu Sans Mono',consolas,'Courier New',monospace\"><span style=\"font-weight: bold\">[</span>\n",
       "    <span style=\"font-weight: bold\">{</span>\n",
       "        <span style=\"color: #008000; text-decoration-color: #008000\">'author'</span>: <span style=\"color: #008000; text-decoration-color: #008000\">'MacKay, David JC'</span>,\n",
       "        <span style=\"color: #008000; text-decoration-color: #008000\">'id'</span>: <span style=\"color: #008000; text-decoration-color: #008000\">'id-1234'</span>,\n",
       "        <span style=\"color: #008000; text-decoration-color: #008000\">'title'</span>: <span style=\"color: #008000; text-decoration-color: #008000\">'Sustainable Energy - without the hot air'</span>,\n",
       "        <span style=\"color: #008000; text-decoration-color: #008000\">'year'</span>: <span style=\"color: #008080; text-decoration-color: #008080; font-weight: bold\">2009</span>\n",
       "    <span style=\"font-weight: bold\">}</span>\n",
       "<span style=\"font-weight: bold\">]</span>\n",
       "</pre>\n"
      ],
      "text/plain": [
       "\u001b[1m[\u001b[0m\n",
       "    \u001b[1m{\u001b[0m\n",
       "        \u001b[32m'author'\u001b[0m: \u001b[32m'MacKay, David JC'\u001b[0m,\n",
       "        \u001b[32m'id'\u001b[0m: \u001b[32m'id-1234'\u001b[0m,\n",
       "        \u001b[32m'title'\u001b[0m: \u001b[32m'Sustainable Energy - without the hot air'\u001b[0m,\n",
       "        \u001b[32m'year'\u001b[0m: \u001b[1;36m2009\u001b[0m\n",
       "    \u001b[1m}\u001b[0m\n",
       "\u001b[1m]\u001b[0m\n"
      ]
     },
     "metadata": {},
     "output_type": "display_data"
    }
   ],
   "source": [
    "run_query(\"title:energy\")"
   ]
  },
  {
   "cell_type": "code",
   "execution_count": 13,
   "id": "d5536049-86d6-4c33-818b-b8b81507de21",
   "metadata": {},
   "outputs": [
    {
     "data": {
      "text/html": [
       "<pre style=\"white-space:pre;overflow-x:auto;line-height:normal;font-family:Menlo,'DejaVu Sans Mono',consolas,'Courier New',monospace\"><span style=\"font-weight: bold\">[</span>\n",
       "    <span style=\"font-weight: bold\">{</span>\n",
       "        <span style=\"color: #008000; text-decoration-color: #008000\">'author'</span>: <span style=\"color: #008000; text-decoration-color: #008000\">'MacKay, David JC'</span>,\n",
       "        <span style=\"color: #008000; text-decoration-color: #008000\">'id'</span>: <span style=\"color: #008000; text-decoration-color: #008000\">'id-1234'</span>,\n",
       "        <span style=\"color: #008000; text-decoration-color: #008000\">'title'</span>: <span style=\"color: #008000; text-decoration-color: #008000\">'Sustainable Energy - without the hot air'</span>,\n",
       "        <span style=\"color: #008000; text-decoration-color: #008000\">'year'</span>: <span style=\"color: #008080; text-decoration-color: #008080; font-weight: bold\">2009</span>\n",
       "    <span style=\"font-weight: bold\">}</span>\n",
       "<span style=\"font-weight: bold\">]</span>\n",
       "</pre>\n"
      ],
      "text/plain": [
       "\u001b[1m[\u001b[0m\n",
       "    \u001b[1m{\u001b[0m\n",
       "        \u001b[32m'author'\u001b[0m: \u001b[32m'MacKay, David JC'\u001b[0m,\n",
       "        \u001b[32m'id'\u001b[0m: \u001b[32m'id-1234'\u001b[0m,\n",
       "        \u001b[32m'title'\u001b[0m: \u001b[32m'Sustainable Energy - without the hot air'\u001b[0m,\n",
       "        \u001b[32m'year'\u001b[0m: \u001b[1;36m2009\u001b[0m\n",
       "    \u001b[1m}\u001b[0m\n",
       "\u001b[1m]\u001b[0m\n"
      ]
     },
     "metadata": {},
     "output_type": "display_data"
    }
   ],
   "source": [
    "run_query(\"author:dav\")"
   ]
  },
  {
   "cell_type": "code",
   "execution_count": 14,
   "id": "670a3367-9098-4c7a-99ef-09a3ac4596c6",
   "metadata": {},
   "outputs": [
    {
     "data": {
      "text/html": [
       "<pre style=\"white-space:pre;overflow-x:auto;line-height:normal;font-family:Menlo,'DejaVu Sans Mono',consolas,'Courier New',monospace\"><span style=\"font-weight: bold\">[</span>\n",
       "    <span style=\"font-weight: bold\">{</span>\n",
       "        <span style=\"color: #008000; text-decoration-color: #008000\">'author'</span>: <span style=\"color: #008000; text-decoration-color: #008000\">'MacKay, David JC'</span>,\n",
       "        <span style=\"color: #008000; text-decoration-color: #008000\">'id'</span>: <span style=\"color: #008000; text-decoration-color: #008000\">'id-1234'</span>,\n",
       "        <span style=\"color: #008000; text-decoration-color: #008000\">'title'</span>: <span style=\"color: #008000; text-decoration-color: #008000\">'Sustainable Energy - without the hot air'</span>,\n",
       "        <span style=\"color: #008000; text-decoration-color: #008000\">'year'</span>: <span style=\"color: #008080; text-decoration-color: #008080; font-weight: bold\">2009</span>\n",
       "    <span style=\"font-weight: bold\">}</span>\n",
       "<span style=\"font-weight: bold\">]</span>\n",
       "</pre>\n"
      ],
      "text/plain": [
       "\u001b[1m[\u001b[0m\n",
       "    \u001b[1m{\u001b[0m\n",
       "        \u001b[32m'author'\u001b[0m: \u001b[32m'MacKay, David JC'\u001b[0m,\n",
       "        \u001b[32m'id'\u001b[0m: \u001b[32m'id-1234'\u001b[0m,\n",
       "        \u001b[32m'title'\u001b[0m: \u001b[32m'Sustainable Energy - without the hot air'\u001b[0m,\n",
       "        \u001b[32m'year'\u001b[0m: \u001b[1;36m2009\u001b[0m\n",
       "    \u001b[1m}\u001b[0m\n",
       "\u001b[1m]\u001b[0m\n"
      ]
     },
     "metadata": {},
     "output_type": "display_data"
    }
   ],
   "source": [
    "run_query(\"year:2009\")"
   ]
  },
  {
   "cell_type": "markdown",
   "id": "90bd903b-4cab-4ab5-bcca-b7f399db9f22",
   "metadata": {},
   "source": [
    "## Range Query\n",
    "\n",
    "You can use the ``${field_name}:${comparison_operator}${value}`` syntax to do range query on specific field."
   ]
  },
  {
   "cell_type": "code",
   "execution_count": 15,
   "id": "7e1d0480-52b1-4dfd-ac9b-ba38e14ae6bb",
   "metadata": {},
   "outputs": [
    {
     "data": {
      "text/html": [
       "<pre style=\"white-space:pre;overflow-x:auto;line-height:normal;font-family:Menlo,'DejaVu Sans Mono',consolas,'Courier New',monospace\"><span style=\"font-weight: bold\">[</span>\n",
       "    <span style=\"font-weight: bold\">{</span>\n",
       "        <span style=\"color: #008000; text-decoration-color: #008000\">'author'</span>: <span style=\"color: #008000; text-decoration-color: #008000\">'MacKay, David JC'</span>,\n",
       "        <span style=\"color: #008000; text-decoration-color: #008000\">'id'</span>: <span style=\"color: #008000; text-decoration-color: #008000\">'id-1234'</span>,\n",
       "        <span style=\"color: #008000; text-decoration-color: #008000\">'title'</span>: <span style=\"color: #008000; text-decoration-color: #008000\">'Sustainable Energy - without the hot air'</span>,\n",
       "        <span style=\"color: #008000; text-decoration-color: #008000\">'year'</span>: <span style=\"color: #008080; text-decoration-color: #008080; font-weight: bold\">2009</span>\n",
       "    <span style=\"font-weight: bold\">}</span>\n",
       "<span style=\"font-weight: bold\">]</span>\n",
       "</pre>\n"
      ],
      "text/plain": [
       "\u001b[1m[\u001b[0m\n",
       "    \u001b[1m{\u001b[0m\n",
       "        \u001b[32m'author'\u001b[0m: \u001b[32m'MacKay, David JC'\u001b[0m,\n",
       "        \u001b[32m'id'\u001b[0m: \u001b[32m'id-1234'\u001b[0m,\n",
       "        \u001b[32m'title'\u001b[0m: \u001b[32m'Sustainable Energy - without the hot air'\u001b[0m,\n",
       "        \u001b[32m'year'\u001b[0m: \u001b[1;36m2009\u001b[0m\n",
       "    \u001b[1m}\u001b[0m\n",
       "\u001b[1m]\u001b[0m\n"
      ]
     },
     "metadata": {},
     "output_type": "display_data"
    }
   ],
   "source": [
    "run_query(\"year:>2000\")"
   ]
  },
  {
   "cell_type": "code",
   "execution_count": 16,
   "id": "2328b60b-5d5d-4cf2-8404-7012a1136e9f",
   "metadata": {},
   "outputs": [
    {
     "data": {
      "text/html": [
       "<pre style=\"white-space:pre;overflow-x:auto;line-height:normal;font-family:Menlo,'DejaVu Sans Mono',consolas,'Courier New',monospace\"><span style=\"font-weight: bold\">[</span>\n",
       "    <span style=\"font-weight: bold\">{</span>\n",
       "        <span style=\"color: #008000; text-decoration-color: #008000\">'author'</span>: <span style=\"color: #008000; text-decoration-color: #008000\">'MacKay, David JC'</span>,\n",
       "        <span style=\"color: #008000; text-decoration-color: #008000\">'id'</span>: <span style=\"color: #008000; text-decoration-color: #008000\">'id-1234'</span>,\n",
       "        <span style=\"color: #008000; text-decoration-color: #008000\">'title'</span>: <span style=\"color: #008000; text-decoration-color: #008000\">'Sustainable Energy - without the hot air'</span>,\n",
       "        <span style=\"color: #008000; text-decoration-color: #008000\">'year'</span>: <span style=\"color: #008080; text-decoration-color: #008080; font-weight: bold\">2009</span>\n",
       "    <span style=\"font-weight: bold\">}</span>\n",
       "<span style=\"font-weight: bold\">]</span>\n",
       "</pre>\n"
      ],
      "text/plain": [
       "\u001b[1m[\u001b[0m\n",
       "    \u001b[1m{\u001b[0m\n",
       "        \u001b[32m'author'\u001b[0m: \u001b[32m'MacKay, David JC'\u001b[0m,\n",
       "        \u001b[32m'id'\u001b[0m: \u001b[32m'id-1234'\u001b[0m,\n",
       "        \u001b[32m'title'\u001b[0m: \u001b[32m'Sustainable Energy - without the hot air'\u001b[0m,\n",
       "        \u001b[32m'year'\u001b[0m: \u001b[1;36m2009\u001b[0m\n",
       "    \u001b[1m}\u001b[0m\n",
       "\u001b[1m]\u001b[0m\n"
      ]
     },
     "metadata": {},
     "output_type": "display_data"
    }
   ],
   "source": [
    "run_query(\"year:<2020\")"
   ]
  },
  {
   "cell_type": "code",
   "execution_count": 17,
   "id": "6c8cec9e-82d3-4797-ad09-f3e97f7b3262",
   "metadata": {},
   "outputs": [
    {
     "data": {
      "text/html": [
       "<pre style=\"white-space:pre;overflow-x:auto;line-height:normal;font-family:Menlo,'DejaVu Sans Mono',consolas,'Courier New',monospace\"><span style=\"font-weight: bold\">[</span>\n",
       "    <span style=\"font-weight: bold\">{</span>\n",
       "        <span style=\"color: #008000; text-decoration-color: #008000\">'author'</span>: <span style=\"color: #008000; text-decoration-color: #008000\">'MacKay, David JC'</span>,\n",
       "        <span style=\"color: #008000; text-decoration-color: #008000\">'id'</span>: <span style=\"color: #008000; text-decoration-color: #008000\">'id-1234'</span>,\n",
       "        <span style=\"color: #008000; text-decoration-color: #008000\">'title'</span>: <span style=\"color: #008000; text-decoration-color: #008000\">'Sustainable Energy - without the hot air'</span>,\n",
       "        <span style=\"color: #008000; text-decoration-color: #008000\">'year'</span>: <span style=\"color: #008080; text-decoration-color: #008080; font-weight: bold\">2009</span>\n",
       "    <span style=\"font-weight: bold\">}</span>\n",
       "<span style=\"font-weight: bold\">]</span>\n",
       "</pre>\n"
      ],
      "text/plain": [
       "\u001b[1m[\u001b[0m\n",
       "    \u001b[1m{\u001b[0m\n",
       "        \u001b[32m'author'\u001b[0m: \u001b[32m'MacKay, David JC'\u001b[0m,\n",
       "        \u001b[32m'id'\u001b[0m: \u001b[32m'id-1234'\u001b[0m,\n",
       "        \u001b[32m'title'\u001b[0m: \u001b[32m'Sustainable Energy - without the hot air'\u001b[0m,\n",
       "        \u001b[32m'year'\u001b[0m: \u001b[1;36m2009\u001b[0m\n",
       "    \u001b[1m}\u001b[0m\n",
       "\u001b[1m]\u001b[0m\n"
      ]
     },
     "metadata": {},
     "output_type": "display_data"
    }
   ],
   "source": [
    "run_query(\"year:>2000 AND year:<2020\")"
   ]
  },
  {
   "cell_type": "code",
   "execution_count": 18,
   "id": "7528fb29-9a55-42f6-a437-571d098e4f56",
   "metadata": {},
   "outputs": [
    {
     "data": {
      "text/html": [
       "<pre style=\"white-space:pre;overflow-x:auto;line-height:normal;font-family:Menlo,'DejaVu Sans Mono',consolas,'Courier New',monospace\"><span style=\"font-weight: bold\">[</span>\n",
       "    <span style=\"font-weight: bold\">{</span>\n",
       "        <span style=\"color: #008000; text-decoration-color: #008000\">'author'</span>: <span style=\"color: #008000; text-decoration-color: #008000\">'MacKay, David JC'</span>,\n",
       "        <span style=\"color: #008000; text-decoration-color: #008000\">'id'</span>: <span style=\"color: #008000; text-decoration-color: #008000\">'id-1234'</span>,\n",
       "        <span style=\"color: #008000; text-decoration-color: #008000\">'title'</span>: <span style=\"color: #008000; text-decoration-color: #008000\">'Sustainable Energy - without the hot air'</span>,\n",
       "        <span style=\"color: #008000; text-decoration-color: #008000\">'year'</span>: <span style=\"color: #008080; text-decoration-color: #008080; font-weight: bold\">2009</span>\n",
       "    <span style=\"font-weight: bold\">}</span>\n",
       "<span style=\"font-weight: bold\">]</span>\n",
       "</pre>\n"
      ],
      "text/plain": [
       "\u001b[1m[\u001b[0m\n",
       "    \u001b[1m{\u001b[0m\n",
       "        \u001b[32m'author'\u001b[0m: \u001b[32m'MacKay, David JC'\u001b[0m,\n",
       "        \u001b[32m'id'\u001b[0m: \u001b[32m'id-1234'\u001b[0m,\n",
       "        \u001b[32m'title'\u001b[0m: \u001b[32m'Sustainable Energy - without the hot air'\u001b[0m,\n",
       "        \u001b[32m'year'\u001b[0m: \u001b[1;36m2009\u001b[0m\n",
       "    \u001b[1m}\u001b[0m\n",
       "\u001b[1m]\u001b[0m\n"
      ]
     },
     "metadata": {},
     "output_type": "display_data"
    }
   ],
   "source": [
    "run_query(\"year:[2000 TO]\")"
   ]
  },
  {
   "cell_type": "code",
   "execution_count": 19,
   "id": "4c4c9f80-3e5f-42f6-bf48-89291820193a",
   "metadata": {},
   "outputs": [
    {
     "data": {
      "text/html": [
       "<pre style=\"white-space:pre;overflow-x:auto;line-height:normal;font-family:Menlo,'DejaVu Sans Mono',consolas,'Courier New',monospace\"><span style=\"font-weight: bold\">[</span>\n",
       "    <span style=\"font-weight: bold\">{</span>\n",
       "        <span style=\"color: #008000; text-decoration-color: #008000\">'author'</span>: <span style=\"color: #008000; text-decoration-color: #008000\">'MacKay, David JC'</span>,\n",
       "        <span style=\"color: #008000; text-decoration-color: #008000\">'id'</span>: <span style=\"color: #008000; text-decoration-color: #008000\">'id-1234'</span>,\n",
       "        <span style=\"color: #008000; text-decoration-color: #008000\">'title'</span>: <span style=\"color: #008000; text-decoration-color: #008000\">'Sustainable Energy - without the hot air'</span>,\n",
       "        <span style=\"color: #008000; text-decoration-color: #008000\">'year'</span>: <span style=\"color: #008080; text-decoration-color: #008080; font-weight: bold\">2009</span>\n",
       "    <span style=\"font-weight: bold\">}</span>\n",
       "<span style=\"font-weight: bold\">]</span>\n",
       "</pre>\n"
      ],
      "text/plain": [
       "\u001b[1m[\u001b[0m\n",
       "    \u001b[1m{\u001b[0m\n",
       "        \u001b[32m'author'\u001b[0m: \u001b[32m'MacKay, David JC'\u001b[0m,\n",
       "        \u001b[32m'id'\u001b[0m: \u001b[32m'id-1234'\u001b[0m,\n",
       "        \u001b[32m'title'\u001b[0m: \u001b[32m'Sustainable Energy - without the hot air'\u001b[0m,\n",
       "        \u001b[32m'year'\u001b[0m: \u001b[1;36m2009\u001b[0m\n",
       "    \u001b[1m}\u001b[0m\n",
       "\u001b[1m]\u001b[0m\n"
      ]
     },
     "metadata": {},
     "output_type": "display_data"
    }
   ],
   "source": [
    "run_query(\"year:[TO 2020]\")"
   ]
  },
  {
   "cell_type": "code",
   "execution_count": 20,
   "id": "7737ccbb-1481-4aa9-b634-ea35a6b5fbfa",
   "metadata": {},
   "outputs": [
    {
     "data": {
      "text/html": [
       "<pre style=\"white-space:pre;overflow-x:auto;line-height:normal;font-family:Menlo,'DejaVu Sans Mono',consolas,'Courier New',monospace\"><span style=\"font-weight: bold\">[</span>\n",
       "    <span style=\"font-weight: bold\">{</span>\n",
       "        <span style=\"color: #008000; text-decoration-color: #008000\">'author'</span>: <span style=\"color: #008000; text-decoration-color: #008000\">'MacKay, David JC'</span>,\n",
       "        <span style=\"color: #008000; text-decoration-color: #008000\">'id'</span>: <span style=\"color: #008000; text-decoration-color: #008000\">'id-1234'</span>,\n",
       "        <span style=\"color: #008000; text-decoration-color: #008000\">'title'</span>: <span style=\"color: #008000; text-decoration-color: #008000\">'Sustainable Energy - without the hot air'</span>,\n",
       "        <span style=\"color: #008000; text-decoration-color: #008000\">'year'</span>: <span style=\"color: #008080; text-decoration-color: #008080; font-weight: bold\">2009</span>\n",
       "    <span style=\"font-weight: bold\">}</span>\n",
       "<span style=\"font-weight: bold\">]</span>\n",
       "</pre>\n"
      ],
      "text/plain": [
       "\u001b[1m[\u001b[0m\n",
       "    \u001b[1m{\u001b[0m\n",
       "        \u001b[32m'author'\u001b[0m: \u001b[32m'MacKay, David JC'\u001b[0m,\n",
       "        \u001b[32m'id'\u001b[0m: \u001b[32m'id-1234'\u001b[0m,\n",
       "        \u001b[32m'title'\u001b[0m: \u001b[32m'Sustainable Energy - without the hot air'\u001b[0m,\n",
       "        \u001b[32m'year'\u001b[0m: \u001b[1;36m2009\u001b[0m\n",
       "    \u001b[1m}\u001b[0m\n",
       "\u001b[1m]\u001b[0m\n"
      ]
     },
     "metadata": {},
     "output_type": "display_data"
    }
   ],
   "source": [
    "run_query(\"year:[2000 TO 2020]\")"
   ]
  },
  {
   "cell_type": "markdown",
   "id": "79334f69-9484-4238-864a-cd3ec356b514",
   "metadata": {},
   "source": [
    "## Logical Operator\n",
    "\n",
    "You can use ``AND``, ``OR``, ``NOT`` syntax to connect multiple criterions. By default, it is ``AND``."
   ]
  },
  {
   "cell_type": "code",
   "execution_count": 21,
   "id": "80c703e9-b68b-4152-aa1b-6b5a928dc0e3",
   "metadata": {},
   "outputs": [
    {
     "data": {
      "text/html": [
       "<pre style=\"white-space:pre;overflow-x:auto;line-height:normal;font-family:Menlo,'DejaVu Sans Mono',consolas,'Courier New',monospace\"><span style=\"font-weight: bold\">[</span>\n",
       "    <span style=\"font-weight: bold\">{</span>\n",
       "        <span style=\"color: #008000; text-decoration-color: #008000\">'author'</span>: <span style=\"color: #008000; text-decoration-color: #008000\">'MacKay, David JC'</span>,\n",
       "        <span style=\"color: #008000; text-decoration-color: #008000\">'id'</span>: <span style=\"color: #008000; text-decoration-color: #008000\">'id-1234'</span>,\n",
       "        <span style=\"color: #008000; text-decoration-color: #008000\">'title'</span>: <span style=\"color: #008000; text-decoration-color: #008000\">'Sustainable Energy - without the hot air'</span>,\n",
       "        <span style=\"color: #008000; text-decoration-color: #008000\">'year'</span>: <span style=\"color: #008080; text-decoration-color: #008080; font-weight: bold\">2009</span>\n",
       "    <span style=\"font-weight: bold\">}</span>\n",
       "<span style=\"font-weight: bold\">]</span>\n",
       "</pre>\n"
      ],
      "text/plain": [
       "\u001b[1m[\u001b[0m\n",
       "    \u001b[1m{\u001b[0m\n",
       "        \u001b[32m'author'\u001b[0m: \u001b[32m'MacKay, David JC'\u001b[0m,\n",
       "        \u001b[32m'id'\u001b[0m: \u001b[32m'id-1234'\u001b[0m,\n",
       "        \u001b[32m'title'\u001b[0m: \u001b[32m'Sustainable Energy - without the hot air'\u001b[0m,\n",
       "        \u001b[32m'year'\u001b[0m: \u001b[1;36m2009\u001b[0m\n",
       "    \u001b[1m}\u001b[0m\n",
       "\u001b[1m]\u001b[0m\n"
      ]
     },
     "metadata": {},
     "output_type": "display_data"
    }
   ],
   "source": [
    "run_query(\"title:energy OR author:xyz\")"
   ]
  },
  {
   "cell_type": "code",
   "execution_count": 22,
   "id": "e12759c4-5203-4c85-9b42-3ab111c2de29",
   "metadata": {},
   "outputs": [
    {
     "data": {
      "text/html": [
       "<pre style=\"white-space:pre;overflow-x:auto;line-height:normal;font-family:Menlo,'DejaVu Sans Mono',consolas,'Courier New',monospace\"><span style=\"font-weight: bold\">[</span>\n",
       "    <span style=\"font-weight: bold\">{</span>\n",
       "        <span style=\"color: #008000; text-decoration-color: #008000\">'author'</span>: <span style=\"color: #008000; text-decoration-color: #008000\">'MacKay, David JC'</span>,\n",
       "        <span style=\"color: #008000; text-decoration-color: #008000\">'id'</span>: <span style=\"color: #008000; text-decoration-color: #008000\">'id-1234'</span>,\n",
       "        <span style=\"color: #008000; text-decoration-color: #008000\">'title'</span>: <span style=\"color: #008000; text-decoration-color: #008000\">'Sustainable Energy - without the hot air'</span>,\n",
       "        <span style=\"color: #008000; text-decoration-color: #008000\">'year'</span>: <span style=\"color: #008080; text-decoration-color: #008080; font-weight: bold\">2009</span>\n",
       "    <span style=\"font-weight: bold\">}</span>\n",
       "<span style=\"font-weight: bold\">]</span>\n",
       "</pre>\n"
      ],
      "text/plain": [
       "\u001b[1m[\u001b[0m\n",
       "    \u001b[1m{\u001b[0m\n",
       "        \u001b[32m'author'\u001b[0m: \u001b[32m'MacKay, David JC'\u001b[0m,\n",
       "        \u001b[32m'id'\u001b[0m: \u001b[32m'id-1234'\u001b[0m,\n",
       "        \u001b[32m'title'\u001b[0m: \u001b[32m'Sustainable Energy - without the hot air'\u001b[0m,\n",
       "        \u001b[32m'year'\u001b[0m: \u001b[1;36m2009\u001b[0m\n",
       "    \u001b[1m}\u001b[0m\n",
       "\u001b[1m]\u001b[0m\n"
      ]
     },
     "metadata": {},
     "output_type": "display_data"
    }
   ],
   "source": [
    "run_query(\"title:monster OR author:dav\")"
   ]
  },
  {
   "cell_type": "code",
   "execution_count": 23,
   "id": "9586e8c4-2d99-4839-a4b2-dacc1bbe95d0",
   "metadata": {},
   "outputs": [
    {
     "data": {
      "text/html": [
       "<pre style=\"white-space:pre;overflow-x:auto;line-height:normal;font-family:Menlo,'DejaVu Sans Mono',consolas,'Courier New',monospace\"><span style=\"font-weight: bold\">[]</span>\n",
       "</pre>\n"
      ],
      "text/plain": [
       "\u001b[1m[\u001b[0m\u001b[1m]\u001b[0m\n"
      ]
     },
     "metadata": {},
     "output_type": "display_data"
    }
   ],
   "source": [
    "run_query(\"title:monster AND author:xyz\")"
   ]
  },
  {
   "cell_type": "markdown",
   "id": "e13ec58a-7f6e-4df5-981b-c14700181c62",
   "metadata": {},
   "source": [
    "## Fuzzy Search\n",
    "\n",
    "You can use the ``${field_name}~${edit_distance}`` syntax to do fuzzy search on ``TextField``."
   ]
  },
  {
   "cell_type": "code",
   "execution_count": 24,
   "id": "a821f2c0-9dfd-4012-9627-826fd6b755df",
   "metadata": {},
   "outputs": [
    {
     "data": {
      "text/html": [
       "<pre style=\"white-space:pre;overflow-x:auto;line-height:normal;font-family:Menlo,'DejaVu Sans Mono',consolas,'Courier New',monospace\"><span style=\"font-weight: bold\">[</span>\n",
       "    <span style=\"font-weight: bold\">{</span>\n",
       "        <span style=\"color: #008000; text-decoration-color: #008000\">'author'</span>: <span style=\"color: #008000; text-decoration-color: #008000\">'MacKay, David JC'</span>,\n",
       "        <span style=\"color: #008000; text-decoration-color: #008000\">'id'</span>: <span style=\"color: #008000; text-decoration-color: #008000\">'id-1234'</span>,\n",
       "        <span style=\"color: #008000; text-decoration-color: #008000\">'title'</span>: <span style=\"color: #008000; text-decoration-color: #008000\">'Sustainable Energy - without the hot air'</span>,\n",
       "        <span style=\"color: #008000; text-decoration-color: #008000\">'year'</span>: <span style=\"color: #008080; text-decoration-color: #008080; font-weight: bold\">2009</span>\n",
       "    <span style=\"font-weight: bold\">}</span>\n",
       "<span style=\"font-weight: bold\">]</span>\n",
       "</pre>\n"
      ],
      "text/plain": [
       "\u001b[1m[\u001b[0m\n",
       "    \u001b[1m{\u001b[0m\n",
       "        \u001b[32m'author'\u001b[0m: \u001b[32m'MacKay, David JC'\u001b[0m,\n",
       "        \u001b[32m'id'\u001b[0m: \u001b[32m'id-1234'\u001b[0m,\n",
       "        \u001b[32m'title'\u001b[0m: \u001b[32m'Sustainable Energy - without the hot air'\u001b[0m,\n",
       "        \u001b[32m'year'\u001b[0m: \u001b[1;36m2009\u001b[0m\n",
       "    \u001b[1m}\u001b[0m\n",
       "\u001b[1m]\u001b[0m\n"
      ]
     },
     "metadata": {},
     "output_type": "display_data"
    }
   ],
   "source": [
    "run_query(\"title:energi~1\")"
   ]
  },
  {
   "cell_type": "markdown",
   "id": "cea22f8e-0102-4257-bd77-18d0e143063f",
   "metadata": {},
   "source": [
    "## Use More data"
   ]
  },
  {
   "cell_type": "code",
   "execution_count": 25,
   "id": "f7b9ddc6-3306-4e6c-ab0c-5548fe7d14da",
   "metadata": {},
   "outputs": [
    {
     "name": "stdout",
     "output_type": "stream",
     "text": [
      "index time: from 2023-10-01 02:54:35.292755 to 2023-10-01 02:54:35.983787 elapsed 0.691032 second.\n"
     ]
    }
   ],
   "source": [
    "data = [\n",
    "    {\n",
    "        \"id\": uuid.uuid4().hex,\n",
    "        \"title\": fake.sentence(),\n",
    "        \"author\": fake.name(),\n",
    "        \"year\": random.randint(1980, 2020),\n",
    "    }\n",
    "    for _ in range(5000) # 5,000\n",
    "]\n",
    "with DateTimeTimer(\"index time\"):\n",
    "    ds.build_index(data=data)"
   ]
  },
  {
   "cell_type": "code",
   "execution_count": 26,
   "id": "6d9e45eb-8190-47be-9aa0-03393b3efe4d",
   "metadata": {},
   "outputs": [
    {
     "data": {
      "text/html": [
       "<pre style=\"white-space:pre;overflow-x:auto;line-height:normal;font-family:Menlo,'DejaVu Sans Mono',consolas,'Courier New',monospace\"><span style=\"font-weight: bold\">[</span>\n",
       "    <span style=\"font-weight: bold\">{</span>\n",
       "        <span style=\"color: #008000; text-decoration-color: #008000\">'author'</span>: <span style=\"color: #008000; text-decoration-color: #008000\">'Samantha Thompson'</span>,\n",
       "        <span style=\"color: #008000; text-decoration-color: #008000\">'id'</span>: <span style=\"color: #008000; text-decoration-color: #008000\">'4b2be374c7274d21b744fc4b01f60d60'</span>,\n",
       "        <span style=\"color: #008000; text-decoration-color: #008000\">'title'</span>: <span style=\"color: #008000; text-decoration-color: #008000\">'Protect police relationship account rule rule.'</span>,\n",
       "        <span style=\"color: #008000; text-decoration-color: #008000\">'year'</span>: <span style=\"color: #008080; text-decoration-color: #008080; font-weight: bold\">1999</span>\n",
       "    <span style=\"font-weight: bold\">}</span>,\n",
       "    <span style=\"font-weight: bold\">{</span>\n",
       "        <span style=\"color: #008000; text-decoration-color: #008000\">'author'</span>: <span style=\"color: #008000; text-decoration-color: #008000\">'Amanda Nelson'</span>,\n",
       "        <span style=\"color: #008000; text-decoration-color: #008000\">'id'</span>: <span style=\"color: #008000; text-decoration-color: #008000\">'66ff3b7a6a6d4121b504170d3db5ba2e'</span>,\n",
       "        <span style=\"color: #008000; text-decoration-color: #008000\">'title'</span>: <span style=\"color: #008000; text-decoration-color: #008000\">'Water defense police interest more school.'</span>,\n",
       "        <span style=\"color: #008000; text-decoration-color: #008000\">'year'</span>: <span style=\"color: #008080; text-decoration-color: #008080; font-weight: bold\">1996</span>\n",
       "    <span style=\"font-weight: bold\">}</span>\n",
       "<span style=\"font-weight: bold\">]</span>\n",
       "</pre>\n"
      ],
      "text/plain": [
       "\u001b[1m[\u001b[0m\n",
       "    \u001b[1m{\u001b[0m\n",
       "        \u001b[32m'author'\u001b[0m: \u001b[32m'Samantha Thompson'\u001b[0m,\n",
       "        \u001b[32m'id'\u001b[0m: \u001b[32m'4b2be374c7274d21b744fc4b01f60d60'\u001b[0m,\n",
       "        \u001b[32m'title'\u001b[0m: \u001b[32m'Protect police relationship account rule rule.'\u001b[0m,\n",
       "        \u001b[32m'year'\u001b[0m: \u001b[1;36m1999\u001b[0m\n",
       "    \u001b[1m}\u001b[0m,\n",
       "    \u001b[1m{\u001b[0m\n",
       "        \u001b[32m'author'\u001b[0m: \u001b[32m'Amanda Nelson'\u001b[0m,\n",
       "        \u001b[32m'id'\u001b[0m: \u001b[32m'66ff3b7a6a6d4121b504170d3db5ba2e'\u001b[0m,\n",
       "        \u001b[32m'title'\u001b[0m: \u001b[32m'Water defense police interest more school.'\u001b[0m,\n",
       "        \u001b[32m'year'\u001b[0m: \u001b[1;36m1996\u001b[0m\n",
       "    \u001b[1m}\u001b[0m\n",
       "\u001b[1m]\u001b[0m\n"
      ]
     },
     "metadata": {},
     "output_type": "display_data"
    },
    {
     "name": "stdout",
     "output_type": "stream",
     "text": [
      "query time: from 2023-10-01 02:54:35.987750 to 2023-10-01 02:54:36.043777 elapsed 0.056027 second.\n"
     ]
    }
   ],
   "source": [
    "with DateTimeTimer(\"query time\"):\n",
    "    run_query(\"police man\")"
   ]
  },
  {
   "cell_type": "markdown",
   "id": "6a876fb6-871b-4fb6-8521-8202329b9755",
   "metadata": {},
   "source": [
    "## Return ElasticSearch HTTP Response Liked Result\n",
    "\n",
    "You can use ``simple_response=False`` to return ElasticSearch HTTP response like result. It gives you the query time, number of results and if the cache is hit."
   ]
  },
  {
   "cell_type": "code",
   "execution_count": 27,
   "id": "cf1fdf52-a193-4539-a246-13d54a77f8af",
   "metadata": {},
   "outputs": [
    {
     "data": {
      "text/html": [
       "<pre style=\"white-space:pre;overflow-x:auto;line-height:normal;font-family:Menlo,'DejaVu Sans Mono',consolas,'Courier New',monospace\"><span style=\"font-weight: bold\">{</span>\n",
       "    <span style=\"color: #008000; text-decoration-color: #008000\">'index'</span>: <span style=\"color: #008000; text-decoration-color: #008000\">'my-dataset'</span>,\n",
       "    <span style=\"color: #008000; text-decoration-color: #008000\">'took'</span>: <span style=\"color: #008080; text-decoration-color: #008080; font-weight: bold\">12</span>,\n",
       "    <span style=\"color: #008000; text-decoration-color: #008000\">'size'</span>: <span style=\"color: #008080; text-decoration-color: #008080; font-weight: bold\">2</span>,\n",
       "    <span style=\"color: #008000; text-decoration-color: #008000\">'cache'</span>: <span style=\"color: #ff0000; text-decoration-color: #ff0000; font-style: italic\">False</span>,\n",
       "    <span style=\"color: #008000; text-decoration-color: #008000\">'hits'</span>: <span style=\"font-weight: bold\">[</span>\n",
       "        <span style=\"font-weight: bold\">{</span>\n",
       "            <span style=\"color: #008000; text-decoration-color: #008000\">'_id'</span>: <span style=\"color: #008080; text-decoration-color: #008080; font-weight: bold\">2754</span>,\n",
       "            <span style=\"color: #008000; text-decoration-color: #008000\">'_score'</span>: <span style=\"color: #008080; text-decoration-color: #008080; font-weight: bold\">-2147485647</span>,\n",
       "            <span style=\"color: #008000; text-decoration-color: #008000\">'_source'</span>: <span style=\"font-weight: bold\">{</span>\n",
       "                <span style=\"color: #008000; text-decoration-color: #008000\">'author'</span>: <span style=\"color: #008000; text-decoration-color: #008000\">'Samantha Thompson'</span>,\n",
       "                <span style=\"color: #008000; text-decoration-color: #008000\">'id'</span>: <span style=\"color: #008000; text-decoration-color: #008000\">'4b2be374c7274d21b744fc4b01f60d60'</span>,\n",
       "                <span style=\"color: #008000; text-decoration-color: #008000\">'title'</span>: <span style=\"color: #008000; text-decoration-color: #008000\">'Protect police relationship account rule rule.'</span>,\n",
       "                <span style=\"color: #008000; text-decoration-color: #008000\">'year'</span>: <span style=\"color: #008080; text-decoration-color: #008080; font-weight: bold\">1999</span>\n",
       "            <span style=\"font-weight: bold\">}</span>\n",
       "        <span style=\"font-weight: bold\">}</span>,\n",
       "        <span style=\"font-weight: bold\">{</span>\n",
       "            <span style=\"color: #008000; text-decoration-color: #008000\">'_id'</span>: <span style=\"color: #008080; text-decoration-color: #008080; font-weight: bold\">3687</span>,\n",
       "            <span style=\"color: #008000; text-decoration-color: #008000\">'_score'</span>: <span style=\"color: #008080; text-decoration-color: #008080; font-weight: bold\">-2147485644</span>,\n",
       "            <span style=\"color: #008000; text-decoration-color: #008000\">'_source'</span>: <span style=\"font-weight: bold\">{</span>\n",
       "                <span style=\"color: #008000; text-decoration-color: #008000\">'author'</span>: <span style=\"color: #008000; text-decoration-color: #008000\">'Amanda Nelson'</span>,\n",
       "                <span style=\"color: #008000; text-decoration-color: #008000\">'id'</span>: <span style=\"color: #008000; text-decoration-color: #008000\">'66ff3b7a6a6d4121b504170d3db5ba2e'</span>,\n",
       "                <span style=\"color: #008000; text-decoration-color: #008000\">'title'</span>: <span style=\"color: #008000; text-decoration-color: #008000\">'Water defense police interest more school.'</span>,\n",
       "                <span style=\"color: #008000; text-decoration-color: #008000\">'year'</span>: <span style=\"color: #008080; text-decoration-color: #008080; font-weight: bold\">1996</span>\n",
       "            <span style=\"font-weight: bold\">}</span>\n",
       "        <span style=\"font-weight: bold\">}</span>\n",
       "    <span style=\"font-weight: bold\">]</span>\n",
       "<span style=\"font-weight: bold\">}</span>\n",
       "</pre>\n"
      ],
      "text/plain": [
       "\u001b[1m{\u001b[0m\n",
       "    \u001b[32m'index'\u001b[0m: \u001b[32m'my-dataset'\u001b[0m,\n",
       "    \u001b[32m'took'\u001b[0m: \u001b[1;36m12\u001b[0m,\n",
       "    \u001b[32m'size'\u001b[0m: \u001b[1;36m2\u001b[0m,\n",
       "    \u001b[32m'cache'\u001b[0m: \u001b[3;91mFalse\u001b[0m,\n",
       "    \u001b[32m'hits'\u001b[0m: \u001b[1m[\u001b[0m\n",
       "        \u001b[1m{\u001b[0m\n",
       "            \u001b[32m'_id'\u001b[0m: \u001b[1;36m2754\u001b[0m,\n",
       "            \u001b[32m'_score'\u001b[0m: \u001b[1;36m-2147485647\u001b[0m,\n",
       "            \u001b[32m'_source'\u001b[0m: \u001b[1m{\u001b[0m\n",
       "                \u001b[32m'author'\u001b[0m: \u001b[32m'Samantha Thompson'\u001b[0m,\n",
       "                \u001b[32m'id'\u001b[0m: \u001b[32m'4b2be374c7274d21b744fc4b01f60d60'\u001b[0m,\n",
       "                \u001b[32m'title'\u001b[0m: \u001b[32m'Protect police relationship account rule rule.'\u001b[0m,\n",
       "                \u001b[32m'year'\u001b[0m: \u001b[1;36m1999\u001b[0m\n",
       "            \u001b[1m}\u001b[0m\n",
       "        \u001b[1m}\u001b[0m,\n",
       "        \u001b[1m{\u001b[0m\n",
       "            \u001b[32m'_id'\u001b[0m: \u001b[1;36m3687\u001b[0m,\n",
       "            \u001b[32m'_score'\u001b[0m: \u001b[1;36m-2147485644\u001b[0m,\n",
       "            \u001b[32m'_source'\u001b[0m: \u001b[1m{\u001b[0m\n",
       "                \u001b[32m'author'\u001b[0m: \u001b[32m'Amanda Nelson'\u001b[0m,\n",
       "                \u001b[32m'id'\u001b[0m: \u001b[32m'66ff3b7a6a6d4121b504170d3db5ba2e'\u001b[0m,\n",
       "                \u001b[32m'title'\u001b[0m: \u001b[32m'Water defense police interest more school.'\u001b[0m,\n",
       "                \u001b[32m'year'\u001b[0m: \u001b[1;36m1996\u001b[0m\n",
       "            \u001b[1m}\u001b[0m\n",
       "        \u001b[1m}\u001b[0m\n",
       "    \u001b[1m]\u001b[0m\n",
       "\u001b[1m}\u001b[0m\n"
      ]
     },
     "metadata": {},
     "output_type": "display_data"
    }
   ],
   "source": [
    "run_query(\"police man\", simple_response=False)"
   ]
  },
  {
   "cell_type": "code",
   "execution_count": 28,
   "id": "abc60f17-d785-46f2-9b76-fc996931d305",
   "metadata": {},
   "outputs": [
    {
     "data": {
      "text/html": [
       "<pre style=\"white-space:pre;overflow-x:auto;line-height:normal;font-family:Menlo,'DejaVu Sans Mono',consolas,'Courier New',monospace\"><span style=\"font-weight: bold\">{</span>\n",
       "    <span style=\"color: #008000; text-decoration-color: #008000\">'index'</span>: <span style=\"color: #008000; text-decoration-color: #008000\">'my-dataset'</span>,\n",
       "    <span style=\"color: #008000; text-decoration-color: #008000\">'took'</span>: <span style=\"color: #008080; text-decoration-color: #008080; font-weight: bold\">12</span>,\n",
       "    <span style=\"color: #008000; text-decoration-color: #008000\">'size'</span>: <span style=\"color: #008080; text-decoration-color: #008080; font-weight: bold\">2</span>,\n",
       "    <span style=\"color: #008000; text-decoration-color: #008000\">'cache'</span>: <span style=\"color: #00ff00; text-decoration-color: #00ff00; font-style: italic\">True</span>,\n",
       "    <span style=\"color: #008000; text-decoration-color: #008000\">'hits'</span>: <span style=\"font-weight: bold\">[</span>\n",
       "        <span style=\"font-weight: bold\">{</span>\n",
       "            <span style=\"color: #008000; text-decoration-color: #008000\">'_id'</span>: <span style=\"color: #008080; text-decoration-color: #008080; font-weight: bold\">2754</span>,\n",
       "            <span style=\"color: #008000; text-decoration-color: #008000\">'_score'</span>: <span style=\"color: #008080; text-decoration-color: #008080; font-weight: bold\">-2147485647</span>,\n",
       "            <span style=\"color: #008000; text-decoration-color: #008000\">'_source'</span>: <span style=\"font-weight: bold\">{</span>\n",
       "                <span style=\"color: #008000; text-decoration-color: #008000\">'author'</span>: <span style=\"color: #008000; text-decoration-color: #008000\">'Samantha Thompson'</span>,\n",
       "                <span style=\"color: #008000; text-decoration-color: #008000\">'id'</span>: <span style=\"color: #008000; text-decoration-color: #008000\">'4b2be374c7274d21b744fc4b01f60d60'</span>,\n",
       "                <span style=\"color: #008000; text-decoration-color: #008000\">'title'</span>: <span style=\"color: #008000; text-decoration-color: #008000\">'Protect police relationship account rule rule.'</span>,\n",
       "                <span style=\"color: #008000; text-decoration-color: #008000\">'year'</span>: <span style=\"color: #008080; text-decoration-color: #008080; font-weight: bold\">1999</span>\n",
       "            <span style=\"font-weight: bold\">}</span>\n",
       "        <span style=\"font-weight: bold\">}</span>,\n",
       "        <span style=\"font-weight: bold\">{</span>\n",
       "            <span style=\"color: #008000; text-decoration-color: #008000\">'_id'</span>: <span style=\"color: #008080; text-decoration-color: #008080; font-weight: bold\">3687</span>,\n",
       "            <span style=\"color: #008000; text-decoration-color: #008000\">'_score'</span>: <span style=\"color: #008080; text-decoration-color: #008080; font-weight: bold\">-2147485644</span>,\n",
       "            <span style=\"color: #008000; text-decoration-color: #008000\">'_source'</span>: <span style=\"font-weight: bold\">{</span>\n",
       "                <span style=\"color: #008000; text-decoration-color: #008000\">'author'</span>: <span style=\"color: #008000; text-decoration-color: #008000\">'Amanda Nelson'</span>,\n",
       "                <span style=\"color: #008000; text-decoration-color: #008000\">'id'</span>: <span style=\"color: #008000; text-decoration-color: #008000\">'66ff3b7a6a6d4121b504170d3db5ba2e'</span>,\n",
       "                <span style=\"color: #008000; text-decoration-color: #008000\">'title'</span>: <span style=\"color: #008000; text-decoration-color: #008000\">'Water defense police interest more school.'</span>,\n",
       "                <span style=\"color: #008000; text-decoration-color: #008000\">'year'</span>: <span style=\"color: #008080; text-decoration-color: #008080; font-weight: bold\">1996</span>\n",
       "            <span style=\"font-weight: bold\">}</span>\n",
       "        <span style=\"font-weight: bold\">}</span>\n",
       "    <span style=\"font-weight: bold\">]</span>\n",
       "<span style=\"font-weight: bold\">}</span>\n",
       "</pre>\n"
      ],
      "text/plain": [
       "\u001b[1m{\u001b[0m\n",
       "    \u001b[32m'index'\u001b[0m: \u001b[32m'my-dataset'\u001b[0m,\n",
       "    \u001b[32m'took'\u001b[0m: \u001b[1;36m12\u001b[0m,\n",
       "    \u001b[32m'size'\u001b[0m: \u001b[1;36m2\u001b[0m,\n",
       "    \u001b[32m'cache'\u001b[0m: \u001b[3;92mTrue\u001b[0m,\n",
       "    \u001b[32m'hits'\u001b[0m: \u001b[1m[\u001b[0m\n",
       "        \u001b[1m{\u001b[0m\n",
       "            \u001b[32m'_id'\u001b[0m: \u001b[1;36m2754\u001b[0m,\n",
       "            \u001b[32m'_score'\u001b[0m: \u001b[1;36m-2147485647\u001b[0m,\n",
       "            \u001b[32m'_source'\u001b[0m: \u001b[1m{\u001b[0m\n",
       "                \u001b[32m'author'\u001b[0m: \u001b[32m'Samantha Thompson'\u001b[0m,\n",
       "                \u001b[32m'id'\u001b[0m: \u001b[32m'4b2be374c7274d21b744fc4b01f60d60'\u001b[0m,\n",
       "                \u001b[32m'title'\u001b[0m: \u001b[32m'Protect police relationship account rule rule.'\u001b[0m,\n",
       "                \u001b[32m'year'\u001b[0m: \u001b[1;36m1999\u001b[0m\n",
       "            \u001b[1m}\u001b[0m\n",
       "        \u001b[1m}\u001b[0m,\n",
       "        \u001b[1m{\u001b[0m\n",
       "            \u001b[32m'_id'\u001b[0m: \u001b[1;36m3687\u001b[0m,\n",
       "            \u001b[32m'_score'\u001b[0m: \u001b[1;36m-2147485644\u001b[0m,\n",
       "            \u001b[32m'_source'\u001b[0m: \u001b[1m{\u001b[0m\n",
       "                \u001b[32m'author'\u001b[0m: \u001b[32m'Amanda Nelson'\u001b[0m,\n",
       "                \u001b[32m'id'\u001b[0m: \u001b[32m'66ff3b7a6a6d4121b504170d3db5ba2e'\u001b[0m,\n",
       "                \u001b[32m'title'\u001b[0m: \u001b[32m'Water defense police interest more school.'\u001b[0m,\n",
       "                \u001b[32m'year'\u001b[0m: \u001b[1;36m1996\u001b[0m\n",
       "            \u001b[1m}\u001b[0m\n",
       "        \u001b[1m}\u001b[0m\n",
       "    \u001b[1m]\u001b[0m\n",
       "\u001b[1m}\u001b[0m\n"
      ]
     },
     "metadata": {},
     "output_type": "display_data"
    }
   ],
   "source": [
    "run_query(\"police man\", simple_response=False)"
   ]
  },
  {
   "cell_type": "markdown",
   "id": "3e7d7843-b353-40c1-8cc8-3dc5858ba898",
   "metadata": {},
   "source": [
    "## Refreshable DataSet"
   ]
  },
  {
   "cell_type": "code",
   "execution_count": 29,
   "id": "84496bdf-27f0-49fd-8f41-cc8cca5f3e56",
   "metadata": {},
   "outputs": [],
   "source": [
    "# downloader is a callable function that pull the dataset we need, and\n",
    "# returns a list of record, each record is a dict data. This function\n",
    "# will be called if your cache expired or you force to refresh the data.\n",
    "# this downloader function takes an environment name as input,\n",
    "# and returns a list of VM machine records in that environment.\n",
    "def downloader(env: str) -> T.List[T.Dict[str, T.Any]]:\n",
    "    n = 10\n",
    "    return [\n",
    "        {\"id\": ith, \"name\": f\"{ith}th-{env}-machine\"} for ith in range(1, 1 + n)\n",
    "    ]\n",
    "\n",
    "# cache key definition can be a literal value as the cache key \n",
    "# or a callable function that takes the download kwargs and optional context data as input, \n",
    "# and returns the cache key. \n",
    "# The evaluated value will be used as part of the \n",
    "# ``index_name``, ``cache_key`` and ``cache_tag`` naming convention.\n",
    "def cache_key_def(\n",
    "    download_kwargs: T_KWARGS,\n",
    "    context: T_CONTEXT,\n",
    "):\n",
    "    return [download_kwargs[\"env\"]]\n",
    "\n",
    "# convert the record into whoosh indexable document, the document schema should match the definition in ``fields``.\n",
    "def extractor(\n",
    "    record: T_RECORD,\n",
    "    download_kwargs: T_KWARGS,\n",
    "    context: T_CONTEXT,\n",
    ") -> T_RECORD:\n",
    "    greeting = context[\"greeting\"]\n",
    "    name = record[\"name\"]\n",
    "    return {\"message\": f\"{greeting} {name}\", \"raw\": record}\n",
    "\n",
    "# we would like to use ngram words search on message field\n",
    "# and store the raw data as it is\n",
    "fields = [\n",
    "    NgramWordsField(\n",
    "        name=\"message\",\n",
    "        stored=True,\n",
    "        minsize=2,\n",
    "        maxsize=6,\n",
    "    ),\n",
    "    StoredField(\n",
    "        name=\"raw\",\n",
    "    ),\n",
    "]\n",
    "\n",
    "rds = RefreshableDataSet(\n",
    "    downloader=downloader,\n",
    "    cache_key_def=cache_key_def,\n",
    "    extractor=extractor,\n",
    "    fields=fields,\n",
    "    dir_index=dir_here.joinpath(\".index\"), # where the index locate\n",
    "    cache=Cache(str(dir_here.joinpath(\".cache\")), tag_index=True), # where the cache locate\n",
    "    cache_expire=10,\n",
    "    context={\"greeting\": \"Hello\"},\n",
    ")\n",
    "rds.remove_all_index()\n",
    "rds.remove_all_cache()"
   ]
  },
  {
   "cell_type": "code",
   "execution_count": 30,
   "id": "bee2d760-633d-4397-9c0a-789094f9bc66",
   "metadata": {},
   "outputs": [
    {
     "data": {
      "text/html": [
       "<pre style=\"white-space:pre;overflow-x:auto;line-height:normal;font-family:Menlo,'DejaVu Sans Mono',consolas,'Courier New',monospace\"><span style=\"font-weight: bold\">{</span>\n",
       "    <span style=\"color: #008000; text-decoration-color: #008000\">'index'</span>: <span style=\"color: #008000; text-decoration-color: #008000\">'e77989'</span>,\n",
       "    <span style=\"color: #008000; text-decoration-color: #008000\">'took'</span>: <span style=\"color: #008080; text-decoration-color: #008080; font-weight: bold\">0</span>,\n",
       "    <span style=\"color: #008000; text-decoration-color: #008000\">'size'</span>: <span style=\"color: #008080; text-decoration-color: #008080; font-weight: bold\">3</span>,\n",
       "    <span style=\"color: #008000; text-decoration-color: #008000\">'cache'</span>: <span style=\"color: #ff0000; text-decoration-color: #ff0000; font-style: italic\">False</span>,\n",
       "    <span style=\"color: #008000; text-decoration-color: #008000\">'hits'</span>: <span style=\"font-weight: bold\">[</span>\n",
       "        <span style=\"font-weight: bold\">{</span>\n",
       "            <span style=\"color: #008000; text-decoration-color: #008000\">'_id'</span>: <span style=\"color: #008080; text-decoration-color: #008080; font-weight: bold\">0</span>,\n",
       "            <span style=\"color: #008000; text-decoration-color: #008000\">'_score'</span>: <span style=\"color: #008080; text-decoration-color: #008080; font-weight: bold\">0.907758877256271</span>,\n",
       "            <span style=\"color: #008000; text-decoration-color: #008000\">'_source'</span>: <span style=\"font-weight: bold\">{</span><span style=\"color: #008000; text-decoration-color: #008000\">'message'</span>: <span style=\"color: #008000; text-decoration-color: #008000\">'Hello 1th-dev-machine'</span>, <span style=\"color: #008000; text-decoration-color: #008000\">'raw'</span>: <span style=\"font-weight: bold\">{</span><span style=\"color: #008000; text-decoration-color: #008000\">'id'</span>: <span style=\"color: #008080; text-decoration-color: #008080; font-weight: bold\">1</span>, <span style=\"color: #008000; text-decoration-color: #008000\">'name'</span>: <span style=\"color: #008000; text-decoration-color: #008000\">'1th-dev-machine'</span><span style=\"font-weight: bold\">}}</span>\n",
       "        <span style=\"font-weight: bold\">}</span>,\n",
       "        <span style=\"font-weight: bold\">{</span>\n",
       "            <span style=\"color: #008000; text-decoration-color: #008000\">'_id'</span>: <span style=\"color: #008080; text-decoration-color: #008080; font-weight: bold\">1</span>,\n",
       "            <span style=\"color: #008000; text-decoration-color: #008000\">'_score'</span>: <span style=\"color: #008080; text-decoration-color: #008080; font-weight: bold\">0.907758877256271</span>,\n",
       "            <span style=\"color: #008000; text-decoration-color: #008000\">'_source'</span>: <span style=\"font-weight: bold\">{</span><span style=\"color: #008000; text-decoration-color: #008000\">'message'</span>: <span style=\"color: #008000; text-decoration-color: #008000\">'Hello 2th-dev-machine'</span>, <span style=\"color: #008000; text-decoration-color: #008000\">'raw'</span>: <span style=\"font-weight: bold\">{</span><span style=\"color: #008000; text-decoration-color: #008000\">'id'</span>: <span style=\"color: #008080; text-decoration-color: #008080; font-weight: bold\">2</span>, <span style=\"color: #008000; text-decoration-color: #008000\">'name'</span>: <span style=\"color: #008000; text-decoration-color: #008000\">'2th-dev-machine'</span><span style=\"font-weight: bold\">}}</span>\n",
       "        <span style=\"font-weight: bold\">}</span>,\n",
       "        <span style=\"font-weight: bold\">{</span>\n",
       "            <span style=\"color: #008000; text-decoration-color: #008000\">'_id'</span>: <span style=\"color: #008080; text-decoration-color: #008080; font-weight: bold\">2</span>,\n",
       "            <span style=\"color: #008000; text-decoration-color: #008000\">'_score'</span>: <span style=\"color: #008080; text-decoration-color: #008080; font-weight: bold\">0.907758877256271</span>,\n",
       "            <span style=\"color: #008000; text-decoration-color: #008000\">'_source'</span>: <span style=\"font-weight: bold\">{</span><span style=\"color: #008000; text-decoration-color: #008000\">'message'</span>: <span style=\"color: #008000; text-decoration-color: #008000\">'Hello 3th-dev-machine'</span>, <span style=\"color: #008000; text-decoration-color: #008000\">'raw'</span>: <span style=\"font-weight: bold\">{</span><span style=\"color: #008000; text-decoration-color: #008000\">'id'</span>: <span style=\"color: #008080; text-decoration-color: #008080; font-weight: bold\">3</span>, <span style=\"color: #008000; text-decoration-color: #008000\">'name'</span>: <span style=\"color: #008000; text-decoration-color: #008000\">'3th-dev-machine'</span><span style=\"font-weight: bold\">}}</span>\n",
       "        <span style=\"font-weight: bold\">}</span>\n",
       "    <span style=\"font-weight: bold\">]</span>,\n",
       "    <span style=\"color: #008000; text-decoration-color: #008000\">'fresh'</span>: <span style=\"color: #00ff00; text-decoration-color: #00ff00; font-style: italic\">True</span>\n",
       "<span style=\"font-weight: bold\">}</span>\n",
       "</pre>\n"
      ],
      "text/plain": [
       "\u001b[1m{\u001b[0m\n",
       "    \u001b[32m'index'\u001b[0m: \u001b[32m'e77989'\u001b[0m,\n",
       "    \u001b[32m'took'\u001b[0m: \u001b[1;36m0\u001b[0m,\n",
       "    \u001b[32m'size'\u001b[0m: \u001b[1;36m3\u001b[0m,\n",
       "    \u001b[32m'cache'\u001b[0m: \u001b[3;91mFalse\u001b[0m,\n",
       "    \u001b[32m'hits'\u001b[0m: \u001b[1m[\u001b[0m\n",
       "        \u001b[1m{\u001b[0m\n",
       "            \u001b[32m'_id'\u001b[0m: \u001b[1;36m0\u001b[0m,\n",
       "            \u001b[32m'_score'\u001b[0m: \u001b[1;36m0.907758877256271\u001b[0m,\n",
       "            \u001b[32m'_source'\u001b[0m: \u001b[1m{\u001b[0m\u001b[32m'message'\u001b[0m: \u001b[32m'Hello 1th-dev-machine'\u001b[0m, \u001b[32m'raw'\u001b[0m: \u001b[1m{\u001b[0m\u001b[32m'id'\u001b[0m: \u001b[1;36m1\u001b[0m, \u001b[32m'name'\u001b[0m: \u001b[32m'1th-dev-machine'\u001b[0m\u001b[1m}\u001b[0m\u001b[1m}\u001b[0m\n",
       "        \u001b[1m}\u001b[0m,\n",
       "        \u001b[1m{\u001b[0m\n",
       "            \u001b[32m'_id'\u001b[0m: \u001b[1;36m1\u001b[0m,\n",
       "            \u001b[32m'_score'\u001b[0m: \u001b[1;36m0.907758877256271\u001b[0m,\n",
       "            \u001b[32m'_source'\u001b[0m: \u001b[1m{\u001b[0m\u001b[32m'message'\u001b[0m: \u001b[32m'Hello 2th-dev-machine'\u001b[0m, \u001b[32m'raw'\u001b[0m: \u001b[1m{\u001b[0m\u001b[32m'id'\u001b[0m: \u001b[1;36m2\u001b[0m, \u001b[32m'name'\u001b[0m: \u001b[32m'2th-dev-machine'\u001b[0m\u001b[1m}\u001b[0m\u001b[1m}\u001b[0m\n",
       "        \u001b[1m}\u001b[0m,\n",
       "        \u001b[1m{\u001b[0m\n",
       "            \u001b[32m'_id'\u001b[0m: \u001b[1;36m2\u001b[0m,\n",
       "            \u001b[32m'_score'\u001b[0m: \u001b[1;36m0.907758877256271\u001b[0m,\n",
       "            \u001b[32m'_source'\u001b[0m: \u001b[1m{\u001b[0m\u001b[32m'message'\u001b[0m: \u001b[32m'Hello 3th-dev-machine'\u001b[0m, \u001b[32m'raw'\u001b[0m: \u001b[1m{\u001b[0m\u001b[32m'id'\u001b[0m: \u001b[1;36m3\u001b[0m, \u001b[32m'name'\u001b[0m: \u001b[32m'3th-dev-machine'\u001b[0m\u001b[1m}\u001b[0m\u001b[1m}\u001b[0m\n",
       "        \u001b[1m}\u001b[0m\n",
       "    \u001b[1m]\u001b[0m,\n",
       "    \u001b[32m'fresh'\u001b[0m: \u001b[3;92mTrue\u001b[0m\n",
       "\u001b[1m}\u001b[0m\n"
      ]
     },
     "metadata": {},
     "output_type": "display_data"
    }
   ],
   "source": [
    "# this is first time, so fresh = True and cache = False\n",
    "res = rds.search(\n",
    "    download_kwargs={\"env\": \"dev\"},\n",
    "    refresh_data=True,\n",
    "    query=\"dev\",\n",
    "    limit=3,\n",
    ")\n",
    "rprint(res)"
   ]
  },
  {
   "cell_type": "code",
   "execution_count": 31,
   "id": "fd3e8091-85a5-4e4d-bf1a-43170216cdc1",
   "metadata": {},
   "outputs": [
    {
     "data": {
      "text/html": [
       "<pre style=\"white-space:pre;overflow-x:auto;line-height:normal;font-family:Menlo,'DejaVu Sans Mono',consolas,'Courier New',monospace\"><span style=\"font-weight: bold\">{</span>\n",
       "    <span style=\"color: #008000; text-decoration-color: #008000\">'index'</span>: <span style=\"color: #008000; text-decoration-color: #008000\">'e77989'</span>,\n",
       "    <span style=\"color: #008000; text-decoration-color: #008000\">'took'</span>: <span style=\"color: #008080; text-decoration-color: #008080; font-weight: bold\">0</span>,\n",
       "    <span style=\"color: #008000; text-decoration-color: #008000\">'size'</span>: <span style=\"color: #008080; text-decoration-color: #008080; font-weight: bold\">3</span>,\n",
       "    <span style=\"color: #008000; text-decoration-color: #008000\">'cache'</span>: <span style=\"color: #00ff00; text-decoration-color: #00ff00; font-style: italic\">True</span>,\n",
       "    <span style=\"color: #008000; text-decoration-color: #008000\">'hits'</span>: <span style=\"font-weight: bold\">[</span>\n",
       "        <span style=\"font-weight: bold\">{</span>\n",
       "            <span style=\"color: #008000; text-decoration-color: #008000\">'_id'</span>: <span style=\"color: #008080; text-decoration-color: #008080; font-weight: bold\">0</span>,\n",
       "            <span style=\"color: #008000; text-decoration-color: #008000\">'_score'</span>: <span style=\"color: #008080; text-decoration-color: #008080; font-weight: bold\">0.907758877256271</span>,\n",
       "            <span style=\"color: #008000; text-decoration-color: #008000\">'_source'</span>: <span style=\"font-weight: bold\">{</span><span style=\"color: #008000; text-decoration-color: #008000\">'message'</span>: <span style=\"color: #008000; text-decoration-color: #008000\">'Hello 1th-dev-machine'</span>, <span style=\"color: #008000; text-decoration-color: #008000\">'raw'</span>: <span style=\"font-weight: bold\">{</span><span style=\"color: #008000; text-decoration-color: #008000\">'id'</span>: <span style=\"color: #008080; text-decoration-color: #008080; font-weight: bold\">1</span>, <span style=\"color: #008000; text-decoration-color: #008000\">'name'</span>: <span style=\"color: #008000; text-decoration-color: #008000\">'1th-dev-machine'</span><span style=\"font-weight: bold\">}}</span>\n",
       "        <span style=\"font-weight: bold\">}</span>,\n",
       "        <span style=\"font-weight: bold\">{</span>\n",
       "            <span style=\"color: #008000; text-decoration-color: #008000\">'_id'</span>: <span style=\"color: #008080; text-decoration-color: #008080; font-weight: bold\">1</span>,\n",
       "            <span style=\"color: #008000; text-decoration-color: #008000\">'_score'</span>: <span style=\"color: #008080; text-decoration-color: #008080; font-weight: bold\">0.907758877256271</span>,\n",
       "            <span style=\"color: #008000; text-decoration-color: #008000\">'_source'</span>: <span style=\"font-weight: bold\">{</span><span style=\"color: #008000; text-decoration-color: #008000\">'message'</span>: <span style=\"color: #008000; text-decoration-color: #008000\">'Hello 2th-dev-machine'</span>, <span style=\"color: #008000; text-decoration-color: #008000\">'raw'</span>: <span style=\"font-weight: bold\">{</span><span style=\"color: #008000; text-decoration-color: #008000\">'id'</span>: <span style=\"color: #008080; text-decoration-color: #008080; font-weight: bold\">2</span>, <span style=\"color: #008000; text-decoration-color: #008000\">'name'</span>: <span style=\"color: #008000; text-decoration-color: #008000\">'2th-dev-machine'</span><span style=\"font-weight: bold\">}}</span>\n",
       "        <span style=\"font-weight: bold\">}</span>,\n",
       "        <span style=\"font-weight: bold\">{</span>\n",
       "            <span style=\"color: #008000; text-decoration-color: #008000\">'_id'</span>: <span style=\"color: #008080; text-decoration-color: #008080; font-weight: bold\">2</span>,\n",
       "            <span style=\"color: #008000; text-decoration-color: #008000\">'_score'</span>: <span style=\"color: #008080; text-decoration-color: #008080; font-weight: bold\">0.907758877256271</span>,\n",
       "            <span style=\"color: #008000; text-decoration-color: #008000\">'_source'</span>: <span style=\"font-weight: bold\">{</span><span style=\"color: #008000; text-decoration-color: #008000\">'message'</span>: <span style=\"color: #008000; text-decoration-color: #008000\">'Hello 3th-dev-machine'</span>, <span style=\"color: #008000; text-decoration-color: #008000\">'raw'</span>: <span style=\"font-weight: bold\">{</span><span style=\"color: #008000; text-decoration-color: #008000\">'id'</span>: <span style=\"color: #008080; text-decoration-color: #008080; font-weight: bold\">3</span>, <span style=\"color: #008000; text-decoration-color: #008000\">'name'</span>: <span style=\"color: #008000; text-decoration-color: #008000\">'3th-dev-machine'</span><span style=\"font-weight: bold\">}}</span>\n",
       "        <span style=\"font-weight: bold\">}</span>\n",
       "    <span style=\"font-weight: bold\">]</span>,\n",
       "    <span style=\"color: #008000; text-decoration-color: #008000\">'fresh'</span>: <span style=\"color: #ff0000; text-decoration-color: #ff0000; font-style: italic\">False</span>\n",
       "<span style=\"font-weight: bold\">}</span>\n",
       "</pre>\n"
      ],
      "text/plain": [
       "\u001b[1m{\u001b[0m\n",
       "    \u001b[32m'index'\u001b[0m: \u001b[32m'e77989'\u001b[0m,\n",
       "    \u001b[32m'took'\u001b[0m: \u001b[1;36m0\u001b[0m,\n",
       "    \u001b[32m'size'\u001b[0m: \u001b[1;36m3\u001b[0m,\n",
       "    \u001b[32m'cache'\u001b[0m: \u001b[3;92mTrue\u001b[0m,\n",
       "    \u001b[32m'hits'\u001b[0m: \u001b[1m[\u001b[0m\n",
       "        \u001b[1m{\u001b[0m\n",
       "            \u001b[32m'_id'\u001b[0m: \u001b[1;36m0\u001b[0m,\n",
       "            \u001b[32m'_score'\u001b[0m: \u001b[1;36m0.907758877256271\u001b[0m,\n",
       "            \u001b[32m'_source'\u001b[0m: \u001b[1m{\u001b[0m\u001b[32m'message'\u001b[0m: \u001b[32m'Hello 1th-dev-machine'\u001b[0m, \u001b[32m'raw'\u001b[0m: \u001b[1m{\u001b[0m\u001b[32m'id'\u001b[0m: \u001b[1;36m1\u001b[0m, \u001b[32m'name'\u001b[0m: \u001b[32m'1th-dev-machine'\u001b[0m\u001b[1m}\u001b[0m\u001b[1m}\u001b[0m\n",
       "        \u001b[1m}\u001b[0m,\n",
       "        \u001b[1m{\u001b[0m\n",
       "            \u001b[32m'_id'\u001b[0m: \u001b[1;36m1\u001b[0m,\n",
       "            \u001b[32m'_score'\u001b[0m: \u001b[1;36m0.907758877256271\u001b[0m,\n",
       "            \u001b[32m'_source'\u001b[0m: \u001b[1m{\u001b[0m\u001b[32m'message'\u001b[0m: \u001b[32m'Hello 2th-dev-machine'\u001b[0m, \u001b[32m'raw'\u001b[0m: \u001b[1m{\u001b[0m\u001b[32m'id'\u001b[0m: \u001b[1;36m2\u001b[0m, \u001b[32m'name'\u001b[0m: \u001b[32m'2th-dev-machine'\u001b[0m\u001b[1m}\u001b[0m\u001b[1m}\u001b[0m\n",
       "        \u001b[1m}\u001b[0m,\n",
       "        \u001b[1m{\u001b[0m\n",
       "            \u001b[32m'_id'\u001b[0m: \u001b[1;36m2\u001b[0m,\n",
       "            \u001b[32m'_score'\u001b[0m: \u001b[1;36m0.907758877256271\u001b[0m,\n",
       "            \u001b[32m'_source'\u001b[0m: \u001b[1m{\u001b[0m\u001b[32m'message'\u001b[0m: \u001b[32m'Hello 3th-dev-machine'\u001b[0m, \u001b[32m'raw'\u001b[0m: \u001b[1m{\u001b[0m\u001b[32m'id'\u001b[0m: \u001b[1;36m3\u001b[0m, \u001b[32m'name'\u001b[0m: \u001b[32m'3th-dev-machine'\u001b[0m\u001b[1m}\u001b[0m\u001b[1m}\u001b[0m\n",
       "        \u001b[1m}\u001b[0m\n",
       "    \u001b[1m]\u001b[0m,\n",
       "    \u001b[32m'fresh'\u001b[0m: \u001b[3;91mFalse\u001b[0m\n",
       "\u001b[1m}\u001b[0m\n"
      ]
     },
     "metadata": {},
     "output_type": "display_data"
    }
   ],
   "source": [
    "# this is second time, so fresh = False and cache = True\n",
    "res = rds.search(\n",
    "    download_kwargs={\"env\": \"dev\"},\n",
    "    query=\"dev\",\n",
    "    limit=3,\n",
    ")\n",
    "rprint(res)"
   ]
  },
  {
   "cell_type": "code",
   "execution_count": 32,
   "id": "8ef197f7-7682-454e-855d-466d56b3d911",
   "metadata": {},
   "outputs": [
    {
     "data": {
      "text/html": [
       "<pre style=\"white-space:pre;overflow-x:auto;line-height:normal;font-family:Menlo,'DejaVu Sans Mono',consolas,'Courier New',monospace\"><span style=\"font-weight: bold\">{</span>\n",
       "    <span style=\"color: #008000; text-decoration-color: #008000\">'index'</span>: <span style=\"color: #008000; text-decoration-color: #008000\">'e77989'</span>,\n",
       "    <span style=\"color: #008000; text-decoration-color: #008000\">'took'</span>: <span style=\"color: #008080; text-decoration-color: #008080; font-weight: bold\">0</span>,\n",
       "    <span style=\"color: #008000; text-decoration-color: #008000\">'size'</span>: <span style=\"color: #008080; text-decoration-color: #008080; font-weight: bold\">3</span>,\n",
       "    <span style=\"color: #008000; text-decoration-color: #008000\">'cache'</span>: <span style=\"color: #ff0000; text-decoration-color: #ff0000; font-style: italic\">False</span>,\n",
       "    <span style=\"color: #008000; text-decoration-color: #008000\">'hits'</span>: <span style=\"font-weight: bold\">[</span>\n",
       "        <span style=\"font-weight: bold\">{</span>\n",
       "            <span style=\"color: #008000; text-decoration-color: #008000\">'_id'</span>: <span style=\"color: #008080; text-decoration-color: #008080; font-weight: bold\">0</span>,\n",
       "            <span style=\"color: #008000; text-decoration-color: #008000\">'_score'</span>: <span style=\"color: #008080; text-decoration-color: #008080; font-weight: bold\">0.907758877256271</span>,\n",
       "            <span style=\"color: #008000; text-decoration-color: #008000\">'_source'</span>: <span style=\"font-weight: bold\">{</span><span style=\"color: #008000; text-decoration-color: #008000\">'message'</span>: <span style=\"color: #008000; text-decoration-color: #008000\">'Hello 1th-dev-machine'</span>, <span style=\"color: #008000; text-decoration-color: #008000\">'raw'</span>: <span style=\"font-weight: bold\">{</span><span style=\"color: #008000; text-decoration-color: #008000\">'id'</span>: <span style=\"color: #008080; text-decoration-color: #008080; font-weight: bold\">1</span>, <span style=\"color: #008000; text-decoration-color: #008000\">'name'</span>: <span style=\"color: #008000; text-decoration-color: #008000\">'1th-dev-machine'</span><span style=\"font-weight: bold\">}}</span>\n",
       "        <span style=\"font-weight: bold\">}</span>,\n",
       "        <span style=\"font-weight: bold\">{</span>\n",
       "            <span style=\"color: #008000; text-decoration-color: #008000\">'_id'</span>: <span style=\"color: #008080; text-decoration-color: #008080; font-weight: bold\">1</span>,\n",
       "            <span style=\"color: #008000; text-decoration-color: #008000\">'_score'</span>: <span style=\"color: #008080; text-decoration-color: #008080; font-weight: bold\">0.907758877256271</span>,\n",
       "            <span style=\"color: #008000; text-decoration-color: #008000\">'_source'</span>: <span style=\"font-weight: bold\">{</span><span style=\"color: #008000; text-decoration-color: #008000\">'message'</span>: <span style=\"color: #008000; text-decoration-color: #008000\">'Hello 2th-dev-machine'</span>, <span style=\"color: #008000; text-decoration-color: #008000\">'raw'</span>: <span style=\"font-weight: bold\">{</span><span style=\"color: #008000; text-decoration-color: #008000\">'id'</span>: <span style=\"color: #008080; text-decoration-color: #008080; font-weight: bold\">2</span>, <span style=\"color: #008000; text-decoration-color: #008000\">'name'</span>: <span style=\"color: #008000; text-decoration-color: #008000\">'2th-dev-machine'</span><span style=\"font-weight: bold\">}}</span>\n",
       "        <span style=\"font-weight: bold\">}</span>,\n",
       "        <span style=\"font-weight: bold\">{</span>\n",
       "            <span style=\"color: #008000; text-decoration-color: #008000\">'_id'</span>: <span style=\"color: #008080; text-decoration-color: #008080; font-weight: bold\">2</span>,\n",
       "            <span style=\"color: #008000; text-decoration-color: #008000\">'_score'</span>: <span style=\"color: #008080; text-decoration-color: #008080; font-weight: bold\">0.907758877256271</span>,\n",
       "            <span style=\"color: #008000; text-decoration-color: #008000\">'_source'</span>: <span style=\"font-weight: bold\">{</span><span style=\"color: #008000; text-decoration-color: #008000\">'message'</span>: <span style=\"color: #008000; text-decoration-color: #008000\">'Hello 3th-dev-machine'</span>, <span style=\"color: #008000; text-decoration-color: #008000\">'raw'</span>: <span style=\"font-weight: bold\">{</span><span style=\"color: #008000; text-decoration-color: #008000\">'id'</span>: <span style=\"color: #008080; text-decoration-color: #008080; font-weight: bold\">3</span>, <span style=\"color: #008000; text-decoration-color: #008000\">'name'</span>: <span style=\"color: #008000; text-decoration-color: #008000\">'3th-dev-machine'</span><span style=\"font-weight: bold\">}}</span>\n",
       "        <span style=\"font-weight: bold\">}</span>\n",
       "    <span style=\"font-weight: bold\">]</span>,\n",
       "    <span style=\"color: #008000; text-decoration-color: #008000\">'fresh'</span>: <span style=\"color: #00ff00; text-decoration-color: #00ff00; font-style: italic\">True</span>\n",
       "<span style=\"font-weight: bold\">}</span>\n",
       "</pre>\n"
      ],
      "text/plain": [
       "\u001b[1m{\u001b[0m\n",
       "    \u001b[32m'index'\u001b[0m: \u001b[32m'e77989'\u001b[0m,\n",
       "    \u001b[32m'took'\u001b[0m: \u001b[1;36m0\u001b[0m,\n",
       "    \u001b[32m'size'\u001b[0m: \u001b[1;36m3\u001b[0m,\n",
       "    \u001b[32m'cache'\u001b[0m: \u001b[3;91mFalse\u001b[0m,\n",
       "    \u001b[32m'hits'\u001b[0m: \u001b[1m[\u001b[0m\n",
       "        \u001b[1m{\u001b[0m\n",
       "            \u001b[32m'_id'\u001b[0m: \u001b[1;36m0\u001b[0m,\n",
       "            \u001b[32m'_score'\u001b[0m: \u001b[1;36m0.907758877256271\u001b[0m,\n",
       "            \u001b[32m'_source'\u001b[0m: \u001b[1m{\u001b[0m\u001b[32m'message'\u001b[0m: \u001b[32m'Hello 1th-dev-machine'\u001b[0m, \u001b[32m'raw'\u001b[0m: \u001b[1m{\u001b[0m\u001b[32m'id'\u001b[0m: \u001b[1;36m1\u001b[0m, \u001b[32m'name'\u001b[0m: \u001b[32m'1th-dev-machine'\u001b[0m\u001b[1m}\u001b[0m\u001b[1m}\u001b[0m\n",
       "        \u001b[1m}\u001b[0m,\n",
       "        \u001b[1m{\u001b[0m\n",
       "            \u001b[32m'_id'\u001b[0m: \u001b[1;36m1\u001b[0m,\n",
       "            \u001b[32m'_score'\u001b[0m: \u001b[1;36m0.907758877256271\u001b[0m,\n",
       "            \u001b[32m'_source'\u001b[0m: \u001b[1m{\u001b[0m\u001b[32m'message'\u001b[0m: \u001b[32m'Hello 2th-dev-machine'\u001b[0m, \u001b[32m'raw'\u001b[0m: \u001b[1m{\u001b[0m\u001b[32m'id'\u001b[0m: \u001b[1;36m2\u001b[0m, \u001b[32m'name'\u001b[0m: \u001b[32m'2th-dev-machine'\u001b[0m\u001b[1m}\u001b[0m\u001b[1m}\u001b[0m\n",
       "        \u001b[1m}\u001b[0m,\n",
       "        \u001b[1m{\u001b[0m\n",
       "            \u001b[32m'_id'\u001b[0m: \u001b[1;36m2\u001b[0m,\n",
       "            \u001b[32m'_score'\u001b[0m: \u001b[1;36m0.907758877256271\u001b[0m,\n",
       "            \u001b[32m'_source'\u001b[0m: \u001b[1m{\u001b[0m\u001b[32m'message'\u001b[0m: \u001b[32m'Hello 3th-dev-machine'\u001b[0m, \u001b[32m'raw'\u001b[0m: \u001b[1m{\u001b[0m\u001b[32m'id'\u001b[0m: \u001b[1;36m3\u001b[0m, \u001b[32m'name'\u001b[0m: \u001b[32m'3th-dev-machine'\u001b[0m\u001b[1m}\u001b[0m\u001b[1m}\u001b[0m\n",
       "        \u001b[1m}\u001b[0m\n",
       "    \u001b[1m]\u001b[0m,\n",
       "    \u001b[32m'fresh'\u001b[0m: \u001b[3;92mTrue\u001b[0m\n",
       "\u001b[1m}\u001b[0m\n"
      ]
     },
     "metadata": {},
     "output_type": "display_data"
    }
   ],
   "source": [
    "# we force to refresh data, so fresh = True and cache = False\n",
    "res = rds.search(\n",
    "    download_kwargs={\"env\": \"dev\"},\n",
    "    refresh_data=True,\n",
    "    query=\"dev\",\n",
    "    limit=3,\n",
    ")\n",
    "rprint(res)"
   ]
  },
  {
   "cell_type": "code",
   "execution_count": null,
   "id": "3d0882ce-0bbe-4465-a4a2-6f49cd3e8bd6",
   "metadata": {},
   "outputs": [],
   "source": []
  }
 ],
 "metadata": {
  "kernelspec": {
   "display_name": "Python 3 (ipykernel)",
   "language": "python",
   "name": "python3"
  },
  "language_info": {
   "codemirror_mode": {
    "name": "ipython",
    "version": 3
   },
   "file_extension": ".py",
   "mimetype": "text/x-python",
   "name": "python",
   "nbconvert_exporter": "python",
   "pygments_lexer": "ipython3",
   "version": "3.8.11"
  }
 },
 "nbformat": 4,
 "nbformat_minor": 5
}
