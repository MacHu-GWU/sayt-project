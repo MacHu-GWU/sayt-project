{
 "cells": [
  {
   "cell_type": "markdown",
   "id": "cc2b57e5-9ba9-4146-bd85-963b561d3b87",
   "metadata": {},
   "source": [
    "# Usage Example\n",
    "\n",
    "For the comprehensive guide of the query language, read this: https://whoosh.readthedocs.io/en/latest/querylang.html\n",
    "\n",
    "## Import ``sayt``"
   ]
  },
  {
   "cell_type": "code",
   "execution_count": 1,
   "id": "6b421937-d222-4d11-bf83-008d3093a239",
   "metadata": {},
   "outputs": [],
   "source": [
    "from sayt.api import (\n",
    "    DataSet,\n",
    "    IdField,\n",
    "    TextField,\n",
    "    NumericField,\n",
    "    NgramField,\n",
    "    NgramWordsField,\n",
    "    StoredField,\n",
    "    T_DOCUMENT,\n",
    "    T_DOWNLOADER,\n",
    ")"
   ]
  },
  {
   "cell_type": "code",
   "execution_count": 2,
   "id": "628abc13-3f7d-429d-a5e9-cd16ff812ca4",
   "metadata": {},
   "outputs": [],
   "source": [
    "import typing as T\n",
    "import os\n",
    "import time\n",
    "import uuid\n",
    "import random\n",
    "from pathlib import Path\n",
    "\n",
    "import faker\n",
    "from fixa.timer import DateTimeTimer\n",
    "from diskcache import Cache\n",
    "from rich import print as rprint"
   ]
  },
  {
   "cell_type": "code",
   "execution_count": 3,
   "id": "2fd10d2f-3c2a-44a1-b1b7-7c7f3f41502f",
   "metadata": {},
   "outputs": [],
   "source": [
    "dir_here = Path(os.getcwd())\n",
    "\n",
    "fake = faker.Faker()"
   ]
  },
  {
   "cell_type": "markdown",
   "id": "a1618fd0-b6de-40e4-a47e-3ec656144d36",
   "metadata": {},
   "source": [
    "## Define your dataset schema\n",
    "\n",
    "Let's say our dataset is about a details of a book.\n",
    "\n",
    "```python\n",
    "{\n",
    "    \"id\": \"id-1234\",\n",
    "    \"title\": \"Sustainable Energy - without the hot air\",\n",
    "    \"author\": \"MacKay, David JC\",\n",
    "    \"year\": 2009,\n",
    "}\n",
    "```\n",
    "\n",
    "- We want to match ``id`` only if the query match the id exactly.\n",
    "- We want to match ``title`` when words in the query match the word in the title, case-insensitive.\n",
    "- We want to match ``author`` when any ngram characters in the query match the author name.\n",
    "- We want to use range query to filter on ``year``."
   ]
  },
  {
   "cell_type": "code",
   "execution_count": 4,
   "id": "c41e4d06-85a5-4b34-9347-c9537ea49788",
   "metadata": {},
   "outputs": [],
   "source": [
    "fields = [\n",
    "    # unique ID field\n",
    "    IdField(name=\"id\", stored=True),\n",
    "    # match by token (word) or phrase\n",
    "    TextField(name=\"title\", stored=True),\n",
    "    # match by n-gram characters\n",
    "    NgramField(\n",
    "        name=\"author\",\n",
    "        stored=True,\n",
    "        minsize=2,\n",
    "        maxsize=6,\n",
    "    ),\n",
    "    # range query\n",
    "    NumericField(\n",
    "        name=\"year\",\n",
    "        stored=True,\n",
    "        sortable=True,\n",
    "        ascending=False,\n",
    "    ),\n",
    "    # range query\n",
    "    StoredField(\n",
    "        name=\"raw\",\n",
    "    ),\n",
    "]"
   ]
  },
  {
   "cell_type": "markdown",
   "id": "d35366e0-6a41-4491-a389-ca6dcded7188",
   "metadata": {},
   "source": [
    "## Define the downloader function\n",
    "\n",
    "Downloader is a function with zero arguments that returns a list of searchable documents"
   ]
  },
  {
   "cell_type": "code",
   "execution_count": 5,
   "id": "53f532b4-4797-477b-a0e0-e904befb0928",
   "metadata": {},
   "outputs": [],
   "source": [
    "def downloader():\n",
    "    return [\n",
    "        {\n",
    "            \"id\": \"id-1234\",\n",
    "            \"title\": \"Sustainable Energy - without the hot air\",\n",
    "            \"author\": \"MacKay, David JC\",\n",
    "            \"year\": 2009,\n",
    "        },\n",
    "    ]"
   ]
  },
  {
   "cell_type": "markdown",
   "id": "9939ccaf-bb0c-4ae1-84cd-4e085c4ea0bb",
   "metadata": {},
   "source": [
    "## Define the Dataset Object\n",
    "\n",
    "Dataset is an abstraction of a searchable dataset. It defines how you want to index and search your dataset, how to download your dataset, and where to store the index and cache."
   ]
  },
  {
   "cell_type": "code",
   "execution_count": 6,
   "id": "08c73e69-79d0-4416-bbda-fbbd06dc7a0b",
   "metadata": {},
   "outputs": [],
   "source": [
    "ds = DataSet(\n",
    "    dir_index=dir_here.joinpath(\".index\"), # where the index locate\n",
    "    index_name=\"my-dataset\", # unique name of your dataset\n",
    "    fields=fields,\n",
    "    cache=Cache(str(dir_here.joinpath(\".cache\")), tag_index=True), # where the cache locate\n",
    "    cache_key=\"my-dataset\", # unique cache key for your dataset\n",
    "    cache_expire=10, # how long cache expire (in seconds)\n",
    "    cache_tag=\"my-dataset\", # a tag can be used to do batch delete. if you want to delete cache for many dataset, give them the same tag\n",
    "    downloader=downloader,\n",
    ")\n",
    "ds.remove_all_index() # reset everything before testing\n",
    "ds.remove_all_cache() # reset everything before testing"
   ]
  },
  {
   "cell_type": "markdown",
   "id": "a914348a-d853-4c28-9f5d-d30dcdcda40a",
   "metadata": {},
   "source": [
    "## Play with the search method\n",
    "\n",
    "``DataSet.search`` method is the main API that performs the search, handles the caching, dataset refreshing and all the details."
   ]
  },
  {
   "cell_type": "code",
   "execution_count": 7,
   "id": "b7c293a7-1ab0-4cd6-93de-949d57e35ffa",
   "metadata": {},
   "outputs": [],
   "source": [
    "def run_query(query, limit: int=5, simple_response: bool=True):\n",
    "    res = ds.search(query, limit=limit, simple_response=simple_response)\n",
    "    rprint(res)"
   ]
  },
  {
   "cell_type": "markdown",
   "id": "e3065a8f-ecb4-47f8-add7-7cb48ce40176",
   "metadata": {},
   "source": [
    "### Multi Field Match\n",
    "\n",
    "By default, ``sayt`` try to match the query in all searable fields."
   ]
  },
  {
   "cell_type": "code",
   "execution_count": 8,
   "id": "ff6b1183-fc85-4637-83b7-543be7729b92",
   "metadata": {},
   "outputs": [
    {
     "data": {
      "text/html": [
       "<pre style=\"white-space:pre;overflow-x:auto;line-height:normal;font-family:Menlo,'DejaVu Sans Mono',consolas,'Courier New',monospace\"><span style=\"font-weight: bold\">[</span>\n",
       "    <span style=\"font-weight: bold\">{</span>\n",
       "        <span style=\"color: #008000; text-decoration-color: #008000\">'author'</span>: <span style=\"color: #008000; text-decoration-color: #008000\">'MacKay, David JC'</span>,\n",
       "        <span style=\"color: #008000; text-decoration-color: #008000\">'id'</span>: <span style=\"color: #008000; text-decoration-color: #008000\">'id-1234'</span>,\n",
       "        <span style=\"color: #008000; text-decoration-color: #008000\">'title'</span>: <span style=\"color: #008000; text-decoration-color: #008000\">'Sustainable Energy - without the hot air'</span>,\n",
       "        <span style=\"color: #008000; text-decoration-color: #008000\">'year'</span>: <span style=\"color: #008080; text-decoration-color: #008080; font-weight: bold\">2009</span>\n",
       "    <span style=\"font-weight: bold\">}</span>\n",
       "<span style=\"font-weight: bold\">]</span>\n",
       "</pre>\n"
      ],
      "text/plain": [
       "\u001b[1m[\u001b[0m\n",
       "    \u001b[1m{\u001b[0m\n",
       "        \u001b[32m'author'\u001b[0m: \u001b[32m'MacKay, David JC'\u001b[0m,\n",
       "        \u001b[32m'id'\u001b[0m: \u001b[32m'id-1234'\u001b[0m,\n",
       "        \u001b[32m'title'\u001b[0m: \u001b[32m'Sustainable Energy - without the hot air'\u001b[0m,\n",
       "        \u001b[32m'year'\u001b[0m: \u001b[1;36m2009\u001b[0m\n",
       "    \u001b[1m}\u001b[0m\n",
       "\u001b[1m]\u001b[0m\n"
      ]
     },
     "metadata": {},
     "output_type": "display_data"
    }
   ],
   "source": [
    "run_query(\"id-1234\")"
   ]
  },
  {
   "cell_type": "code",
   "execution_count": 9,
   "id": "7a8666c9-317d-4d36-9cb1-bd6552d732ad",
   "metadata": {},
   "outputs": [
    {
     "data": {
      "text/html": [
       "<pre style=\"white-space:pre;overflow-x:auto;line-height:normal;font-family:Menlo,'DejaVu Sans Mono',consolas,'Courier New',monospace\"><span style=\"font-weight: bold\">[</span>\n",
       "    <span style=\"font-weight: bold\">{</span>\n",
       "        <span style=\"color: #008000; text-decoration-color: #008000\">'author'</span>: <span style=\"color: #008000; text-decoration-color: #008000\">'MacKay, David JC'</span>,\n",
       "        <span style=\"color: #008000; text-decoration-color: #008000\">'id'</span>: <span style=\"color: #008000; text-decoration-color: #008000\">'id-1234'</span>,\n",
       "        <span style=\"color: #008000; text-decoration-color: #008000\">'title'</span>: <span style=\"color: #008000; text-decoration-color: #008000\">'Sustainable Energy - without the hot air'</span>,\n",
       "        <span style=\"color: #008000; text-decoration-color: #008000\">'year'</span>: <span style=\"color: #008080; text-decoration-color: #008080; font-weight: bold\">2009</span>\n",
       "    <span style=\"font-weight: bold\">}</span>\n",
       "<span style=\"font-weight: bold\">]</span>\n",
       "</pre>\n"
      ],
      "text/plain": [
       "\u001b[1m[\u001b[0m\n",
       "    \u001b[1m{\u001b[0m\n",
       "        \u001b[32m'author'\u001b[0m: \u001b[32m'MacKay, David JC'\u001b[0m,\n",
       "        \u001b[32m'id'\u001b[0m: \u001b[32m'id-1234'\u001b[0m,\n",
       "        \u001b[32m'title'\u001b[0m: \u001b[32m'Sustainable Energy - without the hot air'\u001b[0m,\n",
       "        \u001b[32m'year'\u001b[0m: \u001b[1;36m2009\u001b[0m\n",
       "    \u001b[1m}\u001b[0m\n",
       "\u001b[1m]\u001b[0m\n"
      ]
     },
     "metadata": {},
     "output_type": "display_data"
    }
   ],
   "source": [
    "run_query(\"energy\")"
   ]
  },
  {
   "cell_type": "code",
   "execution_count": 10,
   "id": "cab403f3-719f-41d5-a133-3e6229207411",
   "metadata": {},
   "outputs": [
    {
     "data": {
      "text/html": [
       "<pre style=\"white-space:pre;overflow-x:auto;line-height:normal;font-family:Menlo,'DejaVu Sans Mono',consolas,'Courier New',monospace\"><span style=\"font-weight: bold\">[</span>\n",
       "    <span style=\"font-weight: bold\">{</span>\n",
       "        <span style=\"color: #008000; text-decoration-color: #008000\">'author'</span>: <span style=\"color: #008000; text-decoration-color: #008000\">'MacKay, David JC'</span>,\n",
       "        <span style=\"color: #008000; text-decoration-color: #008000\">'id'</span>: <span style=\"color: #008000; text-decoration-color: #008000\">'id-1234'</span>,\n",
       "        <span style=\"color: #008000; text-decoration-color: #008000\">'title'</span>: <span style=\"color: #008000; text-decoration-color: #008000\">'Sustainable Energy - without the hot air'</span>,\n",
       "        <span style=\"color: #008000; text-decoration-color: #008000\">'year'</span>: <span style=\"color: #008080; text-decoration-color: #008080; font-weight: bold\">2009</span>\n",
       "    <span style=\"font-weight: bold\">}</span>\n",
       "<span style=\"font-weight: bold\">]</span>\n",
       "</pre>\n"
      ],
      "text/plain": [
       "\u001b[1m[\u001b[0m\n",
       "    \u001b[1m{\u001b[0m\n",
       "        \u001b[32m'author'\u001b[0m: \u001b[32m'MacKay, David JC'\u001b[0m,\n",
       "        \u001b[32m'id'\u001b[0m: \u001b[32m'id-1234'\u001b[0m,\n",
       "        \u001b[32m'title'\u001b[0m: \u001b[32m'Sustainable Energy - without the hot air'\u001b[0m,\n",
       "        \u001b[32m'year'\u001b[0m: \u001b[1;36m2009\u001b[0m\n",
       "    \u001b[1m}\u001b[0m\n",
       "\u001b[1m]\u001b[0m\n"
      ]
     },
     "metadata": {},
     "output_type": "display_data"
    }
   ],
   "source": [
    "run_query(\"dav\")"
   ]
  },
  {
   "cell_type": "code",
   "execution_count": 11,
   "id": "48cd2c1f-bce6-4d4f-8e1a-fab190b243e8",
   "metadata": {},
   "outputs": [
    {
     "data": {
      "text/html": [
       "<pre style=\"white-space:pre;overflow-x:auto;line-height:normal;font-family:Menlo,'DejaVu Sans Mono',consolas,'Courier New',monospace\"><span style=\"font-weight: bold\">[</span>\n",
       "    <span style=\"font-weight: bold\">{</span>\n",
       "        <span style=\"color: #008000; text-decoration-color: #008000\">'author'</span>: <span style=\"color: #008000; text-decoration-color: #008000\">'MacKay, David JC'</span>,\n",
       "        <span style=\"color: #008000; text-decoration-color: #008000\">'id'</span>: <span style=\"color: #008000; text-decoration-color: #008000\">'id-1234'</span>,\n",
       "        <span style=\"color: #008000; text-decoration-color: #008000\">'title'</span>: <span style=\"color: #008000; text-decoration-color: #008000\">'Sustainable Energy - without the hot air'</span>,\n",
       "        <span style=\"color: #008000; text-decoration-color: #008000\">'year'</span>: <span style=\"color: #008080; text-decoration-color: #008080; font-weight: bold\">2009</span>\n",
       "    <span style=\"font-weight: bold\">}</span>\n",
       "<span style=\"font-weight: bold\">]</span>\n",
       "</pre>\n"
      ],
      "text/plain": [
       "\u001b[1m[\u001b[0m\n",
       "    \u001b[1m{\u001b[0m\n",
       "        \u001b[32m'author'\u001b[0m: \u001b[32m'MacKay, David JC'\u001b[0m,\n",
       "        \u001b[32m'id'\u001b[0m: \u001b[32m'id-1234'\u001b[0m,\n",
       "        \u001b[32m'title'\u001b[0m: \u001b[32m'Sustainable Energy - without the hot air'\u001b[0m,\n",
       "        \u001b[32m'year'\u001b[0m: \u001b[1;36m2009\u001b[0m\n",
       "    \u001b[1m}\u001b[0m\n",
       "\u001b[1m]\u001b[0m\n"
      ]
     },
     "metadata": {},
     "output_type": "display_data"
    }
   ],
   "source": [
    "run_query(\"2009\")"
   ]
  },
  {
   "cell_type": "markdown",
   "id": "215900fb-ed01-46d6-8fce-5512c89ce380",
   "metadata": {},
   "source": [
    "### Specify the Field you want to match\n",
    "\n",
    "You can use the ``${field_name}:${query}`` syntax to search on specific field."
   ]
  },
  {
   "cell_type": "code",
   "execution_count": 12,
   "id": "421232f8-9ffb-4f7f-873d-3828bf81f401",
   "metadata": {},
   "outputs": [
    {
     "data": {
      "text/html": [
       "<pre style=\"white-space:pre;overflow-x:auto;line-height:normal;font-family:Menlo,'DejaVu Sans Mono',consolas,'Courier New',monospace\"><span style=\"font-weight: bold\">[</span>\n",
       "    <span style=\"font-weight: bold\">{</span>\n",
       "        <span style=\"color: #008000; text-decoration-color: #008000\">'author'</span>: <span style=\"color: #008000; text-decoration-color: #008000\">'MacKay, David JC'</span>,\n",
       "        <span style=\"color: #008000; text-decoration-color: #008000\">'id'</span>: <span style=\"color: #008000; text-decoration-color: #008000\">'id-1234'</span>,\n",
       "        <span style=\"color: #008000; text-decoration-color: #008000\">'title'</span>: <span style=\"color: #008000; text-decoration-color: #008000\">'Sustainable Energy - without the hot air'</span>,\n",
       "        <span style=\"color: #008000; text-decoration-color: #008000\">'year'</span>: <span style=\"color: #008080; text-decoration-color: #008080; font-weight: bold\">2009</span>\n",
       "    <span style=\"font-weight: bold\">}</span>\n",
       "<span style=\"font-weight: bold\">]</span>\n",
       "</pre>\n"
      ],
      "text/plain": [
       "\u001b[1m[\u001b[0m\n",
       "    \u001b[1m{\u001b[0m\n",
       "        \u001b[32m'author'\u001b[0m: \u001b[32m'MacKay, David JC'\u001b[0m,\n",
       "        \u001b[32m'id'\u001b[0m: \u001b[32m'id-1234'\u001b[0m,\n",
       "        \u001b[32m'title'\u001b[0m: \u001b[32m'Sustainable Energy - without the hot air'\u001b[0m,\n",
       "        \u001b[32m'year'\u001b[0m: \u001b[1;36m2009\u001b[0m\n",
       "    \u001b[1m}\u001b[0m\n",
       "\u001b[1m]\u001b[0m\n"
      ]
     },
     "metadata": {},
     "output_type": "display_data"
    }
   ],
   "source": [
    "run_query(\"id:id-1234\")"
   ]
  },
  {
   "cell_type": "code",
   "execution_count": 13,
   "id": "a840c831-a0f0-4b8b-acf0-190a22c7a627",
   "metadata": {},
   "outputs": [
    {
     "data": {
      "text/html": [
       "<pre style=\"white-space:pre;overflow-x:auto;line-height:normal;font-family:Menlo,'DejaVu Sans Mono',consolas,'Courier New',monospace\"><span style=\"font-weight: bold\">[</span>\n",
       "    <span style=\"font-weight: bold\">{</span>\n",
       "        <span style=\"color: #008000; text-decoration-color: #008000\">'author'</span>: <span style=\"color: #008000; text-decoration-color: #008000\">'MacKay, David JC'</span>,\n",
       "        <span style=\"color: #008000; text-decoration-color: #008000\">'id'</span>: <span style=\"color: #008000; text-decoration-color: #008000\">'id-1234'</span>,\n",
       "        <span style=\"color: #008000; text-decoration-color: #008000\">'title'</span>: <span style=\"color: #008000; text-decoration-color: #008000\">'Sustainable Energy - without the hot air'</span>,\n",
       "        <span style=\"color: #008000; text-decoration-color: #008000\">'year'</span>: <span style=\"color: #008080; text-decoration-color: #008080; font-weight: bold\">2009</span>\n",
       "    <span style=\"font-weight: bold\">}</span>\n",
       "<span style=\"font-weight: bold\">]</span>\n",
       "</pre>\n"
      ],
      "text/plain": [
       "\u001b[1m[\u001b[0m\n",
       "    \u001b[1m{\u001b[0m\n",
       "        \u001b[32m'author'\u001b[0m: \u001b[32m'MacKay, David JC'\u001b[0m,\n",
       "        \u001b[32m'id'\u001b[0m: \u001b[32m'id-1234'\u001b[0m,\n",
       "        \u001b[32m'title'\u001b[0m: \u001b[32m'Sustainable Energy - without the hot air'\u001b[0m,\n",
       "        \u001b[32m'year'\u001b[0m: \u001b[1;36m2009\u001b[0m\n",
       "    \u001b[1m}\u001b[0m\n",
       "\u001b[1m]\u001b[0m\n"
      ]
     },
     "metadata": {},
     "output_type": "display_data"
    }
   ],
   "source": [
    "run_query(\"title:energy\")"
   ]
  },
  {
   "cell_type": "code",
   "execution_count": 14,
   "id": "d5536049-86d6-4c33-818b-b8b81507de21",
   "metadata": {},
   "outputs": [
    {
     "data": {
      "text/html": [
       "<pre style=\"white-space:pre;overflow-x:auto;line-height:normal;font-family:Menlo,'DejaVu Sans Mono',consolas,'Courier New',monospace\"><span style=\"font-weight: bold\">[</span>\n",
       "    <span style=\"font-weight: bold\">{</span>\n",
       "        <span style=\"color: #008000; text-decoration-color: #008000\">'author'</span>: <span style=\"color: #008000; text-decoration-color: #008000\">'MacKay, David JC'</span>,\n",
       "        <span style=\"color: #008000; text-decoration-color: #008000\">'id'</span>: <span style=\"color: #008000; text-decoration-color: #008000\">'id-1234'</span>,\n",
       "        <span style=\"color: #008000; text-decoration-color: #008000\">'title'</span>: <span style=\"color: #008000; text-decoration-color: #008000\">'Sustainable Energy - without the hot air'</span>,\n",
       "        <span style=\"color: #008000; text-decoration-color: #008000\">'year'</span>: <span style=\"color: #008080; text-decoration-color: #008080; font-weight: bold\">2009</span>\n",
       "    <span style=\"font-weight: bold\">}</span>\n",
       "<span style=\"font-weight: bold\">]</span>\n",
       "</pre>\n"
      ],
      "text/plain": [
       "\u001b[1m[\u001b[0m\n",
       "    \u001b[1m{\u001b[0m\n",
       "        \u001b[32m'author'\u001b[0m: \u001b[32m'MacKay, David JC'\u001b[0m,\n",
       "        \u001b[32m'id'\u001b[0m: \u001b[32m'id-1234'\u001b[0m,\n",
       "        \u001b[32m'title'\u001b[0m: \u001b[32m'Sustainable Energy - without the hot air'\u001b[0m,\n",
       "        \u001b[32m'year'\u001b[0m: \u001b[1;36m2009\u001b[0m\n",
       "    \u001b[1m}\u001b[0m\n",
       "\u001b[1m]\u001b[0m\n"
      ]
     },
     "metadata": {},
     "output_type": "display_data"
    }
   ],
   "source": [
    "run_query(\"author:dav\")"
   ]
  },
  {
   "cell_type": "code",
   "execution_count": 15,
   "id": "670a3367-9098-4c7a-99ef-09a3ac4596c6",
   "metadata": {},
   "outputs": [
    {
     "data": {
      "text/html": [
       "<pre style=\"white-space:pre;overflow-x:auto;line-height:normal;font-family:Menlo,'DejaVu Sans Mono',consolas,'Courier New',monospace\"><span style=\"font-weight: bold\">[</span>\n",
       "    <span style=\"font-weight: bold\">{</span>\n",
       "        <span style=\"color: #008000; text-decoration-color: #008000\">'author'</span>: <span style=\"color: #008000; text-decoration-color: #008000\">'MacKay, David JC'</span>,\n",
       "        <span style=\"color: #008000; text-decoration-color: #008000\">'id'</span>: <span style=\"color: #008000; text-decoration-color: #008000\">'id-1234'</span>,\n",
       "        <span style=\"color: #008000; text-decoration-color: #008000\">'title'</span>: <span style=\"color: #008000; text-decoration-color: #008000\">'Sustainable Energy - without the hot air'</span>,\n",
       "        <span style=\"color: #008000; text-decoration-color: #008000\">'year'</span>: <span style=\"color: #008080; text-decoration-color: #008080; font-weight: bold\">2009</span>\n",
       "    <span style=\"font-weight: bold\">}</span>\n",
       "<span style=\"font-weight: bold\">]</span>\n",
       "</pre>\n"
      ],
      "text/plain": [
       "\u001b[1m[\u001b[0m\n",
       "    \u001b[1m{\u001b[0m\n",
       "        \u001b[32m'author'\u001b[0m: \u001b[32m'MacKay, David JC'\u001b[0m,\n",
       "        \u001b[32m'id'\u001b[0m: \u001b[32m'id-1234'\u001b[0m,\n",
       "        \u001b[32m'title'\u001b[0m: \u001b[32m'Sustainable Energy - without the hot air'\u001b[0m,\n",
       "        \u001b[32m'year'\u001b[0m: \u001b[1;36m2009\u001b[0m\n",
       "    \u001b[1m}\u001b[0m\n",
       "\u001b[1m]\u001b[0m\n"
      ]
     },
     "metadata": {},
     "output_type": "display_data"
    }
   ],
   "source": [
    "run_query(\"year:2009\")"
   ]
  },
  {
   "cell_type": "markdown",
   "id": "90bd903b-4cab-4ab5-bcca-b7f399db9f22",
   "metadata": {},
   "source": [
    "### Range Query\n",
    "\n",
    "You can use the ``${field_name}:${comparison_operator}${value}`` syntax to do range query on specific field."
   ]
  },
  {
   "cell_type": "code",
   "execution_count": 16,
   "id": "7e1d0480-52b1-4dfd-ac9b-ba38e14ae6bb",
   "metadata": {},
   "outputs": [
    {
     "data": {
      "text/html": [
       "<pre style=\"white-space:pre;overflow-x:auto;line-height:normal;font-family:Menlo,'DejaVu Sans Mono',consolas,'Courier New',monospace\"><span style=\"font-weight: bold\">[</span>\n",
       "    <span style=\"font-weight: bold\">{</span>\n",
       "        <span style=\"color: #008000; text-decoration-color: #008000\">'author'</span>: <span style=\"color: #008000; text-decoration-color: #008000\">'MacKay, David JC'</span>,\n",
       "        <span style=\"color: #008000; text-decoration-color: #008000\">'id'</span>: <span style=\"color: #008000; text-decoration-color: #008000\">'id-1234'</span>,\n",
       "        <span style=\"color: #008000; text-decoration-color: #008000\">'title'</span>: <span style=\"color: #008000; text-decoration-color: #008000\">'Sustainable Energy - without the hot air'</span>,\n",
       "        <span style=\"color: #008000; text-decoration-color: #008000\">'year'</span>: <span style=\"color: #008080; text-decoration-color: #008080; font-weight: bold\">2009</span>\n",
       "    <span style=\"font-weight: bold\">}</span>\n",
       "<span style=\"font-weight: bold\">]</span>\n",
       "</pre>\n"
      ],
      "text/plain": [
       "\u001b[1m[\u001b[0m\n",
       "    \u001b[1m{\u001b[0m\n",
       "        \u001b[32m'author'\u001b[0m: \u001b[32m'MacKay, David JC'\u001b[0m,\n",
       "        \u001b[32m'id'\u001b[0m: \u001b[32m'id-1234'\u001b[0m,\n",
       "        \u001b[32m'title'\u001b[0m: \u001b[32m'Sustainable Energy - without the hot air'\u001b[0m,\n",
       "        \u001b[32m'year'\u001b[0m: \u001b[1;36m2009\u001b[0m\n",
       "    \u001b[1m}\u001b[0m\n",
       "\u001b[1m]\u001b[0m\n"
      ]
     },
     "metadata": {},
     "output_type": "display_data"
    }
   ],
   "source": [
    "run_query(\"year:>2000\")"
   ]
  },
  {
   "cell_type": "code",
   "execution_count": 17,
   "id": "2328b60b-5d5d-4cf2-8404-7012a1136e9f",
   "metadata": {},
   "outputs": [
    {
     "data": {
      "text/html": [
       "<pre style=\"white-space:pre;overflow-x:auto;line-height:normal;font-family:Menlo,'DejaVu Sans Mono',consolas,'Courier New',monospace\"><span style=\"font-weight: bold\">[</span>\n",
       "    <span style=\"font-weight: bold\">{</span>\n",
       "        <span style=\"color: #008000; text-decoration-color: #008000\">'author'</span>: <span style=\"color: #008000; text-decoration-color: #008000\">'MacKay, David JC'</span>,\n",
       "        <span style=\"color: #008000; text-decoration-color: #008000\">'id'</span>: <span style=\"color: #008000; text-decoration-color: #008000\">'id-1234'</span>,\n",
       "        <span style=\"color: #008000; text-decoration-color: #008000\">'title'</span>: <span style=\"color: #008000; text-decoration-color: #008000\">'Sustainable Energy - without the hot air'</span>,\n",
       "        <span style=\"color: #008000; text-decoration-color: #008000\">'year'</span>: <span style=\"color: #008080; text-decoration-color: #008080; font-weight: bold\">2009</span>\n",
       "    <span style=\"font-weight: bold\">}</span>\n",
       "<span style=\"font-weight: bold\">]</span>\n",
       "</pre>\n"
      ],
      "text/plain": [
       "\u001b[1m[\u001b[0m\n",
       "    \u001b[1m{\u001b[0m\n",
       "        \u001b[32m'author'\u001b[0m: \u001b[32m'MacKay, David JC'\u001b[0m,\n",
       "        \u001b[32m'id'\u001b[0m: \u001b[32m'id-1234'\u001b[0m,\n",
       "        \u001b[32m'title'\u001b[0m: \u001b[32m'Sustainable Energy - without the hot air'\u001b[0m,\n",
       "        \u001b[32m'year'\u001b[0m: \u001b[1;36m2009\u001b[0m\n",
       "    \u001b[1m}\u001b[0m\n",
       "\u001b[1m]\u001b[0m\n"
      ]
     },
     "metadata": {},
     "output_type": "display_data"
    }
   ],
   "source": [
    "run_query(\"year:<2020\")"
   ]
  },
  {
   "cell_type": "code",
   "execution_count": 18,
   "id": "6c8cec9e-82d3-4797-ad09-f3e97f7b3262",
   "metadata": {},
   "outputs": [
    {
     "data": {
      "text/html": [
       "<pre style=\"white-space:pre;overflow-x:auto;line-height:normal;font-family:Menlo,'DejaVu Sans Mono',consolas,'Courier New',monospace\"><span style=\"font-weight: bold\">[</span>\n",
       "    <span style=\"font-weight: bold\">{</span>\n",
       "        <span style=\"color: #008000; text-decoration-color: #008000\">'author'</span>: <span style=\"color: #008000; text-decoration-color: #008000\">'MacKay, David JC'</span>,\n",
       "        <span style=\"color: #008000; text-decoration-color: #008000\">'id'</span>: <span style=\"color: #008000; text-decoration-color: #008000\">'id-1234'</span>,\n",
       "        <span style=\"color: #008000; text-decoration-color: #008000\">'title'</span>: <span style=\"color: #008000; text-decoration-color: #008000\">'Sustainable Energy - without the hot air'</span>,\n",
       "        <span style=\"color: #008000; text-decoration-color: #008000\">'year'</span>: <span style=\"color: #008080; text-decoration-color: #008080; font-weight: bold\">2009</span>\n",
       "    <span style=\"font-weight: bold\">}</span>\n",
       "<span style=\"font-weight: bold\">]</span>\n",
       "</pre>\n"
      ],
      "text/plain": [
       "\u001b[1m[\u001b[0m\n",
       "    \u001b[1m{\u001b[0m\n",
       "        \u001b[32m'author'\u001b[0m: \u001b[32m'MacKay, David JC'\u001b[0m,\n",
       "        \u001b[32m'id'\u001b[0m: \u001b[32m'id-1234'\u001b[0m,\n",
       "        \u001b[32m'title'\u001b[0m: \u001b[32m'Sustainable Energy - without the hot air'\u001b[0m,\n",
       "        \u001b[32m'year'\u001b[0m: \u001b[1;36m2009\u001b[0m\n",
       "    \u001b[1m}\u001b[0m\n",
       "\u001b[1m]\u001b[0m\n"
      ]
     },
     "metadata": {},
     "output_type": "display_data"
    }
   ],
   "source": [
    "run_query(\"year:>2000 AND year:<2020\")"
   ]
  },
  {
   "cell_type": "code",
   "execution_count": 19,
   "id": "7528fb29-9a55-42f6-a437-571d098e4f56",
   "metadata": {},
   "outputs": [
    {
     "data": {
      "text/html": [
       "<pre style=\"white-space:pre;overflow-x:auto;line-height:normal;font-family:Menlo,'DejaVu Sans Mono',consolas,'Courier New',monospace\"><span style=\"font-weight: bold\">[</span>\n",
       "    <span style=\"font-weight: bold\">{</span>\n",
       "        <span style=\"color: #008000; text-decoration-color: #008000\">'author'</span>: <span style=\"color: #008000; text-decoration-color: #008000\">'MacKay, David JC'</span>,\n",
       "        <span style=\"color: #008000; text-decoration-color: #008000\">'id'</span>: <span style=\"color: #008000; text-decoration-color: #008000\">'id-1234'</span>,\n",
       "        <span style=\"color: #008000; text-decoration-color: #008000\">'title'</span>: <span style=\"color: #008000; text-decoration-color: #008000\">'Sustainable Energy - without the hot air'</span>,\n",
       "        <span style=\"color: #008000; text-decoration-color: #008000\">'year'</span>: <span style=\"color: #008080; text-decoration-color: #008080; font-weight: bold\">2009</span>\n",
       "    <span style=\"font-weight: bold\">}</span>\n",
       "<span style=\"font-weight: bold\">]</span>\n",
       "</pre>\n"
      ],
      "text/plain": [
       "\u001b[1m[\u001b[0m\n",
       "    \u001b[1m{\u001b[0m\n",
       "        \u001b[32m'author'\u001b[0m: \u001b[32m'MacKay, David JC'\u001b[0m,\n",
       "        \u001b[32m'id'\u001b[0m: \u001b[32m'id-1234'\u001b[0m,\n",
       "        \u001b[32m'title'\u001b[0m: \u001b[32m'Sustainable Energy - without the hot air'\u001b[0m,\n",
       "        \u001b[32m'year'\u001b[0m: \u001b[1;36m2009\u001b[0m\n",
       "    \u001b[1m}\u001b[0m\n",
       "\u001b[1m]\u001b[0m\n"
      ]
     },
     "metadata": {},
     "output_type": "display_data"
    }
   ],
   "source": [
    "run_query(\"year:[2000 TO]\")"
   ]
  },
  {
   "cell_type": "code",
   "execution_count": 20,
   "id": "4c4c9f80-3e5f-42f6-bf48-89291820193a",
   "metadata": {},
   "outputs": [
    {
     "data": {
      "text/html": [
       "<pre style=\"white-space:pre;overflow-x:auto;line-height:normal;font-family:Menlo,'DejaVu Sans Mono',consolas,'Courier New',monospace\"><span style=\"font-weight: bold\">[</span>\n",
       "    <span style=\"font-weight: bold\">{</span>\n",
       "        <span style=\"color: #008000; text-decoration-color: #008000\">'author'</span>: <span style=\"color: #008000; text-decoration-color: #008000\">'MacKay, David JC'</span>,\n",
       "        <span style=\"color: #008000; text-decoration-color: #008000\">'id'</span>: <span style=\"color: #008000; text-decoration-color: #008000\">'id-1234'</span>,\n",
       "        <span style=\"color: #008000; text-decoration-color: #008000\">'title'</span>: <span style=\"color: #008000; text-decoration-color: #008000\">'Sustainable Energy - without the hot air'</span>,\n",
       "        <span style=\"color: #008000; text-decoration-color: #008000\">'year'</span>: <span style=\"color: #008080; text-decoration-color: #008080; font-weight: bold\">2009</span>\n",
       "    <span style=\"font-weight: bold\">}</span>\n",
       "<span style=\"font-weight: bold\">]</span>\n",
       "</pre>\n"
      ],
      "text/plain": [
       "\u001b[1m[\u001b[0m\n",
       "    \u001b[1m{\u001b[0m\n",
       "        \u001b[32m'author'\u001b[0m: \u001b[32m'MacKay, David JC'\u001b[0m,\n",
       "        \u001b[32m'id'\u001b[0m: \u001b[32m'id-1234'\u001b[0m,\n",
       "        \u001b[32m'title'\u001b[0m: \u001b[32m'Sustainable Energy - without the hot air'\u001b[0m,\n",
       "        \u001b[32m'year'\u001b[0m: \u001b[1;36m2009\u001b[0m\n",
       "    \u001b[1m}\u001b[0m\n",
       "\u001b[1m]\u001b[0m\n"
      ]
     },
     "metadata": {},
     "output_type": "display_data"
    }
   ],
   "source": [
    "run_query(\"year:[TO 2020]\")"
   ]
  },
  {
   "cell_type": "code",
   "execution_count": 21,
   "id": "7737ccbb-1481-4aa9-b634-ea35a6b5fbfa",
   "metadata": {},
   "outputs": [
    {
     "data": {
      "text/html": [
       "<pre style=\"white-space:pre;overflow-x:auto;line-height:normal;font-family:Menlo,'DejaVu Sans Mono',consolas,'Courier New',monospace\"><span style=\"font-weight: bold\">[</span>\n",
       "    <span style=\"font-weight: bold\">{</span>\n",
       "        <span style=\"color: #008000; text-decoration-color: #008000\">'author'</span>: <span style=\"color: #008000; text-decoration-color: #008000\">'MacKay, David JC'</span>,\n",
       "        <span style=\"color: #008000; text-decoration-color: #008000\">'id'</span>: <span style=\"color: #008000; text-decoration-color: #008000\">'id-1234'</span>,\n",
       "        <span style=\"color: #008000; text-decoration-color: #008000\">'title'</span>: <span style=\"color: #008000; text-decoration-color: #008000\">'Sustainable Energy - without the hot air'</span>,\n",
       "        <span style=\"color: #008000; text-decoration-color: #008000\">'year'</span>: <span style=\"color: #008080; text-decoration-color: #008080; font-weight: bold\">2009</span>\n",
       "    <span style=\"font-weight: bold\">}</span>\n",
       "<span style=\"font-weight: bold\">]</span>\n",
       "</pre>\n"
      ],
      "text/plain": [
       "\u001b[1m[\u001b[0m\n",
       "    \u001b[1m{\u001b[0m\n",
       "        \u001b[32m'author'\u001b[0m: \u001b[32m'MacKay, David JC'\u001b[0m,\n",
       "        \u001b[32m'id'\u001b[0m: \u001b[32m'id-1234'\u001b[0m,\n",
       "        \u001b[32m'title'\u001b[0m: \u001b[32m'Sustainable Energy - without the hot air'\u001b[0m,\n",
       "        \u001b[32m'year'\u001b[0m: \u001b[1;36m2009\u001b[0m\n",
       "    \u001b[1m}\u001b[0m\n",
       "\u001b[1m]\u001b[0m\n"
      ]
     },
     "metadata": {},
     "output_type": "display_data"
    }
   ],
   "source": [
    "run_query(\"year:[2000 TO 2020]\")"
   ]
  },
  {
   "cell_type": "markdown",
   "id": "79334f69-9484-4238-864a-cd3ec356b514",
   "metadata": {},
   "source": [
    "### Logical Operator\n",
    "\n",
    "You can use ``AND``, ``OR``, ``NOT`` syntax to connect multiple criterions. By default, it is ``AND``."
   ]
  },
  {
   "cell_type": "code",
   "execution_count": 22,
   "id": "80c703e9-b68b-4152-aa1b-6b5a928dc0e3",
   "metadata": {},
   "outputs": [
    {
     "data": {
      "text/html": [
       "<pre style=\"white-space:pre;overflow-x:auto;line-height:normal;font-family:Menlo,'DejaVu Sans Mono',consolas,'Courier New',monospace\"><span style=\"font-weight: bold\">[</span>\n",
       "    <span style=\"font-weight: bold\">{</span>\n",
       "        <span style=\"color: #008000; text-decoration-color: #008000\">'author'</span>: <span style=\"color: #008000; text-decoration-color: #008000\">'MacKay, David JC'</span>,\n",
       "        <span style=\"color: #008000; text-decoration-color: #008000\">'id'</span>: <span style=\"color: #008000; text-decoration-color: #008000\">'id-1234'</span>,\n",
       "        <span style=\"color: #008000; text-decoration-color: #008000\">'title'</span>: <span style=\"color: #008000; text-decoration-color: #008000\">'Sustainable Energy - without the hot air'</span>,\n",
       "        <span style=\"color: #008000; text-decoration-color: #008000\">'year'</span>: <span style=\"color: #008080; text-decoration-color: #008080; font-weight: bold\">2009</span>\n",
       "    <span style=\"font-weight: bold\">}</span>\n",
       "<span style=\"font-weight: bold\">]</span>\n",
       "</pre>\n"
      ],
      "text/plain": [
       "\u001b[1m[\u001b[0m\n",
       "    \u001b[1m{\u001b[0m\n",
       "        \u001b[32m'author'\u001b[0m: \u001b[32m'MacKay, David JC'\u001b[0m,\n",
       "        \u001b[32m'id'\u001b[0m: \u001b[32m'id-1234'\u001b[0m,\n",
       "        \u001b[32m'title'\u001b[0m: \u001b[32m'Sustainable Energy - without the hot air'\u001b[0m,\n",
       "        \u001b[32m'year'\u001b[0m: \u001b[1;36m2009\u001b[0m\n",
       "    \u001b[1m}\u001b[0m\n",
       "\u001b[1m]\u001b[0m\n"
      ]
     },
     "metadata": {},
     "output_type": "display_data"
    }
   ],
   "source": [
    "run_query(\"title:energy OR author:xyz\")"
   ]
  },
  {
   "cell_type": "code",
   "execution_count": 23,
   "id": "e12759c4-5203-4c85-9b42-3ab111c2de29",
   "metadata": {},
   "outputs": [
    {
     "data": {
      "text/html": [
       "<pre style=\"white-space:pre;overflow-x:auto;line-height:normal;font-family:Menlo,'DejaVu Sans Mono',consolas,'Courier New',monospace\"><span style=\"font-weight: bold\">[</span>\n",
       "    <span style=\"font-weight: bold\">{</span>\n",
       "        <span style=\"color: #008000; text-decoration-color: #008000\">'author'</span>: <span style=\"color: #008000; text-decoration-color: #008000\">'MacKay, David JC'</span>,\n",
       "        <span style=\"color: #008000; text-decoration-color: #008000\">'id'</span>: <span style=\"color: #008000; text-decoration-color: #008000\">'id-1234'</span>,\n",
       "        <span style=\"color: #008000; text-decoration-color: #008000\">'title'</span>: <span style=\"color: #008000; text-decoration-color: #008000\">'Sustainable Energy - without the hot air'</span>,\n",
       "        <span style=\"color: #008000; text-decoration-color: #008000\">'year'</span>: <span style=\"color: #008080; text-decoration-color: #008080; font-weight: bold\">2009</span>\n",
       "    <span style=\"font-weight: bold\">}</span>\n",
       "<span style=\"font-weight: bold\">]</span>\n",
       "</pre>\n"
      ],
      "text/plain": [
       "\u001b[1m[\u001b[0m\n",
       "    \u001b[1m{\u001b[0m\n",
       "        \u001b[32m'author'\u001b[0m: \u001b[32m'MacKay, David JC'\u001b[0m,\n",
       "        \u001b[32m'id'\u001b[0m: \u001b[32m'id-1234'\u001b[0m,\n",
       "        \u001b[32m'title'\u001b[0m: \u001b[32m'Sustainable Energy - without the hot air'\u001b[0m,\n",
       "        \u001b[32m'year'\u001b[0m: \u001b[1;36m2009\u001b[0m\n",
       "    \u001b[1m}\u001b[0m\n",
       "\u001b[1m]\u001b[0m\n"
      ]
     },
     "metadata": {},
     "output_type": "display_data"
    }
   ],
   "source": [
    "run_query(\"title:monster OR author:dav\")"
   ]
  },
  {
   "cell_type": "code",
   "execution_count": 24,
   "id": "9586e8c4-2d99-4839-a4b2-dacc1bbe95d0",
   "metadata": {},
   "outputs": [
    {
     "data": {
      "text/html": [
       "<pre style=\"white-space:pre;overflow-x:auto;line-height:normal;font-family:Menlo,'DejaVu Sans Mono',consolas,'Courier New',monospace\"><span style=\"font-weight: bold\">[]</span>\n",
       "</pre>\n"
      ],
      "text/plain": [
       "\u001b[1m[\u001b[0m\u001b[1m]\u001b[0m\n"
      ]
     },
     "metadata": {},
     "output_type": "display_data"
    }
   ],
   "source": [
    "run_query(\"title:monster AND author:xyz\")"
   ]
  },
  {
   "cell_type": "markdown",
   "id": "e13ec58a-7f6e-4df5-981b-c14700181c62",
   "metadata": {},
   "source": [
    "### Fuzzy Search\n",
    "\n",
    "You can use the ``${field_name}~${edit_distance}`` syntax to do fuzzy search on ``TextField``."
   ]
  },
  {
   "cell_type": "code",
   "execution_count": 25,
   "id": "a821f2c0-9dfd-4012-9627-826fd6b755df",
   "metadata": {},
   "outputs": [
    {
     "data": {
      "text/html": [
       "<pre style=\"white-space:pre;overflow-x:auto;line-height:normal;font-family:Menlo,'DejaVu Sans Mono',consolas,'Courier New',monospace\"><span style=\"font-weight: bold\">[</span>\n",
       "    <span style=\"font-weight: bold\">{</span>\n",
       "        <span style=\"color: #008000; text-decoration-color: #008000\">'author'</span>: <span style=\"color: #008000; text-decoration-color: #008000\">'MacKay, David JC'</span>,\n",
       "        <span style=\"color: #008000; text-decoration-color: #008000\">'id'</span>: <span style=\"color: #008000; text-decoration-color: #008000\">'id-1234'</span>,\n",
       "        <span style=\"color: #008000; text-decoration-color: #008000\">'title'</span>: <span style=\"color: #008000; text-decoration-color: #008000\">'Sustainable Energy - without the hot air'</span>,\n",
       "        <span style=\"color: #008000; text-decoration-color: #008000\">'year'</span>: <span style=\"color: #008080; text-decoration-color: #008080; font-weight: bold\">2009</span>\n",
       "    <span style=\"font-weight: bold\">}</span>\n",
       "<span style=\"font-weight: bold\">]</span>\n",
       "</pre>\n"
      ],
      "text/plain": [
       "\u001b[1m[\u001b[0m\n",
       "    \u001b[1m{\u001b[0m\n",
       "        \u001b[32m'author'\u001b[0m: \u001b[32m'MacKay, David JC'\u001b[0m,\n",
       "        \u001b[32m'id'\u001b[0m: \u001b[32m'id-1234'\u001b[0m,\n",
       "        \u001b[32m'title'\u001b[0m: \u001b[32m'Sustainable Energy - without the hot air'\u001b[0m,\n",
       "        \u001b[32m'year'\u001b[0m: \u001b[1;36m2009\u001b[0m\n",
       "    \u001b[1m}\u001b[0m\n",
       "\u001b[1m]\u001b[0m\n"
      ]
     },
     "metadata": {},
     "output_type": "display_data"
    }
   ],
   "source": [
    "run_query(\"title:energi~1\")"
   ]
  },
  {
   "cell_type": "markdown",
   "id": "aa2e0a1c-58e8-4cd6-87b2-9b7b9136008c",
   "metadata": {},
   "source": [
    "## ElasticSearch-liked results\n",
    "\n",
    "You can set ``simple_response=False`` to return elasticsearch-liked results."
   ]
  },
  {
   "cell_type": "code",
   "execution_count": 26,
   "id": "339e519d-706b-4c54-a850-be4d82858043",
   "metadata": {},
   "outputs": [
    {
     "data": {
      "text/html": [
       "<pre style=\"white-space:pre;overflow-x:auto;line-height:normal;font-family:Menlo,'DejaVu Sans Mono',consolas,'Courier New',monospace\"><span style=\"font-weight: bold\">{</span>\n",
       "    <span style=\"color: #008000; text-decoration-color: #008000\">'index'</span>: <span style=\"color: #008000; text-decoration-color: #008000\">'my-dataset'</span>,\n",
       "    <span style=\"color: #008000; text-decoration-color: #008000\">'took'</span>: <span style=\"color: #008080; text-decoration-color: #008080; font-weight: bold\">0</span>,\n",
       "    <span style=\"color: #008000; text-decoration-color: #008000\">'size'</span>: <span style=\"color: #008080; text-decoration-color: #008080; font-weight: bold\">1</span>,\n",
       "    <span style=\"color: #008000; text-decoration-color: #008000\">'fresh'</span>: <span style=\"color: #ff0000; text-decoration-color: #ff0000; font-style: italic\">False</span>,\n",
       "    <span style=\"color: #008000; text-decoration-color: #008000\">'cache'</span>: <span style=\"color: #ff0000; text-decoration-color: #ff0000; font-style: italic\">False</span>,\n",
       "    <span style=\"color: #008000; text-decoration-color: #008000\">'hits'</span>: <span style=\"font-weight: bold\">[</span>\n",
       "        <span style=\"font-weight: bold\">{</span>\n",
       "            <span style=\"color: #008000; text-decoration-color: #008000\">'_id'</span>: <span style=\"color: #008080; text-decoration-color: #008080; font-weight: bold\">0</span>,\n",
       "            <span style=\"color: #008000; text-decoration-color: #008000\">'_score'</span>: <span style=\"color: #008080; text-decoration-color: #008080; font-weight: bold\">-2147485657</span>,\n",
       "            <span style=\"color: #008000; text-decoration-color: #008000\">'_source'</span>: <span style=\"font-weight: bold\">{</span>\n",
       "                <span style=\"color: #008000; text-decoration-color: #008000\">'author'</span>: <span style=\"color: #008000; text-decoration-color: #008000\">'MacKay, David JC'</span>,\n",
       "                <span style=\"color: #008000; text-decoration-color: #008000\">'id'</span>: <span style=\"color: #008000; text-decoration-color: #008000\">'id-1234'</span>,\n",
       "                <span style=\"color: #008000; text-decoration-color: #008000\">'title'</span>: <span style=\"color: #008000; text-decoration-color: #008000\">'Sustainable Energy - without the hot air'</span>,\n",
       "                <span style=\"color: #008000; text-decoration-color: #008000\">'year'</span>: <span style=\"color: #008080; text-decoration-color: #008080; font-weight: bold\">2009</span>\n",
       "            <span style=\"font-weight: bold\">}</span>\n",
       "        <span style=\"font-weight: bold\">}</span>\n",
       "    <span style=\"font-weight: bold\">]</span>\n",
       "<span style=\"font-weight: bold\">}</span>\n",
       "</pre>\n"
      ],
      "text/plain": [
       "\u001b[1m{\u001b[0m\n",
       "    \u001b[32m'index'\u001b[0m: \u001b[32m'my-dataset'\u001b[0m,\n",
       "    \u001b[32m'took'\u001b[0m: \u001b[1;36m0\u001b[0m,\n",
       "    \u001b[32m'size'\u001b[0m: \u001b[1;36m1\u001b[0m,\n",
       "    \u001b[32m'fresh'\u001b[0m: \u001b[3;91mFalse\u001b[0m,\n",
       "    \u001b[32m'cache'\u001b[0m: \u001b[3;91mFalse\u001b[0m,\n",
       "    \u001b[32m'hits'\u001b[0m: \u001b[1m[\u001b[0m\n",
       "        \u001b[1m{\u001b[0m\n",
       "            \u001b[32m'_id'\u001b[0m: \u001b[1;36m0\u001b[0m,\n",
       "            \u001b[32m'_score'\u001b[0m: \u001b[1;36m-2147485657\u001b[0m,\n",
       "            \u001b[32m'_source'\u001b[0m: \u001b[1m{\u001b[0m\n",
       "                \u001b[32m'author'\u001b[0m: \u001b[32m'MacKay, David JC'\u001b[0m,\n",
       "                \u001b[32m'id'\u001b[0m: \u001b[32m'id-1234'\u001b[0m,\n",
       "                \u001b[32m'title'\u001b[0m: \u001b[32m'Sustainable Energy - without the hot air'\u001b[0m,\n",
       "                \u001b[32m'year'\u001b[0m: \u001b[1;36m2009\u001b[0m\n",
       "            \u001b[1m}\u001b[0m\n",
       "        \u001b[1m}\u001b[0m\n",
       "    \u001b[1m]\u001b[0m\n",
       "\u001b[1m}\u001b[0m\n"
      ]
     },
     "metadata": {},
     "output_type": "display_data"
    }
   ],
   "source": [
    "rprint(ds.search(\"David\", simple_response=False))"
   ]
  },
  {
   "cell_type": "markdown",
   "id": "847b71f6-b5c1-4266-a5e6-bfd30461068d",
   "metadata": {},
   "source": [
    "## Enable logging\n",
    "\n",
    "You can set ``verbose=True`` to show detailed log."
   ]
  },
  {
   "cell_type": "code",
   "execution_count": 27,
   "id": "0d100eeb-e11a-4054-bcc0-3662aad115aa",
   "metadata": {},
   "outputs": [],
   "source": [
    "def downloader_5000_records():\n",
    "    # this time we want to work on a larger dataset\n",
    "    return [\n",
    "        {\n",
    "            \"id\": uuid.uuid4().hex,\n",
    "            \"title\": fake.sentence(),\n",
    "            \"author\": fake.name(),\n",
    "            \"year\": random.randint(1980, 2020),\n",
    "        }\n",
    "        for _ in range(5000) # 5,000\n",
    "    ]"
   ]
  },
  {
   "cell_type": "code",
   "execution_count": 28,
   "id": "cd693d2d-dae8-496e-a10d-e3fdc5cfc69c",
   "metadata": {},
   "outputs": [
    {
     "name": "stdout",
     "output_type": "stream",
     "text": [
      "+----- ⏱ 🟢 🔎 Start 'searching' ------------------------------------------------+\n",
      "🔎 \n",
      "🔎 dataset is NOT expired, skip the downloader\n",
      "🔎 NOT hit query cache!\n",
      "🔎 preprocessing query ...\n",
      "🔎 run search on index my-dataset...\n",
      "🔎   search took: 0 milliseconds\n",
      "🔎   return: 0 documents\n",
      "🔎   dataset is fresh: False\n",
      "🔎   hit cache: False\n",
      "🔎 \n",
      "+----- ⏰ 🔴 🔎 End 'searching', elapsed = 0.03 sec ------------------------------+\n"
     ]
    },
    {
     "data": {
      "text/html": [
       "<pre style=\"white-space:pre;overflow-x:auto;line-height:normal;font-family:Menlo,'DejaVu Sans Mono',consolas,'Courier New',monospace\"><span style=\"font-weight: bold\">{</span><span style=\"color: #008000; text-decoration-color: #008000\">'index'</span>: <span style=\"color: #008000; text-decoration-color: #008000\">'my-dataset'</span>, <span style=\"color: #008000; text-decoration-color: #008000\">'took'</span>: <span style=\"color: #008080; text-decoration-color: #008080; font-weight: bold\">0</span>, <span style=\"color: #008000; text-decoration-color: #008000\">'size'</span>: <span style=\"color: #008080; text-decoration-color: #008080; font-weight: bold\">0</span>, <span style=\"color: #008000; text-decoration-color: #008000\">'fresh'</span>: <span style=\"color: #ff0000; text-decoration-color: #ff0000; font-style: italic\">False</span>, <span style=\"color: #008000; text-decoration-color: #008000\">'cache'</span>: <span style=\"color: #ff0000; text-decoration-color: #ff0000; font-style: italic\">False</span>, <span style=\"color: #008000; text-decoration-color: #008000\">'hits'</span>: <span style=\"font-weight: bold\">[]}</span>\n",
       "</pre>\n"
      ],
      "text/plain": [
       "\u001b[1m{\u001b[0m\u001b[32m'index'\u001b[0m: \u001b[32m'my-dataset'\u001b[0m, \u001b[32m'took'\u001b[0m: \u001b[1;36m0\u001b[0m, \u001b[32m'size'\u001b[0m: \u001b[1;36m0\u001b[0m, \u001b[32m'fresh'\u001b[0m: \u001b[3;91mFalse\u001b[0m, \u001b[32m'cache'\u001b[0m: \u001b[3;91mFalse\u001b[0m, \u001b[32m'hits'\u001b[0m: \u001b[1m[\u001b[0m\u001b[1m]\u001b[0m\u001b[1m}\u001b[0m\n"
      ]
     },
     "metadata": {},
     "output_type": "display_data"
    }
   ],
   "source": [
    "ds.downloader = downloader_5000_records\n",
    "rprint(ds.search(\"police\", limit=3, simple_response=False, verbose=True))"
   ]
  },
  {
   "cell_type": "markdown",
   "id": "6871c216-6ca0-40a5-9d21-ea4cc5f5cb11",
   "metadata": {},
   "source": [
    "## Query Caching\n",
    "\n",
    "The query is automatically cached if the dataset is not expired. You can see that it only takes 0.00 sec if we run the same query again."
   ]
  },
  {
   "cell_type": "code",
   "execution_count": 29,
   "id": "6388b906-715f-4ef8-8a98-fefeb5fe82c6",
   "metadata": {},
   "outputs": [
    {
     "name": "stdout",
     "output_type": "stream",
     "text": [
      "+----- ⏱ 🟢 🔎 Start 'searching' ------------------------------------------------+\n",
      "🔎 \n",
      "🔎 dataset is NOT expired, skip the downloader\n",
      "🔎 HIT query cache!\n",
      "🔎   search took: 0 milliseconds\n",
      "🔎   return: 0 documents\n",
      "🔎   dataset is fresh: False\n",
      "🔎   hit cache: True\n",
      "🔎 \n",
      "+----- ⏰ 🔴 🔎 End 'searching', elapsed = 0.01 sec ------------------------------+\n"
     ]
    },
    {
     "data": {
      "text/html": [
       "<pre style=\"white-space:pre;overflow-x:auto;line-height:normal;font-family:Menlo,'DejaVu Sans Mono',consolas,'Courier New',monospace\"><span style=\"font-weight: bold\">{</span><span style=\"color: #008000; text-decoration-color: #008000\">'index'</span>: <span style=\"color: #008000; text-decoration-color: #008000\">'my-dataset'</span>, <span style=\"color: #008000; text-decoration-color: #008000\">'took'</span>: <span style=\"color: #008080; text-decoration-color: #008080; font-weight: bold\">0</span>, <span style=\"color: #008000; text-decoration-color: #008000\">'size'</span>: <span style=\"color: #008080; text-decoration-color: #008080; font-weight: bold\">0</span>, <span style=\"color: #008000; text-decoration-color: #008000\">'fresh'</span>: <span style=\"color: #ff0000; text-decoration-color: #ff0000; font-style: italic\">False</span>, <span style=\"color: #008000; text-decoration-color: #008000\">'cache'</span>: <span style=\"color: #00ff00; text-decoration-color: #00ff00; font-style: italic\">True</span>, <span style=\"color: #008000; text-decoration-color: #008000\">'hits'</span>: <span style=\"font-weight: bold\">[]}</span>\n",
       "</pre>\n"
      ],
      "text/plain": [
       "\u001b[1m{\u001b[0m\u001b[32m'index'\u001b[0m: \u001b[32m'my-dataset'\u001b[0m, \u001b[32m'took'\u001b[0m: \u001b[1;36m0\u001b[0m, \u001b[32m'size'\u001b[0m: \u001b[1;36m0\u001b[0m, \u001b[32m'fresh'\u001b[0m: \u001b[3;91mFalse\u001b[0m, \u001b[32m'cache'\u001b[0m: \u001b[3;92mTrue\u001b[0m, \u001b[32m'hits'\u001b[0m: \u001b[1m[\u001b[0m\u001b[1m]\u001b[0m\u001b[1m}\u001b[0m\n"
      ]
     },
     "metadata": {},
     "output_type": "display_data"
    }
   ],
   "source": [
    "rprint(ds.search(\"police\", limit=3, simple_response=False, verbose=True))"
   ]
  },
  {
   "cell_type": "markdown",
   "id": "59cd1200-71b9-491f-b6bf-837bfdf3715b",
   "metadata": {},
   "source": [
    "## Automatically Refresh the Dataset\n",
    "\n",
    "You may want to automatically re-download the dataset every X seconds / hours / days, you just need to set the expire time and it will automatically re-run the downloader function when the dataset is expired."
   ]
  },
  {
   "cell_type": "code",
   "execution_count": 30,
   "id": "cd5ea9e7-44ed-409e-b565-7003026b6fe5",
   "metadata": {},
   "outputs": [
    {
     "name": "stdout",
     "output_type": "stream",
     "text": [
      "=== First run, it will download the data ===\n",
      "+----- ⏱ 🟢 🔎 Start 'searching' ------------------------------------------------+\n",
      "🔎 \n",
      "🔎 dataset is expired, need to rebuild the index\n",
      "🔎 +----- ⏱ 🟢 🏗 Start 'build index' --------------------------------------------+\n",
      "🔎 🏗 \n",
      "🔎 🏗 exam the index write lock ...\n",
      "🔎 🏗   nice, it is not locked, working on indexing ...\n",
      "🔎 🏗     finished indexing 5000 documents, commit the index.\n",
      "🔎 🏗     the dataset will expire in 1 seconds.\n",
      "🔎 🏗 \n",
      "🔎 +----- ⏰ 🔴 🏗 End 'build index', elapsed = 1.16 sec --------------------------+\n",
      "🔎 NOT hit query cache!\n",
      "🔎 preprocessing query ...\n",
      "🔎 run search on index my-dataset...\n",
      "🔎   search took: 4 milliseconds\n",
      "🔎   return: 1 documents\n",
      "🔎   dataset is fresh: True\n",
      "🔎   hit cache: False\n",
      "🔎 \n",
      "+----- ⏰ 🔴 🔎 End 'searching', elapsed = 1.64 sec ------------------------------+\n"
     ]
    },
    {
     "data": {
      "text/html": [
       "<pre style=\"white-space:pre;overflow-x:auto;line-height:normal;font-family:Menlo,'DejaVu Sans Mono',consolas,'Courier New',monospace\"><span style=\"font-weight: bold\">{</span>\n",
       "    <span style=\"color: #008000; text-decoration-color: #008000\">'index'</span>: <span style=\"color: #008000; text-decoration-color: #008000\">'my-dataset'</span>,\n",
       "    <span style=\"color: #008000; text-decoration-color: #008000\">'took'</span>: <span style=\"color: #008080; text-decoration-color: #008080; font-weight: bold\">4</span>,\n",
       "    <span style=\"color: #008000; text-decoration-color: #008000\">'size'</span>: <span style=\"color: #008080; text-decoration-color: #008080; font-weight: bold\">1</span>,\n",
       "    <span style=\"color: #008000; text-decoration-color: #008000\">'fresh'</span>: <span style=\"color: #00ff00; text-decoration-color: #00ff00; font-style: italic\">True</span>,\n",
       "    <span style=\"color: #008000; text-decoration-color: #008000\">'cache'</span>: <span style=\"color: #ff0000; text-decoration-color: #ff0000; font-style: italic\">False</span>,\n",
       "    <span style=\"color: #008000; text-decoration-color: #008000\">'hits'</span>: <span style=\"font-weight: bold\">[</span>\n",
       "        <span style=\"font-weight: bold\">{</span>\n",
       "            <span style=\"color: #008000; text-decoration-color: #008000\">'_id'</span>: <span style=\"color: #008080; text-decoration-color: #008080; font-weight: bold\">273</span>,\n",
       "            <span style=\"color: #008000; text-decoration-color: #008000\">'_score'</span>: <span style=\"color: #008080; text-decoration-color: #008080; font-weight: bold\">-2147485668</span>,\n",
       "            <span style=\"color: #008000; text-decoration-color: #008000\">'_source'</span>: <span style=\"font-weight: bold\">{</span>\n",
       "                <span style=\"color: #008000; text-decoration-color: #008000\">'author'</span>: <span style=\"color: #008000; text-decoration-color: #008000\">'Shirley Lucas'</span>,\n",
       "                <span style=\"color: #008000; text-decoration-color: #008000\">'id'</span>: <span style=\"color: #008000; text-decoration-color: #008000\">'2641a8c51b2341a88b97238efeeac352'</span>,\n",
       "                <span style=\"color: #008000; text-decoration-color: #008000\">'title'</span>: <span style=\"color: #008000; text-decoration-color: #008000\">'Home police clearly provide.'</span>,\n",
       "                <span style=\"color: #008000; text-decoration-color: #008000\">'year'</span>: <span style=\"color: #008080; text-decoration-color: #008080; font-weight: bold\">2020</span>\n",
       "            <span style=\"font-weight: bold\">}</span>\n",
       "        <span style=\"font-weight: bold\">}</span>\n",
       "    <span style=\"font-weight: bold\">]</span>\n",
       "<span style=\"font-weight: bold\">}</span>\n",
       "</pre>\n"
      ],
      "text/plain": [
       "\u001b[1m{\u001b[0m\n",
       "    \u001b[32m'index'\u001b[0m: \u001b[32m'my-dataset'\u001b[0m,\n",
       "    \u001b[32m'took'\u001b[0m: \u001b[1;36m4\u001b[0m,\n",
       "    \u001b[32m'size'\u001b[0m: \u001b[1;36m1\u001b[0m,\n",
       "    \u001b[32m'fresh'\u001b[0m: \u001b[3;92mTrue\u001b[0m,\n",
       "    \u001b[32m'cache'\u001b[0m: \u001b[3;91mFalse\u001b[0m,\n",
       "    \u001b[32m'hits'\u001b[0m: \u001b[1m[\u001b[0m\n",
       "        \u001b[1m{\u001b[0m\n",
       "            \u001b[32m'_id'\u001b[0m: \u001b[1;36m273\u001b[0m,\n",
       "            \u001b[32m'_score'\u001b[0m: \u001b[1;36m-2147485668\u001b[0m,\n",
       "            \u001b[32m'_source'\u001b[0m: \u001b[1m{\u001b[0m\n",
       "                \u001b[32m'author'\u001b[0m: \u001b[32m'Shirley Lucas'\u001b[0m,\n",
       "                \u001b[32m'id'\u001b[0m: \u001b[32m'2641a8c51b2341a88b97238efeeac352'\u001b[0m,\n",
       "                \u001b[32m'title'\u001b[0m: \u001b[32m'Home police clearly provide.'\u001b[0m,\n",
       "                \u001b[32m'year'\u001b[0m: \u001b[1;36m2020\u001b[0m\n",
       "            \u001b[1m}\u001b[0m\n",
       "        \u001b[1m}\u001b[0m\n",
       "    \u001b[1m]\u001b[0m\n",
       "\u001b[1m}\u001b[0m\n"
      ]
     },
     "metadata": {},
     "output_type": "display_data"
    },
    {
     "name": "stdout",
     "output_type": "stream",
     "text": [
      "=== Second run, it will not download the data ===\n",
      "+----- ⏱ 🟢 🔎 Start 'searching' ------------------------------------------------+\n",
      "🔎 \n",
      "🔎 dataset is NOT expired, skip the downloader\n",
      "🔎 HIT query cache!\n",
      "🔎   search took: 4 milliseconds\n",
      "🔎   return: 1 documents\n",
      "🔎   dataset is fresh: False\n",
      "🔎   hit cache: True\n",
      "🔎 \n",
      "+----- ⏰ 🔴 🔎 End 'searching', elapsed = 0.00 sec ------------------------------+\n"
     ]
    },
    {
     "data": {
      "text/html": [
       "<pre style=\"white-space:pre;overflow-x:auto;line-height:normal;font-family:Menlo,'DejaVu Sans Mono',consolas,'Courier New',monospace\"><span style=\"font-weight: bold\">{</span>\n",
       "    <span style=\"color: #008000; text-decoration-color: #008000\">'index'</span>: <span style=\"color: #008000; text-decoration-color: #008000\">'my-dataset'</span>,\n",
       "    <span style=\"color: #008000; text-decoration-color: #008000\">'took'</span>: <span style=\"color: #008080; text-decoration-color: #008080; font-weight: bold\">4</span>,\n",
       "    <span style=\"color: #008000; text-decoration-color: #008000\">'size'</span>: <span style=\"color: #008080; text-decoration-color: #008080; font-weight: bold\">1</span>,\n",
       "    <span style=\"color: #008000; text-decoration-color: #008000\">'fresh'</span>: <span style=\"color: #ff0000; text-decoration-color: #ff0000; font-style: italic\">False</span>,\n",
       "    <span style=\"color: #008000; text-decoration-color: #008000\">'cache'</span>: <span style=\"color: #00ff00; text-decoration-color: #00ff00; font-style: italic\">True</span>,\n",
       "    <span style=\"color: #008000; text-decoration-color: #008000\">'hits'</span>: <span style=\"font-weight: bold\">[</span>\n",
       "        <span style=\"font-weight: bold\">{</span>\n",
       "            <span style=\"color: #008000; text-decoration-color: #008000\">'_id'</span>: <span style=\"color: #008080; text-decoration-color: #008080; font-weight: bold\">273</span>,\n",
       "            <span style=\"color: #008000; text-decoration-color: #008000\">'_score'</span>: <span style=\"color: #008080; text-decoration-color: #008080; font-weight: bold\">-2147485668</span>,\n",
       "            <span style=\"color: #008000; text-decoration-color: #008000\">'_source'</span>: <span style=\"font-weight: bold\">{</span>\n",
       "                <span style=\"color: #008000; text-decoration-color: #008000\">'author'</span>: <span style=\"color: #008000; text-decoration-color: #008000\">'Shirley Lucas'</span>,\n",
       "                <span style=\"color: #008000; text-decoration-color: #008000\">'id'</span>: <span style=\"color: #008000; text-decoration-color: #008000\">'2641a8c51b2341a88b97238efeeac352'</span>,\n",
       "                <span style=\"color: #008000; text-decoration-color: #008000\">'title'</span>: <span style=\"color: #008000; text-decoration-color: #008000\">'Home police clearly provide.'</span>,\n",
       "                <span style=\"color: #008000; text-decoration-color: #008000\">'year'</span>: <span style=\"color: #008080; text-decoration-color: #008080; font-weight: bold\">2020</span>\n",
       "            <span style=\"font-weight: bold\">}</span>\n",
       "        <span style=\"font-weight: bold\">}</span>\n",
       "    <span style=\"font-weight: bold\">]</span>\n",
       "<span style=\"font-weight: bold\">}</span>\n",
       "</pre>\n"
      ],
      "text/plain": [
       "\u001b[1m{\u001b[0m\n",
       "    \u001b[32m'index'\u001b[0m: \u001b[32m'my-dataset'\u001b[0m,\n",
       "    \u001b[32m'took'\u001b[0m: \u001b[1;36m4\u001b[0m,\n",
       "    \u001b[32m'size'\u001b[0m: \u001b[1;36m1\u001b[0m,\n",
       "    \u001b[32m'fresh'\u001b[0m: \u001b[3;91mFalse\u001b[0m,\n",
       "    \u001b[32m'cache'\u001b[0m: \u001b[3;92mTrue\u001b[0m,\n",
       "    \u001b[32m'hits'\u001b[0m: \u001b[1m[\u001b[0m\n",
       "        \u001b[1m{\u001b[0m\n",
       "            \u001b[32m'_id'\u001b[0m: \u001b[1;36m273\u001b[0m,\n",
       "            \u001b[32m'_score'\u001b[0m: \u001b[1;36m-2147485668\u001b[0m,\n",
       "            \u001b[32m'_source'\u001b[0m: \u001b[1m{\u001b[0m\n",
       "                \u001b[32m'author'\u001b[0m: \u001b[32m'Shirley Lucas'\u001b[0m,\n",
       "                \u001b[32m'id'\u001b[0m: \u001b[32m'2641a8c51b2341a88b97238efeeac352'\u001b[0m,\n",
       "                \u001b[32m'title'\u001b[0m: \u001b[32m'Home police clearly provide.'\u001b[0m,\n",
       "                \u001b[32m'year'\u001b[0m: \u001b[1;36m2020\u001b[0m\n",
       "            \u001b[1m}\u001b[0m\n",
       "        \u001b[1m}\u001b[0m\n",
       "    \u001b[1m]\u001b[0m\n",
       "\u001b[1m}\u001b[0m\n"
      ]
     },
     "metadata": {},
     "output_type": "display_data"
    },
    {
     "name": "stdout",
     "output_type": "stream",
     "text": [
      "=== Third run, it will automatically download the data ===\n",
      "+----- ⏱ 🟢 🔎 Start 'searching' ------------------------------------------------+\n",
      "🔎 \n",
      "🔎 dataset is expired, need to rebuild the index\n",
      "🔎 +----- ⏱ 🟢 🏗 Start 'build index' --------------------------------------------+\n",
      "🔎 🏗 \n",
      "🔎 🏗 exam the index write lock ...\n",
      "🔎 🏗   nice, it is not locked, working on indexing ...\n",
      "🔎 🏗     finished indexing 5000 documents, commit the index.\n",
      "🔎 🏗     the dataset will expire in 1 seconds.\n",
      "🔎 🏗 \n",
      "🔎 +----- ⏰ 🔴 🏗 End 'build index', elapsed = 0.75 sec --------------------------+\n",
      "🔎 NOT hit query cache!\n",
      "🔎 preprocessing query ...\n",
      "🔎 run search on index my-dataset...\n",
      "🔎   search took: 4 milliseconds\n",
      "🔎   return: 1 documents\n",
      "🔎   dataset is fresh: True\n",
      "🔎   hit cache: False\n",
      "🔎 \n",
      "+----- ⏰ 🔴 🔎 End 'searching', elapsed = 1.17 sec ------------------------------+\n"
     ]
    },
    {
     "data": {
      "text/html": [
       "<pre style=\"white-space:pre;overflow-x:auto;line-height:normal;font-family:Menlo,'DejaVu Sans Mono',consolas,'Courier New',monospace\"><span style=\"font-weight: bold\">{</span>\n",
       "    <span style=\"color: #008000; text-decoration-color: #008000\">'index'</span>: <span style=\"color: #008000; text-decoration-color: #008000\">'my-dataset'</span>,\n",
       "    <span style=\"color: #008000; text-decoration-color: #008000\">'took'</span>: <span style=\"color: #008080; text-decoration-color: #008080; font-weight: bold\">4</span>,\n",
       "    <span style=\"color: #008000; text-decoration-color: #008000\">'size'</span>: <span style=\"color: #008080; text-decoration-color: #008080; font-weight: bold\">1</span>,\n",
       "    <span style=\"color: #008000; text-decoration-color: #008000\">'fresh'</span>: <span style=\"color: #00ff00; text-decoration-color: #00ff00; font-style: italic\">True</span>,\n",
       "    <span style=\"color: #008000; text-decoration-color: #008000\">'cache'</span>: <span style=\"color: #ff0000; text-decoration-color: #ff0000; font-style: italic\">False</span>,\n",
       "    <span style=\"color: #008000; text-decoration-color: #008000\">'hits'</span>: <span style=\"font-weight: bold\">[</span>\n",
       "        <span style=\"font-weight: bold\">{</span>\n",
       "            <span style=\"color: #008000; text-decoration-color: #008000\">'_id'</span>: <span style=\"color: #008080; text-decoration-color: #008080; font-weight: bold\">2046</span>,\n",
       "            <span style=\"color: #008000; text-decoration-color: #008000\">'_score'</span>: <span style=\"color: #008080; text-decoration-color: #008080; font-weight: bold\">-2147485668</span>,\n",
       "            <span style=\"color: #008000; text-decoration-color: #008000\">'_source'</span>: <span style=\"font-weight: bold\">{</span>\n",
       "                <span style=\"color: #008000; text-decoration-color: #008000\">'author'</span>: <span style=\"color: #008000; text-decoration-color: #008000\">'Nicholas Mckenzie'</span>,\n",
       "                <span style=\"color: #008000; text-decoration-color: #008000\">'id'</span>: <span style=\"color: #008000; text-decoration-color: #008000\">'257fb33d55b147d0ad8b3d5daa9d35af'</span>,\n",
       "                <span style=\"color: #008000; text-decoration-color: #008000\">'title'</span>: <span style=\"color: #008000; text-decoration-color: #008000\">'Police real author dark realize.'</span>,\n",
       "                <span style=\"color: #008000; text-decoration-color: #008000\">'year'</span>: <span style=\"color: #008080; text-decoration-color: #008080; font-weight: bold\">2020</span>\n",
       "            <span style=\"font-weight: bold\">}</span>\n",
       "        <span style=\"font-weight: bold\">}</span>\n",
       "    <span style=\"font-weight: bold\">]</span>\n",
       "<span style=\"font-weight: bold\">}</span>\n",
       "</pre>\n"
      ],
      "text/plain": [
       "\u001b[1m{\u001b[0m\n",
       "    \u001b[32m'index'\u001b[0m: \u001b[32m'my-dataset'\u001b[0m,\n",
       "    \u001b[32m'took'\u001b[0m: \u001b[1;36m4\u001b[0m,\n",
       "    \u001b[32m'size'\u001b[0m: \u001b[1;36m1\u001b[0m,\n",
       "    \u001b[32m'fresh'\u001b[0m: \u001b[3;92mTrue\u001b[0m,\n",
       "    \u001b[32m'cache'\u001b[0m: \u001b[3;91mFalse\u001b[0m,\n",
       "    \u001b[32m'hits'\u001b[0m: \u001b[1m[\u001b[0m\n",
       "        \u001b[1m{\u001b[0m\n",
       "            \u001b[32m'_id'\u001b[0m: \u001b[1;36m2046\u001b[0m,\n",
       "            \u001b[32m'_score'\u001b[0m: \u001b[1;36m-2147485668\u001b[0m,\n",
       "            \u001b[32m'_source'\u001b[0m: \u001b[1m{\u001b[0m\n",
       "                \u001b[32m'author'\u001b[0m: \u001b[32m'Nicholas Mckenzie'\u001b[0m,\n",
       "                \u001b[32m'id'\u001b[0m: \u001b[32m'257fb33d55b147d0ad8b3d5daa9d35af'\u001b[0m,\n",
       "                \u001b[32m'title'\u001b[0m: \u001b[32m'Police real author dark realize.'\u001b[0m,\n",
       "                \u001b[32m'year'\u001b[0m: \u001b[1;36m2020\u001b[0m\n",
       "            \u001b[1m}\u001b[0m\n",
       "        \u001b[1m}\u001b[0m\n",
       "    \u001b[1m]\u001b[0m\n",
       "\u001b[1m}\u001b[0m\n"
      ]
     },
     "metadata": {},
     "output_type": "display_data"
    }
   ],
   "source": [
    "ds.downloader = downloader_5000_records\n",
    "ds.cache_expire = 1\n",
    "ds.remove_all_index()\n",
    "ds.remove_all_cache()\n",
    "\n",
    "print(\"=== First run, it will download the data ===\")\n",
    "rprint(ds.search(\"police\", limit=1, simple_response=False, verbose=True))\n",
    "\n",
    "print(\"=== Second run, it will not download the data ===\")\n",
    "rprint(ds.search(\"police\", limit=1, simple_response=False, verbose=True))\n",
    "\n",
    "time.sleep(1)\n",
    "print(\"=== Third run, it will automatically download the data ===\")\n",
    "rprint(ds.search(\"police\", limit=1, simple_response=False, verbose=True))"
   ]
  },
  {
   "cell_type": "markdown",
   "id": "f219e3ea-9206-4239-b44f-fbc49cf49abf",
   "metadata": {},
   "source": [
    "## Downloader function has parameters"
   ]
  },
  {
   "cell_type": "code",
   "execution_count": 40,
   "id": "9c59625a-a97e-428f-a095-d097042c30f6",
   "metadata": {},
   "outputs": [],
   "source": [
    "def _downloader(env: str):\n",
    "    return [\n",
    "        {\"id\": f\"id-{i}-{env}\", \"title\": f\"my {i}th {env} machine\"}\n",
    "        for i in range(1, 1+10)\n",
    "    ]\n",
    "\n",
    "\n",
    "def create_per_environment_dataset(env: str):\n",
    "    def downloader():\n",
    "        return _downloader(env=env)\n",
    "    return DataSet(\n",
    "        dir_index=dir_here.joinpath(\".index\"), # where the index locate\n",
    "        index_name=f\"my-{env}-dataset\", # unique name of your dataset\n",
    "        fields=[\n",
    "            # unique ID field\n",
    "            IdField(name=\"id\", stored=True),\n",
    "            # match by token (word) or phrase\n",
    "            TextField(name=\"title\", stored=True),\n",
    "        ],\n",
    "        cache=Cache(str(dir_here.joinpath(\".cache\")), tag_index=True), # where the cache locate\n",
    "        cache_key=f\"my-{env}-dataset\", # unique cache key for your dataset\n",
    "        cache_expire=10, # how long cache expire (in seconds)\n",
    "        cache_tag=f\"my-{env}-dataset\", # a tag can be used to do batch delete. if you want to delete cache for many dataset, give them the same tag\n",
    "        downloader=downloader,\n",
    "    )"
   ]
  },
  {
   "cell_type": "code",
   "execution_count": 41,
   "id": "ffa2e5cf-75b1-4cb4-82b8-30f0b7f63931",
   "metadata": {},
   "outputs": [
    {
     "data": {
      "text/html": [
       "<pre style=\"white-space:pre;overflow-x:auto;line-height:normal;font-family:Menlo,'DejaVu Sans Mono',consolas,'Courier New',monospace\"><span style=\"font-weight: bold\">[</span>\n",
       "    <span style=\"font-weight: bold\">{</span><span style=\"color: #008000; text-decoration-color: #008000\">'id'</span>: <span style=\"color: #008000; text-decoration-color: #008000\">'id-1-dev'</span>, <span style=\"color: #008000; text-decoration-color: #008000\">'title'</span>: <span style=\"color: #008000; text-decoration-color: #008000\">'my 1th dev machine'</span><span style=\"font-weight: bold\">}</span>,\n",
       "    <span style=\"font-weight: bold\">{</span><span style=\"color: #008000; text-decoration-color: #008000\">'id'</span>: <span style=\"color: #008000; text-decoration-color: #008000\">'id-2-dev'</span>, <span style=\"color: #008000; text-decoration-color: #008000\">'title'</span>: <span style=\"color: #008000; text-decoration-color: #008000\">'my 2th dev machine'</span><span style=\"font-weight: bold\">}</span>,\n",
       "    <span style=\"font-weight: bold\">{</span><span style=\"color: #008000; text-decoration-color: #008000\">'id'</span>: <span style=\"color: #008000; text-decoration-color: #008000\">'id-3-dev'</span>, <span style=\"color: #008000; text-decoration-color: #008000\">'title'</span>: <span style=\"color: #008000; text-decoration-color: #008000\">'my 3th dev machine'</span><span style=\"font-weight: bold\">}</span>,\n",
       "    <span style=\"font-weight: bold\">{</span><span style=\"color: #008000; text-decoration-color: #008000\">'id'</span>: <span style=\"color: #008000; text-decoration-color: #008000\">'id-4-dev'</span>, <span style=\"color: #008000; text-decoration-color: #008000\">'title'</span>: <span style=\"color: #008000; text-decoration-color: #008000\">'my 4th dev machine'</span><span style=\"font-weight: bold\">}</span>,\n",
       "    <span style=\"font-weight: bold\">{</span><span style=\"color: #008000; text-decoration-color: #008000\">'id'</span>: <span style=\"color: #008000; text-decoration-color: #008000\">'id-5-dev'</span>, <span style=\"color: #008000; text-decoration-color: #008000\">'title'</span>: <span style=\"color: #008000; text-decoration-color: #008000\">'my 5th dev machine'</span><span style=\"font-weight: bold\">}</span>,\n",
       "    <span style=\"font-weight: bold\">{</span><span style=\"color: #008000; text-decoration-color: #008000\">'id'</span>: <span style=\"color: #008000; text-decoration-color: #008000\">'id-6-dev'</span>, <span style=\"color: #008000; text-decoration-color: #008000\">'title'</span>: <span style=\"color: #008000; text-decoration-color: #008000\">'my 6th dev machine'</span><span style=\"font-weight: bold\">}</span>,\n",
       "    <span style=\"font-weight: bold\">{</span><span style=\"color: #008000; text-decoration-color: #008000\">'id'</span>: <span style=\"color: #008000; text-decoration-color: #008000\">'id-7-dev'</span>, <span style=\"color: #008000; text-decoration-color: #008000\">'title'</span>: <span style=\"color: #008000; text-decoration-color: #008000\">'my 7th dev machine'</span><span style=\"font-weight: bold\">}</span>,\n",
       "    <span style=\"font-weight: bold\">{</span><span style=\"color: #008000; text-decoration-color: #008000\">'id'</span>: <span style=\"color: #008000; text-decoration-color: #008000\">'id-8-dev'</span>, <span style=\"color: #008000; text-decoration-color: #008000\">'title'</span>: <span style=\"color: #008000; text-decoration-color: #008000\">'my 8th dev machine'</span><span style=\"font-weight: bold\">}</span>,\n",
       "    <span style=\"font-weight: bold\">{</span><span style=\"color: #008000; text-decoration-color: #008000\">'id'</span>: <span style=\"color: #008000; text-decoration-color: #008000\">'id-9-dev'</span>, <span style=\"color: #008000; text-decoration-color: #008000\">'title'</span>: <span style=\"color: #008000; text-decoration-color: #008000\">'my 9th dev machine'</span><span style=\"font-weight: bold\">}</span>,\n",
       "    <span style=\"font-weight: bold\">{</span><span style=\"color: #008000; text-decoration-color: #008000\">'id'</span>: <span style=\"color: #008000; text-decoration-color: #008000\">'id-10-dev'</span>, <span style=\"color: #008000; text-decoration-color: #008000\">'title'</span>: <span style=\"color: #008000; text-decoration-color: #008000\">'my 10th dev machine'</span><span style=\"font-weight: bold\">}</span>\n",
       "<span style=\"font-weight: bold\">]</span>\n",
       "</pre>\n"
      ],
      "text/plain": [
       "\u001b[1m[\u001b[0m\n",
       "    \u001b[1m{\u001b[0m\u001b[32m'id'\u001b[0m: \u001b[32m'id-1-dev'\u001b[0m, \u001b[32m'title'\u001b[0m: \u001b[32m'my 1th dev machine'\u001b[0m\u001b[1m}\u001b[0m,\n",
       "    \u001b[1m{\u001b[0m\u001b[32m'id'\u001b[0m: \u001b[32m'id-2-dev'\u001b[0m, \u001b[32m'title'\u001b[0m: \u001b[32m'my 2th dev machine'\u001b[0m\u001b[1m}\u001b[0m,\n",
       "    \u001b[1m{\u001b[0m\u001b[32m'id'\u001b[0m: \u001b[32m'id-3-dev'\u001b[0m, \u001b[32m'title'\u001b[0m: \u001b[32m'my 3th dev machine'\u001b[0m\u001b[1m}\u001b[0m,\n",
       "    \u001b[1m{\u001b[0m\u001b[32m'id'\u001b[0m: \u001b[32m'id-4-dev'\u001b[0m, \u001b[32m'title'\u001b[0m: \u001b[32m'my 4th dev machine'\u001b[0m\u001b[1m}\u001b[0m,\n",
       "    \u001b[1m{\u001b[0m\u001b[32m'id'\u001b[0m: \u001b[32m'id-5-dev'\u001b[0m, \u001b[32m'title'\u001b[0m: \u001b[32m'my 5th dev machine'\u001b[0m\u001b[1m}\u001b[0m,\n",
       "    \u001b[1m{\u001b[0m\u001b[32m'id'\u001b[0m: \u001b[32m'id-6-dev'\u001b[0m, \u001b[32m'title'\u001b[0m: \u001b[32m'my 6th dev machine'\u001b[0m\u001b[1m}\u001b[0m,\n",
       "    \u001b[1m{\u001b[0m\u001b[32m'id'\u001b[0m: \u001b[32m'id-7-dev'\u001b[0m, \u001b[32m'title'\u001b[0m: \u001b[32m'my 7th dev machine'\u001b[0m\u001b[1m}\u001b[0m,\n",
       "    \u001b[1m{\u001b[0m\u001b[32m'id'\u001b[0m: \u001b[32m'id-8-dev'\u001b[0m, \u001b[32m'title'\u001b[0m: \u001b[32m'my 8th dev machine'\u001b[0m\u001b[1m}\u001b[0m,\n",
       "    \u001b[1m{\u001b[0m\u001b[32m'id'\u001b[0m: \u001b[32m'id-9-dev'\u001b[0m, \u001b[32m'title'\u001b[0m: \u001b[32m'my 9th dev machine'\u001b[0m\u001b[1m}\u001b[0m,\n",
       "    \u001b[1m{\u001b[0m\u001b[32m'id'\u001b[0m: \u001b[32m'id-10-dev'\u001b[0m, \u001b[32m'title'\u001b[0m: \u001b[32m'my 10th dev machine'\u001b[0m\u001b[1m}\u001b[0m\n",
       "\u001b[1m]\u001b[0m\n"
      ]
     },
     "metadata": {},
     "output_type": "display_data"
    }
   ],
   "source": [
    "ds = create_per_environment_dataset(env=\"dev\")\n",
    "ds.remove_all_index() # reset everything before testing\n",
    "ds.remove_all_cache() # reset everything before testing\n",
    "rprint(ds.search(\"dev\"))"
   ]
  },
  {
   "cell_type": "code",
   "execution_count": 42,
   "id": "aab3669b-e43e-4f29-b412-81872949fce4",
   "metadata": {},
   "outputs": [
    {
     "data": {
      "text/html": [
       "<pre style=\"white-space:pre;overflow-x:auto;line-height:normal;font-family:Menlo,'DejaVu Sans Mono',consolas,'Courier New',monospace\"><span style=\"font-weight: bold\">[</span>\n",
       "    <span style=\"font-weight: bold\">{</span><span style=\"color: #008000; text-decoration-color: #008000\">'id'</span>: <span style=\"color: #008000; text-decoration-color: #008000\">'id-1-prod'</span>, <span style=\"color: #008000; text-decoration-color: #008000\">'title'</span>: <span style=\"color: #008000; text-decoration-color: #008000\">'my 1th prod machine'</span><span style=\"font-weight: bold\">}</span>,\n",
       "    <span style=\"font-weight: bold\">{</span><span style=\"color: #008000; text-decoration-color: #008000\">'id'</span>: <span style=\"color: #008000; text-decoration-color: #008000\">'id-2-prod'</span>, <span style=\"color: #008000; text-decoration-color: #008000\">'title'</span>: <span style=\"color: #008000; text-decoration-color: #008000\">'my 2th prod machine'</span><span style=\"font-weight: bold\">}</span>,\n",
       "    <span style=\"font-weight: bold\">{</span><span style=\"color: #008000; text-decoration-color: #008000\">'id'</span>: <span style=\"color: #008000; text-decoration-color: #008000\">'id-3-prod'</span>, <span style=\"color: #008000; text-decoration-color: #008000\">'title'</span>: <span style=\"color: #008000; text-decoration-color: #008000\">'my 3th prod machine'</span><span style=\"font-weight: bold\">}</span>,\n",
       "    <span style=\"font-weight: bold\">{</span><span style=\"color: #008000; text-decoration-color: #008000\">'id'</span>: <span style=\"color: #008000; text-decoration-color: #008000\">'id-4-prod'</span>, <span style=\"color: #008000; text-decoration-color: #008000\">'title'</span>: <span style=\"color: #008000; text-decoration-color: #008000\">'my 4th prod machine'</span><span style=\"font-weight: bold\">}</span>,\n",
       "    <span style=\"font-weight: bold\">{</span><span style=\"color: #008000; text-decoration-color: #008000\">'id'</span>: <span style=\"color: #008000; text-decoration-color: #008000\">'id-5-prod'</span>, <span style=\"color: #008000; text-decoration-color: #008000\">'title'</span>: <span style=\"color: #008000; text-decoration-color: #008000\">'my 5th prod machine'</span><span style=\"font-weight: bold\">}</span>,\n",
       "    <span style=\"font-weight: bold\">{</span><span style=\"color: #008000; text-decoration-color: #008000\">'id'</span>: <span style=\"color: #008000; text-decoration-color: #008000\">'id-6-prod'</span>, <span style=\"color: #008000; text-decoration-color: #008000\">'title'</span>: <span style=\"color: #008000; text-decoration-color: #008000\">'my 6th prod machine'</span><span style=\"font-weight: bold\">}</span>,\n",
       "    <span style=\"font-weight: bold\">{</span><span style=\"color: #008000; text-decoration-color: #008000\">'id'</span>: <span style=\"color: #008000; text-decoration-color: #008000\">'id-7-prod'</span>, <span style=\"color: #008000; text-decoration-color: #008000\">'title'</span>: <span style=\"color: #008000; text-decoration-color: #008000\">'my 7th prod machine'</span><span style=\"font-weight: bold\">}</span>,\n",
       "    <span style=\"font-weight: bold\">{</span><span style=\"color: #008000; text-decoration-color: #008000\">'id'</span>: <span style=\"color: #008000; text-decoration-color: #008000\">'id-8-prod'</span>, <span style=\"color: #008000; text-decoration-color: #008000\">'title'</span>: <span style=\"color: #008000; text-decoration-color: #008000\">'my 8th prod machine'</span><span style=\"font-weight: bold\">}</span>,\n",
       "    <span style=\"font-weight: bold\">{</span><span style=\"color: #008000; text-decoration-color: #008000\">'id'</span>: <span style=\"color: #008000; text-decoration-color: #008000\">'id-9-prod'</span>, <span style=\"color: #008000; text-decoration-color: #008000\">'title'</span>: <span style=\"color: #008000; text-decoration-color: #008000\">'my 9th prod machine'</span><span style=\"font-weight: bold\">}</span>,\n",
       "    <span style=\"font-weight: bold\">{</span><span style=\"color: #008000; text-decoration-color: #008000\">'id'</span>: <span style=\"color: #008000; text-decoration-color: #008000\">'id-10-prod'</span>, <span style=\"color: #008000; text-decoration-color: #008000\">'title'</span>: <span style=\"color: #008000; text-decoration-color: #008000\">'my 10th prod machine'</span><span style=\"font-weight: bold\">}</span>\n",
       "<span style=\"font-weight: bold\">]</span>\n",
       "</pre>\n"
      ],
      "text/plain": [
       "\u001b[1m[\u001b[0m\n",
       "    \u001b[1m{\u001b[0m\u001b[32m'id'\u001b[0m: \u001b[32m'id-1-prod'\u001b[0m, \u001b[32m'title'\u001b[0m: \u001b[32m'my 1th prod machine'\u001b[0m\u001b[1m}\u001b[0m,\n",
       "    \u001b[1m{\u001b[0m\u001b[32m'id'\u001b[0m: \u001b[32m'id-2-prod'\u001b[0m, \u001b[32m'title'\u001b[0m: \u001b[32m'my 2th prod machine'\u001b[0m\u001b[1m}\u001b[0m,\n",
       "    \u001b[1m{\u001b[0m\u001b[32m'id'\u001b[0m: \u001b[32m'id-3-prod'\u001b[0m, \u001b[32m'title'\u001b[0m: \u001b[32m'my 3th prod machine'\u001b[0m\u001b[1m}\u001b[0m,\n",
       "    \u001b[1m{\u001b[0m\u001b[32m'id'\u001b[0m: \u001b[32m'id-4-prod'\u001b[0m, \u001b[32m'title'\u001b[0m: \u001b[32m'my 4th prod machine'\u001b[0m\u001b[1m}\u001b[0m,\n",
       "    \u001b[1m{\u001b[0m\u001b[32m'id'\u001b[0m: \u001b[32m'id-5-prod'\u001b[0m, \u001b[32m'title'\u001b[0m: \u001b[32m'my 5th prod machine'\u001b[0m\u001b[1m}\u001b[0m,\n",
       "    \u001b[1m{\u001b[0m\u001b[32m'id'\u001b[0m: \u001b[32m'id-6-prod'\u001b[0m, \u001b[32m'title'\u001b[0m: \u001b[32m'my 6th prod machine'\u001b[0m\u001b[1m}\u001b[0m,\n",
       "    \u001b[1m{\u001b[0m\u001b[32m'id'\u001b[0m: \u001b[32m'id-7-prod'\u001b[0m, \u001b[32m'title'\u001b[0m: \u001b[32m'my 7th prod machine'\u001b[0m\u001b[1m}\u001b[0m,\n",
       "    \u001b[1m{\u001b[0m\u001b[32m'id'\u001b[0m: \u001b[32m'id-8-prod'\u001b[0m, \u001b[32m'title'\u001b[0m: \u001b[32m'my 8th prod machine'\u001b[0m\u001b[1m}\u001b[0m,\n",
       "    \u001b[1m{\u001b[0m\u001b[32m'id'\u001b[0m: \u001b[32m'id-9-prod'\u001b[0m, \u001b[32m'title'\u001b[0m: \u001b[32m'my 9th prod machine'\u001b[0m\u001b[1m}\u001b[0m,\n",
       "    \u001b[1m{\u001b[0m\u001b[32m'id'\u001b[0m: \u001b[32m'id-10-prod'\u001b[0m, \u001b[32m'title'\u001b[0m: \u001b[32m'my 10th prod machine'\u001b[0m\u001b[1m}\u001b[0m\n",
       "\u001b[1m]\u001b[0m\n"
      ]
     },
     "metadata": {},
     "output_type": "display_data"
    }
   ],
   "source": [
    "ds = create_per_environment_dataset(env=\"prod\")\n",
    "ds.remove_all_index() # reset everything before testing\n",
    "ds.remove_all_cache() # reset everything before testing\n",
    "rprint(ds.search(\"prod\"))"
   ]
  },
  {
   "cell_type": "code",
   "execution_count": null,
   "id": "dc817f4c-bfe9-444a-8f8a-f071b4dc56cd",
   "metadata": {},
   "outputs": [],
   "source": []
  }
 ],
 "metadata": {
  "kernelspec": {
   "display_name": "Python 3 (ipykernel)",
   "language": "python",
   "name": "python3"
  },
  "language_info": {
   "codemirror_mode": {
    "name": "ipython",
    "version": 3
   },
   "file_extension": ".py",
   "mimetype": "text/x-python",
   "name": "python",
   "nbconvert_exporter": "python",
   "pygments_lexer": "ipython3",
   "version": "3.8.11"
  }
 },
 "nbformat": 4,
 "nbformat_minor": 5
}
